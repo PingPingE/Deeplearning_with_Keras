{
  "nbformat": 4,
  "nbformat_minor": 0,
  "metadata": {
    "colab": {
      "name": "day01.ipynb",
      "provenance": [],
      "collapsed_sections": [],
      "authorship_tag": "ABX9TyOJj2f00wR3kJUIDap/iZlT",
      "include_colab_link": true
    },
    "kernelspec": {
      "name": "python3",
      "display_name": "Python 3"
    }
  },
  "cells": [
    {
      "cell_type": "markdown",
      "metadata": {
        "id": "view-in-github",
        "colab_type": "text"
      },
      "source": [
        "<a href=\"https://colab.research.google.com/github/PingPingE/Deeplearning_with_Keras/blob/master/day01.ipynb\" target=\"_parent\"><img src=\"https://colab.research.google.com/assets/colab-badge.svg\" alt=\"Open In Colab\"/></a>"
      ]
    },
    {
      "cell_type": "markdown",
      "metadata": {
        "id": "tXVhVBhqmEZv",
        "colab_type": "text"
      },
      "source": [
        "## 논리연산자 구현하기\n"
      ]
    },
    {
      "cell_type": "code",
      "metadata": {
        "id": "1uyxrG0JHqw-",
        "colab_type": "code",
        "colab": {}
      },
      "source": [
        "def AND1(x1,x2):\n",
        "  if x1==0 and x2==0: return 0\n",
        "  if x1==0 and x2==1: return 0\n",
        "  if x1==1 and x2==0: return 0\n",
        "  return 1\n"
      ],
      "execution_count": null,
      "outputs": []
    },
    {
      "cell_type": "code",
      "metadata": {
        "id": "F-z6KoJBIm50",
        "colab_type": "code",
        "colab": {
          "base_uri": "https://localhost:8080/",
          "height": 88
        },
        "outputId": "ea145c84-13c8-44dc-8fe0-3cfdee46d29c"
      },
      "source": [
        "x = [(0,0),(0,1),(1,0),(1,1)]\n",
        "for i in x:\n",
        "  print(f\"{i} => {AND1(i[0],i[1])}\")"
      ],
      "execution_count": null,
      "outputs": [
        {
          "output_type": "stream",
          "text": [
            "(0, 0) => 0\n",
            "(0, 1) => 0\n",
            "(1, 0) => 0\n",
            "(1, 1) => 1\n"
          ],
          "name": "stdout"
        }
      ]
    },
    {
      "cell_type": "code",
      "metadata": {
        "id": "2YLnAYJwJ_U5",
        "colab_type": "code",
        "colab": {}
      },
      "source": [
        "def AND2(x1,x2):\n",
        "  w1,w2,th= 0.5, 0.5, 0.7\n",
        "  tmp = x1*w1 + x2*w2\n",
        "  if tmp <=th:\n",
        "    return 0\n",
        "  return 1"
      ],
      "execution_count": null,
      "outputs": []
    },
    {
      "cell_type": "code",
      "metadata": {
        "id": "RzPRmAFTKcAs",
        "colab_type": "code",
        "colab": {
          "base_uri": "https://localhost:8080/",
          "height": 88
        },
        "outputId": "c25dacc4-ed7c-48f1-d377-bba56f5f0cd5"
      },
      "source": [
        "for i in x:\n",
        "  print(f\"{i} => {AND2(i[0],i[1])}\")"
      ],
      "execution_count": null,
      "outputs": [
        {
          "output_type": "stream",
          "text": [
            "(0, 0) => 0\n",
            "(0, 1) => 0\n",
            "(1, 0) => 0\n",
            "(1, 1) => 1\n"
          ],
          "name": "stdout"
        }
      ]
    },
    {
      "cell_type": "code",
      "metadata": {
        "id": "X-TVjywPKoJ9",
        "colab_type": "code",
        "colab": {}
      },
      "source": [
        "def OR(x1,x2):\n",
        "  w1,w2,th= 0.5, 0.5, 0.4\n",
        "  tmp = x1*w1 + x2*w2\n",
        "  if tmp <= th:\n",
        "    return 0\n",
        "  return 1"
      ],
      "execution_count": null,
      "outputs": []
    },
    {
      "cell_type": "code",
      "metadata": {
        "id": "J-KvUW_zLYC4",
        "colab_type": "code",
        "colab": {
          "base_uri": "https://localhost:8080/",
          "height": 88
        },
        "outputId": "6559e667-c078-4eaa-d5c5-fff5773c4507"
      },
      "source": [
        "for i in x:\n",
        "  print(f\"{i} => {OR(i[0],i[1])}\")"
      ],
      "execution_count": null,
      "outputs": [
        {
          "output_type": "stream",
          "text": [
            "(0, 0) => 0\n",
            "(0, 1) => 1\n",
            "(1, 0) => 1\n",
            "(1, 1) => 1\n"
          ],
          "name": "stdout"
        }
      ]
    },
    {
      "cell_type": "markdown",
      "metadata": {
        "id": "pA-6u8-xLnn0",
        "colab_type": "text"
      },
      "source": [
        "---------------\n",
        "딥러닝은 w1,w2,th값을 스스로 학습을 통해 도출한다.\n"
      ]
    },
    {
      "cell_type": "code",
      "metadata": {
        "id": "F6S4-I3lLv8K",
        "colab_type": "code",
        "colab": {
          "base_uri": "https://localhost:8080/",
          "height": 35
        },
        "outputId": "942a6ca3-0165-43f8-fa4a-d7b706059bb8"
      },
      "source": [
        "import numpy as np\n",
        "a = np.array([2,3])\n",
        "b = np.array([4,5])\n",
        "c = np.sum(a*b)\n",
        "print(c)"
      ],
      "execution_count": 7,
      "outputs": [
        {
          "output_type": "stream",
          "text": [
            "23\n"
          ],
          "name": "stdout"
        }
      ]
    },
    {
      "cell_type": "code",
      "metadata": {
        "id": "MEdSoSpOLt7K",
        "colab_type": "code",
        "colab": {}
      },
      "source": [
        "def AND3(x1,x2):\n",
        "  x = np.array([x1,x2])\n",
        "  w = np.array([0.5,0.5])\n",
        "  b = -0.7\n",
        "  tmp = np.sum(w*x)+b\n",
        "  if tmp > 0 :\n",
        "    return 1\n",
        "  return 0"
      ],
      "execution_count": null,
      "outputs": []
    },
    {
      "cell_type": "code",
      "metadata": {
        "id": "n-yhOq2NMmuN",
        "colab_type": "code",
        "colab": {
          "base_uri": "https://localhost:8080/",
          "height": 88
        },
        "outputId": "ba0be3b2-2754-4aa0-90ec-2f25fb515a5a"
      },
      "source": [
        "for i in x:\n",
        "  print(f\"{i} => {AND3(i[0],i[1])}\")"
      ],
      "execution_count": null,
      "outputs": [
        {
          "output_type": "stream",
          "text": [
            "(0, 0) => 0\n",
            "(0, 1) => 0\n",
            "(1, 0) => 0\n",
            "(1, 1) => 1\n"
          ],
          "name": "stdout"
        }
      ]
    },
    {
      "cell_type": "code",
      "metadata": {
        "id": "_bHmRRVxN8Uz",
        "colab_type": "code",
        "colab": {}
      },
      "source": [
        "def NAND(x1,x2):\n",
        "  tmp =AND3(x1,x2)\n",
        "  if tmp==1: return 0\n",
        "  return 1"
      ],
      "execution_count": null,
      "outputs": []
    },
    {
      "cell_type": "code",
      "metadata": {
        "id": "JYG7cmhgOHq-",
        "colab_type": "code",
        "colab": {
          "base_uri": "https://localhost:8080/",
          "height": 88
        },
        "outputId": "1f010d1f-b051-4d08-f075-a21578be46c2"
      },
      "source": [
        "for i in x:\n",
        "  print(f\"{i} => {NAND(i[0],i[1])}\")"
      ],
      "execution_count": null,
      "outputs": [
        {
          "output_type": "stream",
          "text": [
            "(0, 0) => 1\n",
            "(0, 1) => 1\n",
            "(1, 0) => 1\n",
            "(1, 1) => 0\n"
          ],
          "name": "stdout"
        }
      ]
    },
    {
      "cell_type": "code",
      "metadata": {
        "id": "CzFZoT-4OJtJ",
        "colab_type": "code",
        "colab": {}
      },
      "source": [
        "def XOR(x1,x2):\n",
        "  tmp1 = NAND(x1,x2)\n",
        "  tmp2 = OR(x1,x2)\n",
        "  return AND(tmp1,tmp2)"
      ],
      "execution_count": null,
      "outputs": []
    },
    {
      "cell_type": "code",
      "metadata": {
        "id": "bIOVm2M7OaQc",
        "colab_type": "code",
        "colab": {
          "base_uri": "https://localhost:8080/",
          "height": 88
        },
        "outputId": "cb76cd5f-8677-47d7-a6b2-d8b5401b675f"
      },
      "source": [
        "for i in x:\n",
        "  print(f\"{i} => {XOR(i[0],i[1])}\")"
      ],
      "execution_count": null,
      "outputs": [
        {
          "output_type": "stream",
          "text": [
            "(0, 0) => 0\n",
            "(0, 1) => 1\n",
            "(1, 0) => 1\n",
            "(1, 1) => 0\n"
          ],
          "name": "stdout"
        }
      ]
    },
    {
      "cell_type": "markdown",
      "metadata": {
        "id": "hJ-elziIOjaY",
        "colab_type": "text"
      },
      "source": [
        "-------------------\n",
        "XOR연산은 AND(NAND,OR)임 -> 연산 3번"
      ]
    },
    {
      "cell_type": "code",
      "metadata": {
        "id": "FmejTPyZOtHE",
        "colab_type": "code",
        "colab": {
          "base_uri": "https://localhost:8080/",
          "height": 35
        },
        "outputId": "55c8027a-87e7-412a-a97a-84dbc9189181"
      },
      "source": [
        "#균등(균일)분포\n",
        "import matplotlib.pyplot as plt\n",
        "import tensorflow as tf\n",
        "tf.__version__\n"
      ],
      "execution_count": null,
      "outputs": [
        {
          "output_type": "execute_result",
          "data": {
            "application/vnd.google.colaboratory.intrinsic+json": {
              "type": "string"
            },
            "text/plain": [
              "'2.3.0'"
            ]
          },
          "metadata": {
            "tags": []
          },
          "execution_count": 55
        }
      ]
    },
    {
      "cell_type": "code",
      "metadata": {
        "id": "u5SI0QC6OVCl",
        "colab_type": "code",
        "colab": {
          "base_uri": "https://localhost:8080/",
          "height": 70
        },
        "outputId": "3bf1ed3d-ee5c-4c41-fc60-0928dfc95a52"
      },
      "source": [
        "#균일 분포로 0~1범위의 랜덤값 생성\n",
        "random_uniform = tf.random.uniform([10000], minval = 0, maxval=1)\n",
        "random_uniform"
      ],
      "execution_count": null,
      "outputs": [
        {
          "output_type": "execute_result",
          "data": {
            "text/plain": [
              "<tf.Tensor: shape=(10000,), dtype=float32, numpy=\n",
              "array([0.89932525, 0.72436   , 0.59483683, ..., 0.75755286, 0.69872916,\n",
              "       0.08148992], dtype=float32)>"
            ]
          },
          "metadata": {
            "tags": []
          },
          "execution_count": 53
        }
      ]
    },
    {
      "cell_type": "code",
      "metadata": {
        "id": "HDff9j7sRulh",
        "colab_type": "code",
        "colab": {
          "base_uri": "https://localhost:8080/",
          "height": 320
        },
        "outputId": "d2c46dee-25ba-482b-c1e6-9f43cdd5a2d3"
      },
      "source": [
        "plt.figure(figsize=(10,5))\n",
        "plt.hist(random_uniform)\n",
        "plt.show()"
      ],
      "execution_count": null,
      "outputs": [
        {
          "output_type": "display_data",
          "data": {
            "image/png": "[encoded data removed]",
            "text/plain": [
              "<Figure size 720x360 with 1 Axes>"
            ]
          },
          "metadata": {
            "tags": [],
            "needs_background": "light"
          }
        }
      ]
    },
    {
      "cell_type": "code",
      "metadata": {
        "id": "X_HvF6SXSebR",
        "colab_type": "code",
        "colab": {}
      },
      "source": [
        "#정규분포\n",
        "random_norm = tf.random.normal([10000])"
      ],
      "execution_count": null,
      "outputs": []
    },
    {
      "cell_type": "code",
      "metadata": {
        "id": "u2LXNQVgS1Nk",
        "colab_type": "code",
        "colab": {
          "base_uri": "https://localhost:8080/",
          "height": 320
        },
        "outputId": "c4717de3-a65d-4a6e-cda2-e4a2130ddf2c"
      },
      "source": [
        "plt.figure(figsize=(10,5))\n",
        "plt.hist(random_norm,bins=100)\n",
        "plt.show()"
      ],
      "execution_count": null,
      "outputs": [
        {
          "output_type": "display_data",
          "data": {
            "image/png": "[encoded data removed]",
            "text/plain": [
              "<Figure size 720x360 with 1 Axes>"
            ]
          },
          "metadata": {
            "tags": [],
            "needs_background": "light"
          }
        }
      ]
    },
    {
      "cell_type": "code",
      "metadata": {
        "id": "_Ar0t1qFW_7V",
        "colab_type": "code",
        "colab": {}
      },
      "source": [
        "#활성화 함수 sigmoid\n",
        "def sigmoid(x):\n",
        "  return 1/(1+np.exp(-x))"
      ],
      "execution_count": null,
      "outputs": []
    },
    {
      "cell_type": "code",
      "metadata": {
        "id": "0XikT1f6XOa8",
        "colab_type": "code",
        "colab": {
          "base_uri": "https://localhost:8080/",
          "height": 281
        },
        "outputId": "2184bd27-7d3c-48ed-c65f-6afb49dc415a"
      },
      "source": [
        "plt.plot(sigmoid(np.arange(-5.0,5.0,0.1)))\n",
        "plt.title(\"sigmoid\")\n",
        "plt.show()"
      ],
      "execution_count": null,
      "outputs": [
        {
          "output_type": "display_data",
          "data": {
            "image/png": "[encoded data removed]",
            "text/plain": [
              "<Figure size 432x288 with 1 Axes>"
            ]
          },
          "metadata": {
            "tags": [],
            "needs_background": "light"
          }
        }
      ]
    },
    {
      "cell_type": "code",
      "metadata": {
        "id": "2BebJddvYhKr",
        "colab_type": "code",
        "colab": {}
      },
      "source": [
        "#활성화 함수 relu\n",
        "def relu(x):\n",
        "  return np.maximum(0,x)"
      ],
      "execution_count": null,
      "outputs": []
    },
    {
      "cell_type": "code",
      "metadata": {
        "id": "YIS4rfjUYohv",
        "colab_type": "code",
        "colab": {
          "base_uri": "https://localhost:8080/",
          "height": 281
        },
        "outputId": "ba79a185-5ab9-41c4-bfbd-d1b0526455cd"
      },
      "source": [
        "plt.plot(relu(np.arange(-5.0,5.0,0.1)))\n",
        "plt.title(\"relu\")\n",
        "plt.show()"
      ],
      "execution_count": null,
      "outputs": [
        {
          "output_type": "display_data",
          "data": {
            "image/png": "[encoded data removed]",
            "text/plain": [
              "<Figure size 432x288 with 1 Axes>"
            ]
          },
          "metadata": {
            "tags": [],
            "needs_background": "light"
          }
        }
      ]
    },
    {
      "cell_type": "code",
      "metadata": {
        "id": "1uRAGffkY4Tr",
        "colab_type": "code",
        "colab": {}
      },
      "source": [
        "import math\n",
        "def tanh(x):\n",
        "  return [math.tanh(xx) for xx in x]"
      ],
      "execution_count": null,
      "outputs": []
    },
    {
      "cell_type": "code",
      "metadata": {
        "id": "Ir2hCzleZAHU",
        "colab_type": "code",
        "colab": {
          "base_uri": "https://localhost:8080/",
          "height": 281
        },
        "outputId": "47bf1948-d9dd-4599-eba3-3e911f65c09a"
      },
      "source": [
        "plt.plot(tanh(np.arange(-5.0,5.0,0.1)))\n",
        "plt.title(\"tanh\")\n",
        "plt.show()"
      ],
      "execution_count": null,
      "outputs": [
        {
          "output_type": "display_data",
          "data": {
            "image/png": "[encoded data removed]",
            "text/plain": [
              "<Figure size 432x288 with 1 Axes>"
            ]
          },
          "metadata": {
            "tags": [],
            "needs_background": "light"
          }
        }
      ]
    },
    {
      "cell_type": "code",
      "metadata": {
        "id": "GQ2VbBVjZc26",
        "colab_type": "code",
        "colab": {
          "base_uri": "https://localhost:8080/",
          "height": 195
        },
        "outputId": "48594139-efed-49cd-8243-1b62e7e36a4b"
      },
      "source": [
        "x,y = 0,1\n",
        "w = tf.random.normal([1],0,1)\n",
        "error = 987654321\n",
        "for i in range(10000):\n",
        "  output = sigmoid(x*w)#sigmoid(0) = 0.5, y=1 -> error 는 계속 0.5일 수 밖에 없음\n",
        "  error = y-output\n",
        "  w =w+x*0.1*error\n",
        "  if i%1000 == 999:\n",
        "    print(f\"{i}. error: {error},output: {output}\")"
      ],
      "execution_count": null,
      "outputs": [
        {
          "output_type": "stream",
          "text": [
            "999. error: [0.5],output: [0.5]\n",
            "1999. error: [0.5],output: [0.5]\n",
            "2999. error: [0.5],output: [0.5]\n",
            "3999. error: [0.5],output: [0.5]\n",
            "4999. error: [0.5],output: [0.5]\n",
            "5999. error: [0.5],output: [0.5]\n",
            "6999. error: [0.5],output: [0.5]\n",
            "7999. error: [0.5],output: [0.5]\n",
            "8999. error: [0.5],output: [0.5]\n",
            "9999. error: [0.5],output: [0.5]\n"
          ],
          "name": "stdout"
        }
      ]
    },
    {
      "cell_type": "markdown",
      "metadata": {
        "id": "eFh-4nLqdTVB",
        "colab_type": "text"
      },
      "source": [
        "-----------\n",
        "sigmoid(0) = 0.5, y=1 -> error 는 계속 0.5일 수 밖에 없음\n",
        "\n",
        "\n",
        "이러한 경우 w가 갱신이 안됨\n"
      ]
    },
    {
      "cell_type": "markdown",
      "metadata": {
        "id": "TyT-qSWckmHe",
        "colab_type": "text"
      },
      "source": [
        "## AND"
      ]
    },
    {
      "cell_type": "code",
      "metadata": {
        "id": "uIo_LozVdVqw",
        "colab_type": "code",
        "colab": {
          "base_uri": "https://localhost:8080/",
          "height": 195
        },
        "outputId": "1261642e-3b60-4084-876c-9704c844ae9b"
      },
      "source": [
        "#경사하강법\n",
        "x,y = 0,1\n",
        "w = tf.random.normal([1],0,1)\n",
        "b = tf.random.normal([1],0,1) #편향 추가\n",
        "error = 987654321\n",
        "for i in range(10000):\n",
        "  output = sigmoid(x*w+1*b)#sigmoid의 입력값이 0이 되지 않도록\n",
        "  error = y-output\n",
        "  w =w+x*0.1*error\n",
        "  b= b+1*0.1*error\n",
        "  if i%1000 == 999:\n",
        "    print(f\"{i}. error: {error},output: {output}. w:{w}, b:{b}\")"
      ],
      "execution_count": null,
      "outputs": [
        {
          "output_type": "stream",
          "text": [
            "999. error: [0.00993836],output: [0.99006164]. w:[0.42719138], b:[4.602362]\n",
            "1999. error: [0.00500083],output: [0.9949992]. w:[0.42719138], b:[5.293623]\n",
            "2999. error: [0.00333798],output: [0.996662]. w:[0.42719138], b:[5.6993628]\n",
            "3999. error: [0.00250441],output: [0.9974956]. w:[0.42719138], b:[5.9874663]\n",
            "4999. error: [0.00200361],output: [0.9979964]. w:[0.42719138], b:[6.210985]\n",
            "5999. error: [0.0016697],output: [0.9983303]. w:[0.42719138], b:[6.3936214]\n",
            "6999. error: [0.00143111],output: [0.9985689]. w:[0.42719138], b:[6.5480356]\n",
            "7999. error: [0.00125217],output: [0.9987478]. w:[0.42719138], b:[6.68179]\n",
            "8999. error: [0.00111288],output: [0.9988871]. w:[0.42719138], b:[6.7997622]\n",
            "9999. error: [0.00100154],output: [0.99899846]. w:[0.42719138], b:[6.9052844]\n"
          ],
          "name": "stdout"
        }
      ]
    },
    {
      "cell_type": "code",
      "metadata": {
        "id": "1e4aguiFbott",
        "colab_type": "code",
        "colab": {
          "base_uri": "https://localhost:8080/",
          "height": 195
        },
        "outputId": "4b53bfb6-62a7-4d6d-8a19-a97a0f3751c5"
      },
      "source": [
        "x = np.array([[1,1],[1,0],[0,1],[0,0]])\n",
        "y= np.array([[1],[0],[0],[0]])\n",
        "\n",
        "w= tf.random.normal([2],0,1) # 항이 2개 이므로 (상수항 제외)\n",
        "b = tf.random.normal([1],0,1) #상수항(편향)\n",
        "for i in range(10000):\n",
        "  for j in range(4):\n",
        "    sum = np.sum(x[j]*w)\n",
        "    output = sigmoid(sum+b) \n",
        "    error = y[j][0]-output #loss\n",
        "    b= b+0.1*error  #0.1:학습률\n",
        "    w = w+x[j]*0.1*error  #0.1:학습률\n",
        "  if i%1000 == 999:\n",
        "    print(f\"{i}.--------------- \\t error: {np.round(error,2)} \\t output: {np.round(output,2)} \\t w:{w} \\t b:{b}\")"
      ],
      "execution_count": null,
      "outputs": [
        {
          "output_type": "stream",
          "text": [
            "999.--------------- \t error: [-0.] \t output: [0.] \t w:[5.5425434 5.5487633] \t b:[-8.504256]\n",
            "1999.--------------- \t error: [-0.] \t output: [0.] \t w:[6.950348 6.95352 ] \t b:[-10.604713]\n",
            "2999.--------------- \t error: [-0.] \t output: [0.] \t w:[7.7778788 7.779999 ] \t b:[-11.842305]\n",
            "3999.--------------- \t error: [-0.] \t output: [0.] \t w:[8.364522 8.366108] \t b:[-12.720371]\n",
            "4999.--------------- \t error: [-0.] \t output: [0.] \t w:[8.81882  8.820083] \t b:[-13.400737]\n",
            "5999.--------------- \t error: [-0.] \t output: [0.] \t w:[9.189517 9.190567] \t b:[-13.956059]\n",
            "6999.--------------- \t error: [-0.] \t output: [0.] \t w:[9.50256  9.503458] \t b:[-14.425114]\n",
            "7999.--------------- \t error: [-0.] \t output: [0.] \t w:[9.773443 9.774232] \t b:[-14.831058]\n",
            "8999.--------------- \t error: [-0.] \t output: [0.] \t w:[10.012163 10.012865] \t b:[-15.188842]\n",
            "9999.--------------- \t error: [-0.] \t output: [0.] \t w:[10.225536 10.226168] \t b:[-15.508663]\n"
          ],
          "name": "stdout"
        }
      ]
    },
    {
      "cell_type": "code",
      "metadata": {
        "id": "xWsgcQ5-iqP7",
        "colab_type": "code",
        "colab": {
          "base_uri": "https://localhost:8080/",
          "height": 88
        },
        "outputId": "ac2f5084-58ae-4063-dac9-bfcb2cdf43c8"
      },
      "source": [
        "for i in range(4):\n",
        "  print(f\"{x[i]} => {sigmoid(np.sum(x[i]*w)+b)}\")"
      ],
      "execution_count": null,
      "outputs": [
        {
          "output_type": "stream",
          "text": [
            "[1 1] => [0.99291766]\n",
            "[1 0] => [0.00505089]\n",
            "[0 1] => [0.00505407]\n",
            "[0 0] => [1.839387e-07]\n"
          ],
          "name": "stdout"
        }
      ]
    },
    {
      "cell_type": "markdown",
      "metadata": {
        "id": "uD0xgKrTkoh1",
        "colab_type": "text"
      },
      "source": [
        "## OR"
      ]
    },
    {
      "cell_type": "code",
      "metadata": {
        "id": "ZOphPJBPklC-",
        "colab_type": "code",
        "colab": {
          "base_uri": "https://localhost:8080/",
          "height": 195
        },
        "outputId": "c9948047-1c7d-41bf-dd6b-fa2a655754ef"
      },
      "source": [
        "x= np.array([[1,1],[1,0],[0,1],[0,0]])\n",
        "y= np.array([[1],[1],[1],[0]])\n",
        "for i in range(10000):\n",
        "  for j in range(4):\n",
        "    output = sigmoid(np.sum(x[j]*w)+b)\n",
        "    error = y[j][0]-output\n",
        "    w = w+0.1*error*x[j]\n",
        "    b = b+0.1*error\n",
        "  if i%1000 == 999:\n",
        "    print(f\"{i}.--------------- \\t error: {np.round(error,2)} \\t output: {np.round(output,2)} \\t w:{w} \\t b:{b}\")"
      ],
      "execution_count": null,
      "outputs": [
        {
          "output_type": "stream",
          "text": [
            "999.--------------- \t error: [-0.05] \t output: [0.05] \t w:[6.7893696 6.7854433] \t b:[-2.9201386]\n",
            "1999.--------------- \t error: [-0.03] \t output: [0.03] \t w:[8.210568 8.208573] \t b:[-3.6392615]\n",
            "2999.--------------- \t error: [-0.02] \t output: [0.02] \t w:[9.039858  9.0385275] \t b:[-4.0566206]\n",
            "3999.--------------- \t error: [-0.01] \t output: [0.01] \t w:[9.626515 9.625518] \t b:[-4.351282]\n",
            "4999.--------------- \t error: [-0.01] \t output: [0.01] \t w:[10.080487 10.079689] \t b:[-4.5790486]\n",
            "5999.--------------- \t error: [-0.01] \t output: [0.01] \t w:[10.450728 10.450061] \t b:[-4.764685]\n",
            "6999.--------------- \t error: [-0.01] \t output: [0.01] \t w:[10.763311 10.762739] \t b:[-4.9213443]\n",
            "7999.--------------- \t error: [-0.01] \t output: [0.01] \t w:[11.033758 11.033258] \t b:[-5.0568423]\n",
            "8999.--------------- \t error: [-0.01] \t output: [0.01] \t w:[11.272079 11.271635] \t b:[-5.1762147]\n",
            "9999.--------------- \t error: [-0.01] \t output: [0.01] \t w:[11.485089 11.484691] \t b:[-5.282891]\n"
          ],
          "name": "stdout"
        }
      ]
    },
    {
      "cell_type": "code",
      "metadata": {
        "id": "sPVhBkDEleCp",
        "colab_type": "code",
        "colab": {
          "base_uri": "https://localhost:8080/",
          "height": 88
        },
        "outputId": "893eff31-73ac-44e7-f3e0-71a18d38b5b7"
      },
      "source": [
        "for i in x:\n",
        "  print(f\"{i} => {sigmoid(np.sum(i*w)+b)}\")"
      ],
      "execution_count": null,
      "outputs": [
        {
          "output_type": "stream",
          "text": [
            "[1 1] => [1.]\n",
            "[1 0] => [0.9979791]\n",
            "[0 1] => [0.9979784]\n",
            "[0 0] => [0.00505208]\n"
          ],
          "name": "stdout"
        }
      ]
    },
    {
      "cell_type": "markdown",
      "metadata": {
        "id": "aOENROhZkqTE",
        "colab_type": "text"
      },
      "source": [
        "## XOR"
      ]
    },
    {
      "cell_type": "code",
      "metadata": {
        "id": "9iVjHotdlwwQ",
        "colab_type": "code",
        "colab": {
          "base_uri": "https://localhost:8080/",
          "height": 195
        },
        "outputId": "d46c46b1-7c01-4f62-9732-ba9da62a14c1"
      },
      "source": [
        "x = np.array([[1,1],[1,0],[0,1],[0,0]])\n",
        "y= np.array([[0],[1],[1],[0]])\n",
        "w = tf.random.normal([2],0,1)\n",
        "b = tf.random.normal([1],0,1)\n",
        "for i in range(10000):\n",
        "  for j in range(4):\n",
        "    output = sigmoid(np.sum(x[j]*w)+b)\n",
        "    error = y[j][0]-output\n",
        "    w = w+0.1*error*x[j]\n",
        "    b = b+0.1*error\n",
        "  if i%1000 == 999:\n",
        "    print(f\"{i}.--------------- \\t error: {np.round(error,2)} \\t output: {np.round(output,2)} \\t w:{w} \\t b:{b}\")"
      ],
      "execution_count": null,
      "outputs": [
        {
          "output_type": "stream",
          "text": [
            "999.--------------- \t error: [-0.51] \t output: [0.51] \t w:[5.1281884e-02 1.1548400e-07] \t b:[-1.527369e-07]\n",
            "1999.--------------- \t error: [-0.51] \t output: [0.51] \t w:[5.1281884e-02 1.1548400e-07] \t b:[-1.527369e-07]\n",
            "2999.--------------- \t error: [-0.51] \t output: [0.51] \t w:[5.1281884e-02 1.1548400e-07] \t b:[-1.527369e-07]\n",
            "3999.--------------- \t error: [-0.51] \t output: [0.51] \t w:[5.1281884e-02 1.1548400e-07] \t b:[-1.527369e-07]\n",
            "4999.--------------- \t error: [-0.51] \t output: [0.51] \t w:[5.1281884e-02 1.1548400e-07] \t b:[-1.527369e-07]\n",
            "5999.--------------- \t error: [-0.51] \t output: [0.51] \t w:[5.1281884e-02 1.1548400e-07] \t b:[-1.527369e-07]\n",
            "6999.--------------- \t error: [-0.51] \t output: [0.51] \t w:[5.1281884e-02 1.1548400e-07] \t b:[-1.527369e-07]\n",
            "7999.--------------- \t error: [-0.51] \t output: [0.51] \t w:[5.1281884e-02 1.1548400e-07] \t b:[-1.527369e-07]\n",
            "8999.--------------- \t error: [-0.51] \t output: [0.51] \t w:[5.1281884e-02 1.1548400e-07] \t b:[-1.527369e-07]\n",
            "9999.--------------- \t error: [-0.51] \t output: [0.51] \t w:[5.1281884e-02 1.1548400e-07] \t b:[-1.527369e-07]\n"
          ],
          "name": "stdout"
        }
      ]
    },
    {
      "cell_type": "code",
      "metadata": {
        "id": "ByiuebY7mZ0A",
        "colab_type": "code",
        "colab": {
          "base_uri": "https://localhost:8080/",
          "height": 88
        },
        "outputId": "e8fdb70d-433b-4710-c980-b83ebd3428bb"
      },
      "source": [
        "for i in x:\n",
        "  print(f\"{i} => {sigmoid(np.sum(i*w)+b)}\")"
      ],
      "execution_count": null,
      "outputs": [
        {
          "output_type": "stream",
          "text": [
            "[1 1] => [0.5128176]\n",
            "[1 0] => [0.5128176]\n",
            "[0 1] => [0.5]\n",
            "[0 0] => [0.5]\n"
          ],
          "name": "stdout"
        }
      ]
    },
    {
      "cell_type": "markdown",
      "metadata": {
        "id": "jFdXnOejnxMo",
        "colab_type": "text"
      },
      "source": [
        "## Keras로 XOR구현"
      ]
    },
    {
      "cell_type": "code",
      "metadata": {
        "id": "egHCkD69nzck",
        "colab_type": "code",
        "colab": {}
      },
      "source": [
        "model = tf.keras.Sequential()\n",
        "model.add(tf.keras.layers.Dense(units=2, activation = 'sigmoid',input_shape=(2,)))\n",
        "model.add(tf.keras.layers.Dense(units=1, activation='sigmoid'))\n"
      ],
      "execution_count": null,
      "outputs": []
    },
    {
      "cell_type": "code",
      "metadata": {
        "id": "k7hsIJNEoLBv",
        "colab_type": "code",
        "colab": {
          "base_uri": "https://localhost:8080/",
          "height": 230
        },
        "outputId": "76aa0fc5-f61e-4d59-c57e-6be1359fcf3e"
      },
      "source": [
        "model.summary()"
      ],
      "execution_count": null,
      "outputs": [
        {
          "output_type": "stream",
          "text": [
            "Model: \"sequential\"\n",
            "_________________________________________________________________\n",
            "Layer (type)                 Output Shape              Param #   \n",
            "=================================================================\n",
            "dense_2 (Dense)              (None, 2)                 6         \n",
            "_________________________________________________________________\n",
            "dense_3 (Dense)              (None, 1)                 3         \n",
            "=================================================================\n",
            "Total params: 9\n",
            "Trainable params: 9\n",
            "Non-trainable params: 0\n",
            "_________________________________________________________________\n"
          ],
          "name": "stdout"
        }
      ]
    },
    {
      "cell_type": "code",
      "metadata": {
        "id": "HL75dI6XpCeX",
        "colab_type": "code",
        "colab": {}
      },
      "source": [
        "model.compile(optimizer=tf.keras.optimizers.SGD(lr=0.3),loss='mse')\n",
        "history= model.fit(x, y,\n",
        "          epochs=5000,\n",
        "          verbose=2,\n",
        "          batch_size=1\n",
        "          )"
      ],
      "execution_count": null,
      "outputs": []
    },
    {
      "cell_type": "code",
      "metadata": {
        "id": "aTRemEd461XW",
        "colab_type": "code",
        "colab": {
          "base_uri": "https://localhost:8080/"
        },
        "outputId": "fec7af22-7f9c-4f98-ae41-634e3e278dd6"
      },
      "source": [
        "model.weights"
      ],
      "execution_count": null,
      "outputs": [
        {
          "output_type": "execute_result",
          "data": {
            "text/plain": [
              "[<tf.Variable 'dense_2/kernel:0' shape=(2, 2) dtype=float32, numpy=\n",
              " array([[-9.329432,  9.246181],\n",
              "        [-5.192651, -3.116655]], dtype=float32)>,\n",
              " <tf.Variable 'dense_2/bias:0' shape=(2,) dtype=float32, numpy=array([0.96906257, 1.7730567 ], dtype=float32)>,\n",
              " <tf.Variable 'dense_3/kernel:0' shape=(2, 1) dtype=float32, numpy=\n",
              " array([[-6.9260726],\n",
              "        [-5.086893 ]], dtype=float32)>,\n",
              " <tf.Variable 'dense_3/bias:0' shape=(1,) dtype=float32, numpy=array([5.076568], dtype=float32)>]"
            ]
          },
          "metadata": {
            "tags": []
          },
          "execution_count": 196
        }
      ]
    },
    {
      "cell_type": "markdown",
      "metadata": {
        "id": "E44sCeKG7JJO",
        "colab_type": "text"
      },
      "source": [
        "------\n",
        "- 1 layer: weights 2쌍이 들어감(2units) + bias 2개(1쌍에 하나니까) \n",
        "- 2 layer: input 1쌍이 들어감(2units에서 나온 두개) + bias 1개\n"
      ]
    },
    {
      "cell_type": "code",
      "metadata": {
        "id": "wAKpum2vqH2Y",
        "colab_type": "code",
        "colab": {
          "base_uri": "https://localhost:8080/",
          "height": 35
        },
        "outputId": "f9289b7a-de56-46f1-9bd1-d0ad44d5ccaa"
      },
      "source": [
        "history.history.keys()"
      ],
      "execution_count": null,
      "outputs": [
        {
          "output_type": "execute_result",
          "data": {
            "text/plain": [
              "dict_keys(['loss'])"
            ]
          },
          "metadata": {
            "tags": []
          },
          "execution_count": 176
        }
      ]
    },
    {
      "cell_type": "code",
      "metadata": {
        "id": "GwQER63EqTZl",
        "colab_type": "code",
        "colab": {
          "base_uri": "https://localhost:8080/",
          "height": 283
        },
        "outputId": "f6a7fa89-27b2-4d98-da96-6fb477c803e2"
      },
      "source": [
        "plt.plot(history.history['loss'])"
      ],
      "execution_count": null,
      "outputs": [
        {
          "output_type": "execute_result",
          "data": {
            "text/plain": [
              "[<matplotlib.lines.Line2D at 0x7f0d6cffc080>]"
            ]
          },
          "metadata": {
            "tags": []
          },
          "execution_count": 193
        },
        {
          "output_type": "display_data",
          "data": {
            "image/png": "[encoded data removed]",
            "text/plain": [
              "<Figure size 432x288 with 1 Axes>"
            ]
          },
          "metadata": {
            "tags": [],
            "needs_background": "light"
          }
        }
      ]
    },
    {
      "cell_type": "code",
      "metadata": {
        "id": "IuxdLARM6nVh",
        "colab_type": "code",
        "colab": {
          "base_uri": "https://localhost:8080/",
          "height": 88
        },
        "outputId": "8d4fe33a-33d1-40b9-eed3-f27e5dc84236"
      },
      "source": [
        "y"
      ],
      "execution_count": null,
      "outputs": [
        {
          "output_type": "execute_result",
          "data": {
            "text/plain": [
              "array([[0],\n",
              "       [1],\n",
              "       [1],\n",
              "       [0]])"
            ]
          },
          "metadata": {
            "tags": []
          },
          "execution_count": 189
        }
      ]
    },
    {
      "cell_type": "code",
      "metadata": {
        "id": "USTC-j566iSb",
        "colab_type": "code",
        "colab": {
          "base_uri": "https://localhost:8080/",
          "height": 88
        },
        "outputId": "1f2d26be-1caf-4743-ca8d-22796f7058d1"
      },
      "source": [
        "model.predict(x)"
      ],
      "execution_count": null,
      "outputs": [
        {
          "output_type": "execute_result",
          "data": {
            "text/plain": [
              "array([[0.50183916],\n",
              "       [0.49995315],\n",
              "       [0.9701377 ],\n",
              "       [0.02090287]], dtype=float32)"
            ]
          },
          "metadata": {
            "tags": []
          },
          "execution_count": 194
        }
      ]
    },
    {
      "cell_type": "code",
      "metadata": {
        "id": "5yy8ipDn8-la",
        "colab_type": "code",
        "colab": {
          "base_uri": "https://localhost:8080/",
          "height": 71
        },
        "outputId": "35d38500-2079-47ac-b465-224df9f0ca8f"
      },
      "source": [
        "# !apt-get update -qq\n",
        "# !apt-get install fonts-nanum* -qq"
      ],
      "execution_count": null,
      "outputs": [
        {
          "output_type": "stream",
          "text": [
            "\n",
            "WARNING: apt does not have a stable CLI interface. Use with caution in scripts.\n",
            "\n"
          ],
          "name": "stdout"
        }
      ]
    },
    {
      "cell_type": "code",
      "metadata": {
        "id": "ugoLpfnr9Vr2",
        "colab_type": "code",
        "colab": {}
      },
      "source": [
        "plt.rcParams[\"font.size\"] = 12\n",
        "plt.rcParams[\"font.family\"] = 'NanumGothic'\n",
        "mpl.rcParams['axes.unicode_minus'] = False"
      ],
      "execution_count": 3,
      "outputs": []
    },
    {
      "cell_type": "code",
      "metadata": {
        "id": "MZecTWQhBW8o",
        "colab_type": "code",
        "colab": {
          "base_uri": "https://localhost:8080/",
          "height": 289
        },
        "outputId": "26fbe695-79cd-443b-a574-91cd708e93e6"
      },
      "source": [
        "plt.text(0.3, 0.3, '한글', size=100)"
      ],
      "execution_count": 5,
      "outputs": [
        {
          "output_type": "execute_result",
          "data": {
            "text/plain": [
              "Text(0.3, 0.3, '한글')"
            ]
          },
          "metadata": {
            "tags": []
          },
          "execution_count": 5
        },
        {
          "output_type": "display_data",
          "data": {
            "image/png": "[encoded data removed]",
            "text/plain": [
              "<Figure size 432x288 with 1 Axes>"
            ]
          },
          "metadata": {
            "tags": [],
            "needs_background": "light"
          }
        }
      ]
    },
    {
      "cell_type": "code",
      "metadata": {
        "id": "dlvahw_v_URF",
        "colab_type": "code",
        "colab": {
          "base_uri": "https://localhost:8080/",
          "height": 281
        },
        "outputId": "e9af2cc6-5de3-45cd-cae7-1844355e859b"
      },
      "source": [
        "#인구증가율\n",
        "pop_inc = [0.3,-0.78,1.26,0.03,1.11,15.17,0.24,-0.24,-0.47,-0.77,-0.37]\n",
        "#고령인구비율\n",
        "pop_old = [12.27,14.44,11.87,18.75,17.52,9.29,16.37,19.78,19.51,12.65,14.74]\n",
        "plt.plot(pop_inc, pop_old,'bo')\n",
        "plt.xlabel(\"인구증가율\")\n",
        "plt.ylabel(\"고령인구비율\")\n",
        "plt.show()"
      ],
      "execution_count": 4,
      "outputs": [
        {
          "output_type": "display_data",
          "data": {
            "image/png": "[encoded data removed]",
            "text/plain": [
              "<Figure size 432x288 with 1 Axes>"
            ]
          },
          "metadata": {
            "tags": [],
            "needs_background": "light"
          }
        }
      ]
    },
    {
      "cell_type": "code",
      "metadata": {
        "id": "Nn8pVrIjCNgZ",
        "colab_type": "code",
        "colab": {}
      },
      "source": [
        "#최소 제곱법\n",
        "\n",
        "#인구증가율\n",
        "x = [0.3,-0.78,1.26,0.03,1.11,15.17,0.24,-0.24,-0.47,-0.77,-0.37]\n",
        "x = x[:5] + x[6:]\n",
        "#고령인구비율\n",
        "y = [12.27,14.44,11.87,18.75,17.52,9.29,16.37,19.78,19.51,12.65,14.74]\n",
        "y = y[:5]+y[6:]\n",
        "\n",
        "x_bar = np.sum(x)/len(x)\n",
        "y_bar = np.sum(y)/len(y)\n",
        "#기울기 a = (x-x평균)(y-y평균)의 합 / (x-x평균)의 제곱의 합\n",
        "#절편 b= y평균-(x평균*a)\n",
        "a = np.sum([(y_-y_bar)*(x_-x_bar) for y_,x_ in list(zip(y,x))])\n",
        "a /= np.sum([(x_-x_bar) for x_ in x])\n",
        "b = y_bar -x_bar*a\n",
        "#원래값 - output이 0에 가까워져야함 \n",
        "#y= a*x + b"
      ],
      "execution_count": 21,
      "outputs": []
    },
    {
      "cell_type": "code",
      "metadata": {
        "id": "gtmJBQqtFRLN",
        "colab_type": "code",
        "colab": {
          "base_uri": "https://localhost:8080/",
          "height": 35
        },
        "outputId": "bbec0598-6fd0-4d5f-95e2-98a0a1ae5ab7"
      },
      "source": [
        "a"
      ],
      "execution_count": 20,
      "outputs": [
        {
          "output_type": "execute_result",
          "data": {
            "text/plain": [
              "-2.426179191257036e+16"
            ]
          },
          "metadata": {
            "tags": []
          },
          "execution_count": 20
        }
      ]
    },
    {
      "cell_type": "code",
      "metadata": {
        "id": "5lMI8qDWEDQq",
        "colab_type": "code",
        "colab": {
          "base_uri": "https://localhost:8080/",
          "height": 35
        },
        "outputId": "079a0b1a-ec06-4903-bd7b-0cbdee661b26"
      },
      "source": [
        "type(x)"
      ],
      "execution_count": 13,
      "outputs": [
        {
          "output_type": "execute_result",
          "data": {
            "text/plain": [
              "numpy.ndarray"
            ]
          },
          "metadata": {
            "tags": []
          },
          "execution_count": 13
        }
      ]
    },
    {
      "cell_type": "code",
      "metadata": {
        "id": "GHlt7gAEEEPJ",
        "colab_type": "code",
        "colab": {
          "base_uri": "https://localhost:8080/",
          "height": 35
        },
        "outputId": "d592669b-00e3-4c74-d8a1-79a76137b07d"
      },
      "source": [
        "x[0]"
      ],
      "execution_count": 19,
      "outputs": [
        {
          "output_type": "execute_result",
          "data": {
            "text/plain": [
              "0.3"
            ]
          },
          "metadata": {
            "tags": []
          },
          "execution_count": 19
        }
      ]
    },
    {
      "cell_type": "code",
      "metadata": {
        "id": "ra2lu5iwMegw",
        "colab_type": "code",
        "colab": {}
      },
      "source": [
        "def compute_loss(x,y): #최소제곱법\n",
        "  y_pred = a*x+b\n",
        "  loss = tf.reduce_mean((y-y_pred)**2)\n",
        "  return loss"
      ],
      "execution_count": 24,
      "outputs": []
    },
    {
      "cell_type": "code",
      "metadata": {
        "id": "_-7BoxOoNHTy",
        "colab_type": "code",
        "colab": {
          "base_uri": "https://localhost:8080/",
          "height": 197
        },
        "outputId": "cf4a269a-db57-4a03-b183-125db261e8b4"
      },
      "source": [
        "for i,j in zip(x,y):\n",
        "  print(compute_loss(i,j))"
      ],
      "execution_count": 27,
      "outputs": [
        {
          "output_type": "stream",
          "text": [
            "tf.Tensor(4.259418444163619e+31, shape=(), dtype=float64)\n",
            "tf.Tensor(3.871573027616731e+32, shape=(), dtype=float64)\n",
            "tf.Tensor(8.890977535165279e+32, shape=(), dtype=float64)\n",
            "tf.Tensor(5.886345468087439e+26, shape=(), dtype=float64)\n",
            "tf.Tensor(6.853124734112993e+32, shape=(), dtype=float64)\n",
            "tf.Tensor(2.571214563915801e+31, shape=(), dtype=float64)\n",
            "tf.Tensor(4.322990975218976e+31, shape=(), dtype=float64)\n",
            "tf.Tensor(1.477478598835717e+32, shape=(), dtype=float64)\n",
            "tf.Tensor(3.776685138671144e+32, shape=(), dtype=float64)\n",
            "tf.Tensor(9.465302376141225e+31, shape=(), dtype=float64)\n"
          ],
          "name": "stdout"
        }
      ]
    },
    {
      "cell_type": "code",
      "metadata": {
        "id": "2ey5_8TAQSW8",
        "colab_type": "code",
        "colab": {}
      },
      "source": [
        ""
      ],
      "execution_count": null,
      "outputs": []
    },
    {
      "cell_type": "code",
      "metadata": {
        "id": "NWX5TzL6N5zu",
        "colab_type": "code",
        "colab": {
          "base_uri": "https://localhost:8080/",
          "height": 377
        },
        "outputId": "7d692452-2863-4163-d7bd-6355364c4be8"
      },
      "source": [
        "\n",
        "import tensorflow as tf\n",
        "import numpy as np\n",
        "import matplotlib.pyplot as plt\n",
        "import random\n",
        "\n",
        "x = [0.3, -0.78, 1.26, 0.03, 1.11, 15.17, 0.24, -0.24, -0.47, -0.77, -0.37]\n",
        "x = x[:5] + x[6:]\n",
        "\n",
        "# 고령인구비율\n",
        "y = [12.27, 14.44, 11.87, 18.75, 17.52, 9.29, 16.37, 19.78, 19.51, 12.65, 14.74]\n",
        "y = y[:5] + y[6:]\n",
        "\n",
        "a =  tf.Variable(random.random()) # 기울기 랜덤값\n",
        "b =  tf.Variable(random.random()) # 절편 랜덤값\n",
        "\n",
        "def compute_loss(): # a * x + b를 구해서 y값을 뺀후 가장 작아지는 값 찾기\n",
        "  y_pred = a * x + b\n",
        "  loss = tf.reduce_mean((y-y_pred)**2)\n",
        "  return loss\n",
        "\n",
        "optimizer = tf.keras.optimizers.Adam(lr=0.07)\n",
        "for i in range(2000):\n",
        "  optimizer.minimize(compute_loss, var_list=[a,b])\n",
        "  if i % 100 == 99:\n",
        "    print(\"{},{},{}\".format(i, a.numpy(), compute_loss().numpy()))"
      ],
      "execution_count": 49,
      "outputs": [
        {
          "output_type": "stream",
          "text": [
            "99,0.012176942080259323,85.37644958496094\n",
            "199,-0.2932167053222656,26.91510009765625\n",
            "299,-0.46774211525917053,11.23845100402832\n",
            "399,-0.548215389251709,8.434603691101074\n",
            "499,-0.5776890516281128,8.106793403625488\n",
            "599,-0.5862908959388733,8.081781387329102\n",
            "699,-0.5882954597473145,8.080541610717773\n",
            "799,-0.5886669754981995,8.080501556396484\n",
            "899,-0.5887211561203003,8.080501556396484\n",
            "999,-0.5887264013290405,8.080501556396484\n",
            "1099,-0.5887264609336853,8.0805025100708\n",
            "1199,-0.5887264609336853,8.0805025100708\n",
            "1299,-0.5887264609336853,8.0805025100708\n",
            "1399,-0.5887264609336853,8.0805025100708\n",
            "1499,-0.5887264609336853,8.0805025100708\n",
            "1599,-0.5887264609336853,8.0805025100708\n",
            "1699,-0.5887262225151062,8.080499649047852\n",
            "1799,-0.5887266993522644,8.0805025100708\n",
            "1899,-0.5887266397476196,8.080500602722168\n",
            "1999,-0.588726282119751,8.080501556396484\n"
          ],
          "name": "stdout"
        }
      ]
    },
    {
      "cell_type": "code",
      "metadata": {
        "id": "eVVsTk4qQVFW",
        "colab_type": "code",
        "colab": {
          "base_uri": "https://localhost:8080/",
          "height": 233
        },
        "outputId": "88f58f09-1ad6-4b25-b902-27ac821be315"
      },
      "source": [
        "x = [0.3, -0.78, 1.26, 0.03, 1.11, 15.17, 0.24, -0.24, -0.47, -0.77, -0.37]\n",
        "x = x[:5] + x[6:]\n",
        "\n",
        "# 고령인구비율\n",
        "y = [12.27, 14.44, 11.87, 18.75, 17.52, 9.29, 16.37, 19.78, 19.51, 12.65, 14.74]\n",
        "y = y[:5] + y[6:]\n",
        "\n",
        "model = tf.keras.Sequential([\n",
        "       tf.keras.layers.Dense(units=6, activation='sigmoid', input_shape=(1,)),\n",
        "       tf.keras.layers.Dense(units=1)                    \n",
        "])\n",
        "\n",
        "model.summary()"
      ],
      "execution_count": 71,
      "outputs": [
        {
          "output_type": "stream",
          "text": [
            "Model: \"sequential_7\"\n",
            "_________________________________________________________________\n",
            "Layer (type)                 Output Shape              Param #   \n",
            "=================================================================\n",
            "dense_13 (Dense)             (None, 6)                 12        \n",
            "_________________________________________________________________\n",
            "dense_14 (Dense)             (None, 1)                 7         \n",
            "=================================================================\n",
            "Total params: 19\n",
            "Trainable params: 19\n",
            "Non-trainable params: 0\n",
            "_________________________________________________________________\n"
          ],
          "name": "stdout"
        }
      ]
    },
    {
      "cell_type": "code",
      "metadata": {
        "id": "prlXD_plQwxJ",
        "colab_type": "code",
        "colab": {}
      },
      "source": [
        "model.compile(optimizer=tf.keras.optimizers.SGD(lr=0.1), loss ='mse')"
      ],
      "execution_count": 63,
      "outputs": []
    },
    {
      "cell_type": "code",
      "metadata": {
        "id": "pEiNPccqSEdC",
        "colab_type": "code",
        "colab": {}
      },
      "source": [
        "history = model.fit(x, y, epochs=2000)"
      ],
      "execution_count": null,
      "outputs": []
    },
    {
      "cell_type": "code",
      "metadata": {
        "id": "7TPMIfYASOEY",
        "colab_type": "code",
        "colab": {
          "base_uri": "https://localhost:8080/",
          "height": 284
        },
        "outputId": "c674e43e-7af4-40ca-d6ab-7c77caec4dfb"
      },
      "source": [
        "plt.plot(history.history['loss'])"
      ],
      "execution_count": 68,
      "outputs": [
        {
          "output_type": "execute_result",
          "data": {
            "text/plain": [
              "[<matplotlib.lines.Line2D at 0x7f136d627198>]"
            ]
          },
          "metadata": {
            "tags": []
          },
          "execution_count": 68
        },
        {
          "output_type": "display_data",
          "data": {
            "image/png": "[encoded data removed]",
            "text/plain": [
              "<Figure size 432x288 with 1 Axes>"
            ]
          },
          "metadata": {
            "tags": [],
            "needs_background": "light"
          }
        }
      ]
    },
    {
      "cell_type": "code",
      "metadata": {
        "id": "nB_y_pPqSSfU",
        "colab_type": "code",
        "colab": {
          "base_uri": "https://localhost:8080/",
          "height": 266
        },
        "outputId": "b792936d-d3ba-45cb-8ab4-2966f79d09e4"
      },
      "source": [
        "line_x = np.arange(min(x), max(x), 0.01)\n",
        "line_y = model.predict(line_x)\n",
        "\n",
        "plt.plot(line_x, line_y, 'r--')\n",
        "plt.plot(x, y, 'bo')\n",
        "plt.show()"
      ],
      "execution_count": 70,
      "outputs": [
        {
          "output_type": "display_data",
          "data": {
            "image/png": "[encoded data removed]",
            "text/plain": [
              "<Figure size 432x288 with 1 Axes>"
            ]
          },
          "metadata": {
            "tags": [],
            "needs_background": "light"
          }
        }
      ]
    },
    {
      "cell_type": "markdown",
      "metadata": {
        "id": "RrQ1hbZOYrdD",
        "colab_type": "text"
      },
      "source": [
        "## TEST"
      ]
    },
    {
      "cell_type": "code",
      "metadata": {
        "id": "0qtsABEqYptG",
        "colab_type": "code",
        "colab": {
          "base_uri": "https://localhost:8080/",
          "height": 53
        },
        "outputId": "66239837-e2d0-4a5e-a4ae-fc28f7eb027e"
      },
      "source": [
        "# 자동차 연비 예측 회귀\n",
        "\n",
        "import tensorflow as tf\n",
        "dataset_path = tf.keras.utils.get_file(\"auto-mpg.data\", \"http://archive.ics.uci.edu/ml/machine-learning-databases/auto-mpg/auto-mpg.data\")\n",
        "dataset_path\n",
        "\n",
        "import pandas as pd\n",
        "column_names = ['MPG','Cylinders','Displacement','Horsepower','Weight', 'Acceleration', 'Model Year', 'Origin']\n",
        "raw_dataset = pd.read_csv(dataset_path, names=column_names, na_values = \"?\", comment='\\t',  sep=\" \", skipinitialspace=True)\n",
        "dataset = raw_dataset.copy()\n",
        "dataset.tail()\n",
        "\n",
        "'''\n",
        "1. 결측치를 확인하시오.\n",
        "2. 결측치 처리하시오.\n",
        "3. Origin은 수치형이 아니고 범주형이므로 원-핫 엔코딩으로 변환하시오.\n",
        "    origin이 1이면 USA 컬럼에 1.0\n",
        "    origin이 2이면 Europe 컬럼에 1.0\n",
        "    origin이 3이면 Japan 컬럼에 1.0\n",
        "    Origin컬럼은 삭제\n",
        "\n",
        "4. dataset에서 랜덤하게 80%는 train_data로 나머지는 test_data로 분할\n",
        "5. 입력값에 대해 standardscaler을 수행하시오. 평균이 0 표준편차가 1\n",
        "6. 모델을 생성하시오.    \n",
        "\n",
        "'''"
      ],
      "execution_count": 110,
      "outputs": [
        {
          "output_type": "execute_result",
          "data": {
            "application/vnd.google.colaboratory.intrinsic+json": {
              "type": "string"
            },
            "text/plain": [
              "'\\n1. 결측치를 확인하시오.\\n2. 결측치 처리하시오.\\n3. Origin은 수치형이 아니고 범주형이므로 원-핫 엔코딩으로 변환하시오.\\n    origin이 1이면 USA 컬럼에 1.0\\n    origin이 2이면 Europe 컬럼에 1.0\\n    origin이 3이면 Japan 컬럼에 1.0\\n    Origin컬럼은 삭제\\n\\n4. dataset에서 랜덤하게 80%는 train_data로 나머지는 test_data로 분할\\n5. 입력값에 대해 standardscaler을 수행하시오. 평균이 0 표준편차가 1\\n6. 모델을 생성하시오.    \\n\\n'"
            ]
          },
          "metadata": {
            "tags": []
          },
          "execution_count": 110
        }
      ]
    },
    {
      "cell_type": "code",
      "metadata": {
        "id": "rOQnQmfyYy0j",
        "colab_type": "code",
        "colab": {
          "base_uri": "https://localhost:8080/",
          "height": 287
        },
        "outputId": "1f007ec5-3ba4-4ae7-b31b-19a5e1b47d6f"
      },
      "source": [
        "dataset.info()"
      ],
      "execution_count": 84,
      "outputs": [
        {
          "output_type": "stream",
          "text": [
            "<class 'pandas.core.frame.DataFrame'>\n",
            "RangeIndex: 398 entries, 0 to 397\n",
            "Data columns (total 8 columns):\n",
            " #   Column        Non-Null Count  Dtype  \n",
            "---  ------        --------------  -----  \n",
            " 0   MPG           398 non-null    float64\n",
            " 1   Cylinders     398 non-null    int64  \n",
            " 2   Displacement  398 non-null    float64\n",
            " 3   Horsepower    392 non-null    float64\n",
            " 4   Weight        398 non-null    float64\n",
            " 5   Acceleration  398 non-null    float64\n",
            " 6   Model Year    398 non-null    int64  \n",
            " 7   Origin        398 non-null    int64  \n",
            "dtypes: float64(5), int64(3)\n",
            "memory usage: 25.0 KB\n"
          ],
          "name": "stdout"
        }
      ]
    },
    {
      "cell_type": "code",
      "metadata": {
        "id": "HI3jYAJmZsEQ",
        "colab_type": "code",
        "colab": {
          "base_uri": "https://localhost:8080/",
          "height": 297
        },
        "outputId": "a62eca06-6c24-4312-b0c7-2db8af1d197b"
      },
      "source": [
        "dataset.describe()"
      ],
      "execution_count": 79,
      "outputs": [
        {
          "output_type": "execute_result",
          "data": {
            "text/html": [
              "<div>\n",
              "<style scoped>\n",
              "    .dataframe tbody tr th:only-of-type {\n",
              "        vertical-align: middle;\n",
              "    }\n",
              "\n",
              "    .dataframe tbody tr th {\n",
              "        vertical-align: top;\n",
              "    }\n",
              "\n",
              "    .dataframe thead th {\n",
              "        text-align: right;\n",
              "    }\n",
              "</style>\n",
              "<table border=\"1\" class=\"dataframe\">\n",
              "  <thead>\n",
              "    <tr style=\"text-align: right;\">\n",
              "      <th></th>\n",
              "      <th>MPG</th>\n",
              "      <th>Cylinders</th>\n",
              "      <th>Displacement</th>\n",
              "      <th>Horsepower</th>\n",
              "      <th>Weight</th>\n",
              "      <th>Acceleration</th>\n",
              "      <th>Model Year</th>\n",
              "      <th>Origin</th>\n",
              "    </tr>\n",
              "  </thead>\n",
              "  <tbody>\n",
              "    <tr>\n",
              "      <th>count</th>\n",
              "      <td>398.000000</td>\n",
              "      <td>398.000000</td>\n",
              "      <td>398.000000</td>\n",
              "      <td>392.000000</td>\n",
              "      <td>398.000000</td>\n",
              "      <td>398.000000</td>\n",
              "      <td>398.000000</td>\n",
              "      <td>398.000000</td>\n",
              "    </tr>\n",
              "    <tr>\n",
              "      <th>mean</th>\n",
              "      <td>23.514573</td>\n",
              "      <td>5.454774</td>\n",
              "      <td>193.425879</td>\n",
              "      <td>104.469388</td>\n",
              "      <td>2970.424623</td>\n",
              "      <td>15.568090</td>\n",
              "      <td>76.010050</td>\n",
              "      <td>1.572864</td>\n",
              "    </tr>\n",
              "    <tr>\n",
              "      <th>std</th>\n",
              "      <td>7.815984</td>\n",
              "      <td>1.701004</td>\n",
              "      <td>104.269838</td>\n",
              "      <td>38.491160</td>\n",
              "      <td>846.841774</td>\n",
              "      <td>2.757689</td>\n",
              "      <td>3.697627</td>\n",
              "      <td>0.802055</td>\n",
              "    </tr>\n",
              "    <tr>\n",
              "      <th>min</th>\n",
              "      <td>9.000000</td>\n",
              "      <td>3.000000</td>\n",
              "      <td>68.000000</td>\n",
              "      <td>46.000000</td>\n",
              "      <td>1613.000000</td>\n",
              "      <td>8.000000</td>\n",
              "      <td>70.000000</td>\n",
              "      <td>1.000000</td>\n",
              "    </tr>\n",
              "    <tr>\n",
              "      <th>25%</th>\n",
              "      <td>17.500000</td>\n",
              "      <td>4.000000</td>\n",
              "      <td>104.250000</td>\n",
              "      <td>75.000000</td>\n",
              "      <td>2223.750000</td>\n",
              "      <td>13.825000</td>\n",
              "      <td>73.000000</td>\n",
              "      <td>1.000000</td>\n",
              "    </tr>\n",
              "    <tr>\n",
              "      <th>50%</th>\n",
              "      <td>23.000000</td>\n",
              "      <td>4.000000</td>\n",
              "      <td>148.500000</td>\n",
              "      <td>93.500000</td>\n",
              "      <td>2803.500000</td>\n",
              "      <td>15.500000</td>\n",
              "      <td>76.000000</td>\n",
              "      <td>1.000000</td>\n",
              "    </tr>\n",
              "    <tr>\n",
              "      <th>75%</th>\n",
              "      <td>29.000000</td>\n",
              "      <td>8.000000</td>\n",
              "      <td>262.000000</td>\n",
              "      <td>126.000000</td>\n",
              "      <td>3608.000000</td>\n",
              "      <td>17.175000</td>\n",
              "      <td>79.000000</td>\n",
              "      <td>2.000000</td>\n",
              "    </tr>\n",
              "    <tr>\n",
              "      <th>max</th>\n",
              "      <td>46.600000</td>\n",
              "      <td>8.000000</td>\n",
              "      <td>455.000000</td>\n",
              "      <td>230.000000</td>\n",
              "      <td>5140.000000</td>\n",
              "      <td>24.800000</td>\n",
              "      <td>82.000000</td>\n",
              "      <td>3.000000</td>\n",
              "    </tr>\n",
              "  </tbody>\n",
              "</table>\n",
              "</div>"
            ],
            "text/plain": [
              "              MPG   Cylinders  ...  Model Year      Origin\n",
              "count  398.000000  398.000000  ...  398.000000  398.000000\n",
              "mean    23.514573    5.454774  ...   76.010050    1.572864\n",
              "std      7.815984    1.701004  ...    3.697627    0.802055\n",
              "min      9.000000    3.000000  ...   70.000000    1.000000\n",
              "25%     17.500000    4.000000  ...   73.000000    1.000000\n",
              "50%     23.000000    4.000000  ...   76.000000    1.000000\n",
              "75%     29.000000    8.000000  ...   79.000000    2.000000\n",
              "max     46.600000    8.000000  ...   82.000000    3.000000\n",
              "\n",
              "[8 rows x 8 columns]"
            ]
          },
          "metadata": {
            "tags": []
          },
          "execution_count": 79
        }
      ]
    },
    {
      "cell_type": "markdown",
      "metadata": {
        "id": "K9lQUzsGaaho",
        "colab_type": "text"
      },
      "source": [
        "- 결측치 확인"
      ]
    },
    {
      "cell_type": "code",
      "metadata": {
        "id": "zBni_X25Zt8V",
        "colab_type": "code",
        "colab": {
          "base_uri": "https://localhost:8080/",
          "height": 179
        },
        "outputId": "37a2803f-2fab-448b-efc1-b4b719dede9c"
      },
      "source": [
        "dataset.isnull().sum()"
      ],
      "execution_count": 83,
      "outputs": [
        {
          "output_type": "execute_result",
          "data": {
            "text/plain": [
              "MPG             0\n",
              "Cylinders       0\n",
              "Displacement    0\n",
              "Horsepower      6\n",
              "Weight          0\n",
              "Acceleration    0\n",
              "Model Year      0\n",
              "Origin          0\n",
              "dtype: int64"
            ]
          },
          "metadata": {
            "tags": []
          },
          "execution_count": 83
        }
      ]
    },
    {
      "cell_type": "markdown",
      "metadata": {
        "id": "_pH4n5BJaW1k",
        "colab_type": "text"
      },
      "source": [
        "- 결측치 처리"
      ]
    },
    {
      "cell_type": "code",
      "metadata": {
        "id": "iXQCor1saDKh",
        "colab_type": "code",
        "colab": {
          "base_uri": "https://localhost:8080/",
          "height": 235
        },
        "outputId": "100bb010-cd21-4183-a777-35301ea68b94"
      },
      "source": [
        "dataset.loc[dataset.Horsepower.isnull()]"
      ],
      "execution_count": 91,
      "outputs": [
        {
          "output_type": "execute_result",
          "data": {
            "text/html": [
              "<div>\n",
              "<style scoped>\n",
              "    .dataframe tbody tr th:only-of-type {\n",
              "        vertical-align: middle;\n",
              "    }\n",
              "\n",
              "    .dataframe tbody tr th {\n",
              "        vertical-align: top;\n",
              "    }\n",
              "\n",
              "    .dataframe thead th {\n",
              "        text-align: right;\n",
              "    }\n",
              "</style>\n",
              "<table border=\"1\" class=\"dataframe\">\n",
              "  <thead>\n",
              "    <tr style=\"text-align: right;\">\n",
              "      <th></th>\n",
              "      <th>MPG</th>\n",
              "      <th>Cylinders</th>\n",
              "      <th>Displacement</th>\n",
              "      <th>Horsepower</th>\n",
              "      <th>Weight</th>\n",
              "      <th>Acceleration</th>\n",
              "      <th>Model Year</th>\n",
              "      <th>Origin</th>\n",
              "    </tr>\n",
              "  </thead>\n",
              "  <tbody>\n",
              "    <tr>\n",
              "      <th>32</th>\n",
              "      <td>25.0</td>\n",
              "      <td>4</td>\n",
              "      <td>98.0</td>\n",
              "      <td>NaN</td>\n",
              "      <td>2046.0</td>\n",
              "      <td>19.0</td>\n",
              "      <td>71</td>\n",
              "      <td>1</td>\n",
              "    </tr>\n",
              "    <tr>\n",
              "      <th>126</th>\n",
              "      <td>21.0</td>\n",
              "      <td>6</td>\n",
              "      <td>200.0</td>\n",
              "      <td>NaN</td>\n",
              "      <td>2875.0</td>\n",
              "      <td>17.0</td>\n",
              "      <td>74</td>\n",
              "      <td>1</td>\n",
              "    </tr>\n",
              "    <tr>\n",
              "      <th>330</th>\n",
              "      <td>40.9</td>\n",
              "      <td>4</td>\n",
              "      <td>85.0</td>\n",
              "      <td>NaN</td>\n",
              "      <td>1835.0</td>\n",
              "      <td>17.3</td>\n",
              "      <td>80</td>\n",
              "      <td>2</td>\n",
              "    </tr>\n",
              "    <tr>\n",
              "      <th>336</th>\n",
              "      <td>23.6</td>\n",
              "      <td>4</td>\n",
              "      <td>140.0</td>\n",
              "      <td>NaN</td>\n",
              "      <td>2905.0</td>\n",
              "      <td>14.3</td>\n",
              "      <td>80</td>\n",
              "      <td>1</td>\n",
              "    </tr>\n",
              "    <tr>\n",
              "      <th>354</th>\n",
              "      <td>34.5</td>\n",
              "      <td>4</td>\n",
              "      <td>100.0</td>\n",
              "      <td>NaN</td>\n",
              "      <td>2320.0</td>\n",
              "      <td>15.8</td>\n",
              "      <td>81</td>\n",
              "      <td>2</td>\n",
              "    </tr>\n",
              "    <tr>\n",
              "      <th>374</th>\n",
              "      <td>23.0</td>\n",
              "      <td>4</td>\n",
              "      <td>151.0</td>\n",
              "      <td>NaN</td>\n",
              "      <td>3035.0</td>\n",
              "      <td>20.5</td>\n",
              "      <td>82</td>\n",
              "      <td>1</td>\n",
              "    </tr>\n",
              "  </tbody>\n",
              "</table>\n",
              "</div>"
            ],
            "text/plain": [
              "      MPG  Cylinders  Displacement  ...  Acceleration  Model Year  Origin\n",
              "32   25.0          4          98.0  ...          19.0          71       1\n",
              "126  21.0          6         200.0  ...          17.0          74       1\n",
              "330  40.9          4          85.0  ...          17.3          80       2\n",
              "336  23.6          4         140.0  ...          14.3          80       1\n",
              "354  34.5          4         100.0  ...          15.8          81       2\n",
              "374  23.0          4         151.0  ...          20.5          82       1\n",
              "\n",
              "[6 rows x 8 columns]"
            ]
          },
          "metadata": {
            "tags": []
          },
          "execution_count": 91
        }
      ]
    },
    {
      "cell_type": "markdown",
      "metadata": {
        "id": "s8_r3owPbRI9",
        "colab_type": "text"
      },
      "source": [
        "------------------\n",
        "다른 컬럼은 평균에 크게 벗어나는 것이 없어 정상적인 데이터라고 판단 -> Horsepower는 평균으로 채우자\n"
      ]
    },
    {
      "cell_type": "code",
      "metadata": {
        "id": "uibqd2Mcaf3w",
        "colab_type": "code",
        "colab": {}
      },
      "source": [
        "dataset.Horsepower.fillna(dataset.Horsepower.mean(),inplace = True)"
      ],
      "execution_count": 111,
      "outputs": []
    },
    {
      "cell_type": "code",
      "metadata": {
        "id": "ezpfNVk4bOmn",
        "colab_type": "code",
        "colab": {
          "base_uri": "https://localhost:8080/",
          "height": 179
        },
        "outputId": "d1df50a9-07c6-4048-b2e6-7de0862c122e"
      },
      "source": [
        "dataset.isnull().sum()"
      ],
      "execution_count": 112,
      "outputs": [
        {
          "output_type": "execute_result",
          "data": {
            "text/plain": [
              "MPG             0\n",
              "Cylinders       0\n",
              "Displacement    0\n",
              "Horsepower      0\n",
              "Weight          0\n",
              "Acceleration    0\n",
              "Model Year      0\n",
              "Origin          0\n",
              "dtype: int64"
            ]
          },
          "metadata": {
            "tags": []
          },
          "execution_count": 112
        }
      ]
    },
    {
      "cell_type": "markdown",
      "metadata": {
        "id": "vI-tmU5kbt6K",
        "colab_type": "text"
      },
      "source": [
        "- Origin -> One-hot encoding"
      ]
    },
    {
      "cell_type": "code",
      "metadata": {
        "id": "ROPho6bCbQC-",
        "colab_type": "code",
        "colab": {}
      },
      "source": [
        "one_h = pd.get_dummies(dataset.Origin.replace({1:'USA', 2:'Europe',3:'Japan'}))"
      ],
      "execution_count": 113,
      "outputs": []
    },
    {
      "cell_type": "code",
      "metadata": {
        "id": "Fjl9t0FGcutg",
        "colab_type": "code",
        "colab": {}
      },
      "source": [
        "dataset.drop('Origin',axis=1,inplace=True)\n",
        "dataset = pd.concat([dataset, one_h], axis=1)"
      ],
      "execution_count": 114,
      "outputs": []
    },
    {
      "cell_type": "code",
      "metadata": {
        "id": "iL1ukaomdBho",
        "colab_type": "code",
        "colab": {
          "base_uri": "https://localhost:8080/",
          "height": 323
        },
        "outputId": "25b72a5c-23e7-44a0-98b3-673a2571f41b"
      },
      "source": [
        "dataset.info()"
      ],
      "execution_count": 115,
      "outputs": [
        {
          "output_type": "stream",
          "text": [
            "<class 'pandas.core.frame.DataFrame'>\n",
            "RangeIndex: 398 entries, 0 to 397\n",
            "Data columns (total 10 columns):\n",
            " #   Column        Non-Null Count  Dtype  \n",
            "---  ------        --------------  -----  \n",
            " 0   MPG           398 non-null    float64\n",
            " 1   Cylinders     398 non-null    int64  \n",
            " 2   Displacement  398 non-null    float64\n",
            " 3   Horsepower    398 non-null    float64\n",
            " 4   Weight        398 non-null    float64\n",
            " 5   Acceleration  398 non-null    float64\n",
            " 6   Model Year    398 non-null    int64  \n",
            " 7   Europe        398 non-null    uint8  \n",
            " 8   Japan         398 non-null    uint8  \n",
            " 9   USA           398 non-null    uint8  \n",
            "dtypes: float64(5), int64(2), uint8(3)\n",
            "memory usage: 23.1 KB\n"
          ],
          "name": "stdout"
        }
      ]
    },
    {
      "cell_type": "markdown",
      "metadata": {
        "id": "CUy7ObuhdoSV",
        "colab_type": "text"
      },
      "source": [
        "-  입력값에 대해 standardscaler을 수행하시오. 평균이 0 표준편차가 1"
      ]
    },
    {
      "cell_type": "code",
      "metadata": {
        "id": "fYyryYkSf3HQ",
        "colab_type": "code",
        "colab": {}
      },
      "source": [
        "x= dataset.drop('MPG',axis=1)\n",
        "y= dataset['MPG']"
      ],
      "execution_count": 137,
      "outputs": []
    },
    {
      "cell_type": "code",
      "metadata": {
        "id": "qoR-2QdWgUMf",
        "colab_type": "code",
        "colab": {
          "base_uri": "https://localhost:8080/",
          "height": 305
        },
        "outputId": "e3fe7abb-7137-4867-ef53-87bff66b9ee3"
      },
      "source": [
        "x.info()"
      ],
      "execution_count": 138,
      "outputs": [
        {
          "output_type": "stream",
          "text": [
            "<class 'pandas.core.frame.DataFrame'>\n",
            "RangeIndex: 398 entries, 0 to 397\n",
            "Data columns (total 9 columns):\n",
            " #   Column        Non-Null Count  Dtype  \n",
            "---  ------        --------------  -----  \n",
            " 0   Cylinders     398 non-null    int64  \n",
            " 1   Displacement  398 non-null    float64\n",
            " 2   Horsepower    398 non-null    float64\n",
            " 3   Weight        398 non-null    float64\n",
            " 4   Acceleration  398 non-null    float64\n",
            " 5   Model Year    398 non-null    int64  \n",
            " 6   Europe        398 non-null    uint8  \n",
            " 7   Japan         398 non-null    uint8  \n",
            " 8   USA           398 non-null    uint8  \n",
            "dtypes: float64(4), int64(2), uint8(3)\n",
            "memory usage: 19.9 KB\n"
          ],
          "name": "stdout"
        }
      ]
    },
    {
      "cell_type": "code",
      "metadata": {
        "id": "wYyMMqtdgrVQ",
        "colab_type": "code",
        "colab": {}
      },
      "source": [
        "stand_cols = x.columns[:-3]"
      ],
      "execution_count": 145,
      "outputs": []
    },
    {
      "cell_type": "code",
      "metadata": {
        "id": "IRjaHyb1f3iS",
        "colab_type": "code",
        "colab": {
          "base_uri": "https://localhost:8080/",
          "height": 71
        },
        "outputId": "c2b302f9-ed99-4d04-8186-6af52fe22398"
      },
      "source": [
        "stand_cols"
      ],
      "execution_count": 146,
      "outputs": [
        {
          "output_type": "execute_result",
          "data": {
            "text/plain": [
              "Index(['Cylinders', 'Displacement', 'Horsepower', 'Weight', 'Acceleration',\n",
              "       'Model Year'],\n",
              "      dtype='object')"
            ]
          },
          "metadata": {
            "tags": []
          },
          "execution_count": 146
        }
      ]
    },
    {
      "cell_type": "code",
      "metadata": {
        "id": "KDB8nM2gftv_",
        "colab_type": "code",
        "colab": {}
      },
      "source": [
        "from sklearn.preprocessing import StandardScaler\n",
        "stand = StandardScaler()\n",
        "x[stand_cols] = stand.fit_transform(x[stand_cols])"
      ],
      "execution_count": 149,
      "outputs": []
    },
    {
      "cell_type": "code",
      "metadata": {
        "id": "n6pM3BV1g7ab",
        "colab_type": "code",
        "colab": {
          "base_uri": "https://localhost:8080/",
          "height": 297
        },
        "outputId": "03855b0b-bbb8-47b9-985d-53a3fa3fd851"
      },
      "source": [
        "x.describe()"
      ],
      "execution_count": 151,
      "outputs": [
        {
          "output_type": "execute_result",
          "data": {
            "text/html": [
              "<div>\n",
              "<style scoped>\n",
              "    .dataframe tbody tr th:only-of-type {\n",
              "        vertical-align: middle;\n",
              "    }\n",
              "\n",
              "    .dataframe tbody tr th {\n",
              "        vertical-align: top;\n",
              "    }\n",
              "\n",
              "    .dataframe thead th {\n",
              "        text-align: right;\n",
              "    }\n",
              "</style>\n",
              "<table border=\"1\" class=\"dataframe\">\n",
              "  <thead>\n",
              "    <tr style=\"text-align: right;\">\n",
              "      <th></th>\n",
              "      <th>Cylinders</th>\n",
              "      <th>Displacement</th>\n",
              "      <th>Horsepower</th>\n",
              "      <th>Weight</th>\n",
              "      <th>Acceleration</th>\n",
              "      <th>Model Year</th>\n",
              "      <th>Europe</th>\n",
              "      <th>Japan</th>\n",
              "      <th>USA</th>\n",
              "    </tr>\n",
              "  </thead>\n",
              "  <tbody>\n",
              "    <tr>\n",
              "      <th>count</th>\n",
              "      <td>3.980000e+02</td>\n",
              "      <td>3.980000e+02</td>\n",
              "      <td>3.980000e+02</td>\n",
              "      <td>3.980000e+02</td>\n",
              "      <td>3.980000e+02</td>\n",
              "      <td>3.980000e+02</td>\n",
              "      <td>398.000000</td>\n",
              "      <td>398.000000</td>\n",
              "      <td>398.000000</td>\n",
              "    </tr>\n",
              "    <tr>\n",
              "      <th>mean</th>\n",
              "      <td>-5.171742e-16</td>\n",
              "      <td>-8.312725e-17</td>\n",
              "      <td>4.287469e-16</td>\n",
              "      <td>-9.902743e-17</td>\n",
              "      <td>8.982206e-17</td>\n",
              "      <td>-8.837152e-16</td>\n",
              "      <td>0.175879</td>\n",
              "      <td>0.198492</td>\n",
              "      <td>0.625628</td>\n",
              "    </tr>\n",
              "    <tr>\n",
              "      <th>std</th>\n",
              "      <td>1.001259e+00</td>\n",
              "      <td>1.001259e+00</td>\n",
              "      <td>1.001259e+00</td>\n",
              "      <td>1.001259e+00</td>\n",
              "      <td>1.001259e+00</td>\n",
              "      <td>1.001259e+00</td>\n",
              "      <td>0.381197</td>\n",
              "      <td>0.399367</td>\n",
              "      <td>0.484569</td>\n",
              "    </tr>\n",
              "    <tr>\n",
              "      <th>min</th>\n",
              "      <td>-1.444949e+00</td>\n",
              "      <td>-1.204411e+00</td>\n",
              "      <td>-1.532571e+00</td>\n",
              "      <td>-1.604943e+00</td>\n",
              "      <td>-2.747814e+00</td>\n",
              "      <td>-1.627426e+00</td>\n",
              "      <td>0.000000</td>\n",
              "      <td>0.000000</td>\n",
              "      <td>0.000000</td>\n",
              "    </tr>\n",
              "    <tr>\n",
              "      <th>25%</th>\n",
              "      <td>-8.563206e-01</td>\n",
              "      <td>-8.563178e-01</td>\n",
              "      <td>-7.462258e-01</td>\n",
              "      <td>-8.828266e-01</td>\n",
              "      <td>-6.328794e-01</td>\n",
              "      <td>-8.150739e-01</td>\n",
              "      <td>0.000000</td>\n",
              "      <td>0.000000</td>\n",
              "      <td>0.000000</td>\n",
              "    </tr>\n",
              "    <tr>\n",
              "      <th>50%</th>\n",
              "      <td>-8.563206e-01</td>\n",
              "      <td>-4.314040e-01</td>\n",
              "      <td>-2.482070e-01</td>\n",
              "      <td>-1.973624e-01</td>\n",
              "      <td>-2.472221e-02</td>\n",
              "      <td>-2.721449e-03</td>\n",
              "      <td>0.000000</td>\n",
              "      <td>0.000000</td>\n",
              "      <td>1.000000</td>\n",
              "    </tr>\n",
              "    <tr>\n",
              "      <th>75%</th>\n",
              "      <td>1.498191e+00</td>\n",
              "      <td>6.584879e-01</td>\n",
              "      <td>5.381385e-01</td>\n",
              "      <td>7.538337e-01</td>\n",
              "      <td>5.834349e-01</td>\n",
              "      <td>8.096310e-01</td>\n",
              "      <td>0.000000</td>\n",
              "      <td>0.000000</td>\n",
              "      <td>1.000000</td>\n",
              "    </tr>\n",
              "    <tr>\n",
              "      <th>max</th>\n",
              "      <td>1.498191e+00</td>\n",
              "      <td>2.511784e+00</td>\n",
              "      <td>3.290348e+00</td>\n",
              "      <td>2.565185e+00</td>\n",
              "      <td>3.351912e+00</td>\n",
              "      <td>1.621983e+00</td>\n",
              "      <td>1.000000</td>\n",
              "      <td>1.000000</td>\n",
              "      <td>1.000000</td>\n",
              "    </tr>\n",
              "  </tbody>\n",
              "</table>\n",
              "</div>"
            ],
            "text/plain": [
              "          Cylinders  Displacement  ...       Japan         USA\n",
              "count  3.980000e+02  3.980000e+02  ...  398.000000  398.000000\n",
              "mean  -5.171742e-16 -8.312725e-17  ...    0.198492    0.625628\n",
              "std    1.001259e+00  1.001259e+00  ...    0.399367    0.484569\n",
              "min   -1.444949e+00 -1.204411e+00  ...    0.000000    0.000000\n",
              "25%   -8.563206e-01 -8.563178e-01  ...    0.000000    0.000000\n",
              "50%   -8.563206e-01 -4.314040e-01  ...    0.000000    1.000000\n",
              "75%    1.498191e+00  6.584879e-01  ...    0.000000    1.000000\n",
              "max    1.498191e+00  2.511784e+00  ...    1.000000    1.000000\n",
              "\n",
              "[8 rows x 9 columns]"
            ]
          },
          "metadata": {
            "tags": []
          },
          "execution_count": 151
        }
      ]
    },
    {
      "cell_type": "markdown",
      "metadata": {
        "id": "5WpWIltMdcUG",
        "colab_type": "text"
      },
      "source": [
        "- dataset에서 랜덤하게 80%는 train_data로 나머지는 test_data로 분할"
      ]
    },
    {
      "cell_type": "code",
      "metadata": {
        "id": "PwcyZpGpdxFj",
        "colab_type": "code",
        "colab": {}
      },
      "source": [
        "from sklearn.model_selection import train_test_split\n",
        "X_train, X_test, y_train, y_test = train_test_split(x,y,test_size=0.2)"
      ],
      "execution_count": 152,
      "outputs": []
    },
    {
      "cell_type": "code",
      "metadata": {
        "id": "NjoyTz_reZKQ",
        "colab_type": "code",
        "colab": {
          "base_uri": "https://localhost:8080/",
          "height": 419
        },
        "outputId": "26ed52f5-d1c4-40f4-a548-d0bea512cfb5"
      },
      "source": [
        "X_test"
      ],
      "execution_count": 153,
      "outputs": [
        {
          "output_type": "execute_result",
          "data": {
            "text/html": [
              "<div>\n",
              "<style scoped>\n",
              "    .dataframe tbody tr th:only-of-type {\n",
              "        vertical-align: middle;\n",
              "    }\n",
              "\n",
              "    .dataframe tbody tr th {\n",
              "        vertical-align: top;\n",
              "    }\n",
              "\n",
              "    .dataframe thead th {\n",
              "        text-align: right;\n",
              "    }\n",
              "</style>\n",
              "<table border=\"1\" class=\"dataframe\">\n",
              "  <thead>\n",
              "    <tr style=\"text-align: right;\">\n",
              "      <th></th>\n",
              "      <th>Cylinders</th>\n",
              "      <th>Displacement</th>\n",
              "      <th>Horsepower</th>\n",
              "      <th>Weight</th>\n",
              "      <th>Acceleration</th>\n",
              "      <th>Model Year</th>\n",
              "      <th>Europe</th>\n",
              "      <th>Japan</th>\n",
              "      <th>USA</th>\n",
              "    </tr>\n",
              "  </thead>\n",
              "  <tbody>\n",
              "    <tr>\n",
              "      <th>385</th>\n",
              "      <td>-0.856321</td>\n",
              "      <td>-0.983552</td>\n",
              "      <td>-0.982129</td>\n",
              "      <td>-1.153288</td>\n",
              "      <td>0.229433</td>\n",
              "      <td>1.621983</td>\n",
              "      <td>0</td>\n",
              "      <td>1</td>\n",
              "      <td>0</td>\n",
              "    </tr>\n",
              "    <tr>\n",
              "      <th>5</th>\n",
              "      <td>1.498191</td>\n",
              "      <td>2.262118</td>\n",
              "      <td>2.451579</td>\n",
              "      <td>1.620492</td>\n",
              "      <td>-2.021656</td>\n",
              "      <td>-1.627426</td>\n",
              "      <td>0</td>\n",
              "      <td>0</td>\n",
              "      <td>1</td>\n",
              "    </tr>\n",
              "    <tr>\n",
              "      <th>196</th>\n",
              "      <td>-0.856321</td>\n",
              "      <td>-0.916334</td>\n",
              "      <td>-1.165610</td>\n",
              "      <td>-0.953472</td>\n",
              "      <td>2.371599</td>\n",
              "      <td>-0.002721</td>\n",
              "      <td>0</td>\n",
              "      <td>0</td>\n",
              "      <td>1</td>\n",
              "    </tr>\n",
              "    <tr>\n",
              "      <th>113</th>\n",
              "      <td>0.320935</td>\n",
              "      <td>-0.368987</td>\n",
              "      <td>0.066331</td>\n",
              "      <td>-0.589310</td>\n",
              "      <td>-0.569341</td>\n",
              "      <td>-0.815074</td>\n",
              "      <td>0</td>\n",
              "      <td>0</td>\n",
              "      <td>1</td>\n",
              "    </tr>\n",
              "    <tr>\n",
              "      <th>293</th>\n",
              "      <td>-0.856321</td>\n",
              "      <td>-1.002757</td>\n",
              "      <td>-0.877283</td>\n",
              "      <td>-1.236052</td>\n",
              "      <td>-0.569341</td>\n",
              "      <td>0.809631</td>\n",
              "      <td>1</td>\n",
              "      <td>0</td>\n",
              "      <td>0</td>\n",
              "    </tr>\n",
              "    <tr>\n",
              "      <th>...</th>\n",
              "      <td>...</td>\n",
              "      <td>...</td>\n",
              "      <td>...</td>\n",
              "      <td>...</td>\n",
              "      <td>...</td>\n",
              "      <td>...</td>\n",
              "      <td>...</td>\n",
              "      <td>...</td>\n",
              "      <td>...</td>\n",
              "    </tr>\n",
              "    <tr>\n",
              "      <th>315</th>\n",
              "      <td>-0.856321</td>\n",
              "      <td>-0.407398</td>\n",
              "      <td>-0.379265</td>\n",
              "      <td>0.038515</td>\n",
              "      <td>1.645441</td>\n",
              "      <td>1.080415</td>\n",
              "      <td>0</td>\n",
              "      <td>0</td>\n",
              "      <td>1</td>\n",
              "    </tr>\n",
              "    <tr>\n",
              "      <th>328</th>\n",
              "      <td>-0.856321</td>\n",
              "      <td>-0.455410</td>\n",
              "      <td>-0.982129</td>\n",
              "      <td>0.330554</td>\n",
              "      <td>2.262675</td>\n",
              "      <td>1.080415</td>\n",
              "      <td>1</td>\n",
              "      <td>0</td>\n",
              "      <td>0</td>\n",
              "    </tr>\n",
              "    <tr>\n",
              "      <th>299</th>\n",
              "      <td>-0.856321</td>\n",
              "      <td>-0.503423</td>\n",
              "      <td>-0.877283</td>\n",
              "      <td>0.259614</td>\n",
              "      <td>3.351912</td>\n",
              "      <td>0.809631</td>\n",
              "      <td>1</td>\n",
              "      <td>0</td>\n",
              "      <td>0</td>\n",
              "    </tr>\n",
              "    <tr>\n",
              "      <th>231</th>\n",
              "      <td>1.498191</td>\n",
              "      <td>1.983643</td>\n",
              "      <td>2.241887</td>\n",
              "      <td>1.601575</td>\n",
              "      <td>-1.222883</td>\n",
              "      <td>0.268063</td>\n",
              "      <td>0</td>\n",
              "      <td>0</td>\n",
              "      <td>1</td>\n",
              "    </tr>\n",
              "    <tr>\n",
              "      <th>295</th>\n",
              "      <td>-0.856321</td>\n",
              "      <td>-0.916334</td>\n",
              "      <td>-0.641380</td>\n",
              "      <td>-1.247875</td>\n",
              "      <td>-0.424109</td>\n",
              "      <td>0.809631</td>\n",
              "      <td>0</td>\n",
              "      <td>0</td>\n",
              "      <td>1</td>\n",
              "    </tr>\n",
              "  </tbody>\n",
              "</table>\n",
              "<p>80 rows × 9 columns</p>\n",
              "</div>"
            ],
            "text/plain": [
              "     Cylinders  Displacement  Horsepower  ...  Europe  Japan  USA\n",
              "385  -0.856321     -0.983552   -0.982129  ...       0      1    0\n",
              "5     1.498191      2.262118    2.451579  ...       0      0    1\n",
              "196  -0.856321     -0.916334   -1.165610  ...       0      0    1\n",
              "113   0.320935     -0.368987    0.066331  ...       0      0    1\n",
              "293  -0.856321     -1.002757   -0.877283  ...       1      0    0\n",
              "..         ...           ...         ...  ...     ...    ...  ...\n",
              "315  -0.856321     -0.407398   -0.379265  ...       0      0    1\n",
              "328  -0.856321     -0.455410   -0.982129  ...       1      0    0\n",
              "299  -0.856321     -0.503423   -0.877283  ...       1      0    0\n",
              "231   1.498191      1.983643    2.241887  ...       0      0    1\n",
              "295  -0.856321     -0.916334   -0.641380  ...       0      0    1\n",
              "\n",
              "[80 rows x 9 columns]"
            ]
          },
          "metadata": {
            "tags": []
          },
          "execution_count": 153
        }
      ]
    },
    {
      "cell_type": "markdown",
      "metadata": {
        "id": "YV86yh-cfdql",
        "colab_type": "text"
      },
      "source": [
        "- 모델 생성\n"
      ]
    },
    {
      "cell_type": "code",
      "metadata": {
        "id": "cRnOkGHHdiMd",
        "colab_type": "code",
        "colab": {}
      },
      "source": [
        "from sklearn.linear_model import Ridge,Lasso\n",
        "from sklearn.ensemble import GradientBoostingRegressor, RandomForestRegressor"
      ],
      "execution_count": 155,
      "outputs": []
    },
    {
      "cell_type": "code",
      "metadata": {
        "id": "XnxCdtNRhZHK",
        "colab_type": "code",
        "colab": {}
      },
      "source": [
        "ridge = Ridge(alpha=10)\n",
        "lasso = Ridge(alpha = 10)\n",
        "gb = GradientBoostingRegressor()\n",
        "rf = RandomForestRegressor()"
      ],
      "execution_count": 156,
      "outputs": []
    },
    {
      "cell_type": "code",
      "metadata": {
        "id": "EFLPI_Tlj2aR",
        "colab_type": "code",
        "colab": {
          "base_uri": "https://localhost:8080/",
          "height": 143
        },
        "outputId": "fd70890c-9847-4b1e-d699-8028c304c8cf"
      },
      "source": [
        "ridge.fit(X_train, y_train)\n",
        "lasso.fit(X_train, y_train)\n",
        "gb.fit(X_train, y_train)\n",
        "rf.fit(X_train,y_train)"
      ],
      "execution_count": 157,
      "outputs": [
        {
          "output_type": "execute_result",
          "data": {
            "text/plain": [
              "RandomForestRegressor(bootstrap=True, ccp_alpha=0.0, criterion='mse',\n",
              "                      max_depth=None, max_features='auto', max_leaf_nodes=None,\n",
              "                      max_samples=None, min_impurity_decrease=0.0,\n",
              "                      min_impurity_split=None, min_samples_leaf=1,\n",
              "                      min_samples_split=2, min_weight_fraction_leaf=0.0,\n",
              "                      n_estimators=100, n_jobs=None, oob_score=False,\n",
              "                      random_state=None, verbose=0, warm_start=False)"
            ]
          },
          "metadata": {
            "tags": []
          },
          "execution_count": 157
        }
      ]
    },
    {
      "cell_type": "code",
      "metadata": {
        "id": "1To-y-cJkBCu",
        "colab_type": "code",
        "colab": {}
      },
      "source": [
        "rid_y = ridge.predict(X_test)\n",
        "las_y = lasso.predict(X_test)\n",
        "gb_y = gb.predict(X_test)\n",
        "rf_y = rf.predict(X_test)"
      ],
      "execution_count": 158,
      "outputs": []
    },
    {
      "cell_type": "code",
      "metadata": {
        "id": "9uLuHMU4kKnW",
        "colab_type": "code",
        "colab": {}
      },
      "source": [
        "def get_mse(pred, real):\n",
        "  return np.mean(np.square(pred-real))"
      ],
      "execution_count": 159,
      "outputs": []
    },
    {
      "cell_type": "code",
      "metadata": {
        "id": "ICHjmFA7ka-g",
        "colab_type": "code",
        "colab": {
          "base_uri": "https://localhost:8080/",
          "height": 89
        },
        "outputId": "e84523b4-8b0d-4a1b-d42a-70be13c9eb0e"
      },
      "source": [
        "model_dic = [['ridge',rid_y,], ['lasso',las_y],['gb',gb_y],['rf',rf_y]]\n",
        "for i in range(4):\n",
        "  print(model_dic[i][0], ' : ', get_mse(model_dic[i][1],y_test))"
      ],
      "execution_count": 167,
      "outputs": [
        {
          "output_type": "stream",
          "text": [
            "ridge  :  12.466895011757114\n",
            "lasso  :  12.466895011757114\n",
            "gb  :  7.873686100031408\n",
            "rf  :  7.07454693749999\n"
          ],
          "name": "stdout"
        }
      ]
    }
  ]
}