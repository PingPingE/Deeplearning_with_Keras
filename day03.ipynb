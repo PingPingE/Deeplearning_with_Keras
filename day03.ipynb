{
  "nbformat": 4,
  "nbformat_minor": 0,
  "metadata": {
    "colab": {
      "name": "day03.ipynb",
      "provenance": [],
      "collapsed_sections": [],
      "authorship_tag": "ABX9TyOqzp75XCKcqXaWDTTn6/RW",
      "include_colab_link": true
    },
    "kernelspec": {
      "name": "python3",
      "display_name": "Python 3"
    }
  },
  "cells": [
    {
      "cell_type": "markdown",
      "metadata": {
        "id": "view-in-github",
        "colab_type": "text"
      },
      "source": [
        "<a href=\"https://colab.research.google.com/github/PingPingE/Deeplearning_with_Keras/blob/master/day03.ipynb\" target=\"_parent\"><img src=\"https://colab.research.google.com/assets/colab-badge.svg\" alt=\"Open In Colab\"/></a>"
      ]
    },
    {
      "cell_type": "code",
      "metadata": {
        "id": "QDrXXeHafK_8",
        "colab_type": "code",
        "colab": {}
      },
      "source": [
        "from tensorflow import keras\n",
        "import pandas as pd\n",
        "import numpy as np\n",
        "import tensorflow as tf\n",
        "import matplotlib.pyplot as plt\n",
        "import seaborn as sns\n",
        "#시각화를 위한 color 딕셔너리\n",
        "color_dic = {0:['#005b6e','#04668c'],1:['#3c6ca7','#786eb7'],2:['#a86bba','#da66ac'],\n",
        "             3:['#ff6792','#aa6792'],4:['#d8e0bb','#b6cec7'],5:['#ff5050','#ffaa00'],\n",
        "            6:['#ff99ff','#ff6699',],7:['#e6f2ff','#99ccff'],8:['#ccccff','#cc99ff'],\n",
        "            9:['#ff9966', '#ff6600']}"
      ],
      "execution_count": 22,
      "outputs": []
    },
    {
      "cell_type": "markdown",
      "metadata": {
        "id": "p6BPxvSPfCQV",
        "colab_type": "text"
      },
      "source": [
        "# 와인의 품질 분류하기\n",
        "- fixed acidity\t고정산, 와인의 산도를 제어\t\t\t\t\t\t\t\t\n",
        "- volatile acidity\t휘발산, 와인의 향과 연관\t\t\t\t\t\t\t\t\t\n",
        "- citric acid\t구연산, 와인의 신선함을 올림\t\t\t\t\t\t\t\t\n",
        "- residual sugar\t잔여 당분, 와인의 단 맛 올림\t\t\t\t\t\t\t\t\n",
        "- chlorides\t염화물, 와인의 짠 맛의 원인\t\t\t\t\t\t\t\t\n",
        "- free sulfur dioxide\t황 화합물, 와인을 오래 보관하게 함\t\t\t\t\t\t\t\n",
        "- total sulfur dioxide\t황 화합물, 와인을 오래 보관하게 함\t\t\t\t\t\t\t\t\n",
        "- density\t밀도, 와인의 무게감을 나타냄\t\t\t\t\t\t\t\n",
        "- pH\t산성도, 와인의 신 맛의 정도\t\t\t\t\t\t\t\t\n",
        "- sulphates\t황 화합물, 와인을 오래 보관하게 함\t\t\t\t\t\t\t\t\n",
        "- alcohol\t알코올, 와인의 단 맛과 무게감에 영향\t\t\t\t\t\t\t\n",
        "- quality\t와인의 품질\t3,4,5,6,7,8\t\n",
        "  - 상 : 7~9\n",
        "  - 하 : 3~5\n",
        "  - 중 : 상,하 아닌것."
      ]
    },
    {
      "cell_type": "code",
      "metadata": {
        "id": "nkRWd75BfXPM",
        "colab_type": "code",
        "colab": {}
      },
      "source": [
        "red = pd.read_csv('http://archive.ics.uci.edu/ml/machine-learning-databases/wine-quality/winequality-red.csv', sep=';')\n",
        "white = pd.read_csv('http://archive.ics.uci.edu/ml/machine-learning-databases/wine-quality/winequality-white.csv', sep=';')\n"
      ],
      "execution_count": 23,
      "outputs": []
    },
    {
      "cell_type": "code",
      "metadata": {
        "id": "UGavs5D9e3vy",
        "colab_type": "code",
        "colab": {}
      },
      "source": [
        "wine_df = pd.concat([red, white])"
      ],
      "execution_count": 24,
      "outputs": []
    },
    {
      "cell_type": "code",
      "metadata": {
        "id": "PZLkpComfGnk",
        "colab_type": "code",
        "colab": {
          "base_uri": "https://localhost:8080/",
          "height": 297
        },
        "outputId": "7a4eef34-e6af-4920-e9fa-a0ee27fdcc80"
      },
      "source": [
        "wine_df.describe()"
      ],
      "execution_count": 25,
      "outputs": [
        {
          "output_type": "execute_result",
          "data": {
            "text/html": [
              "<div>\n",
              "<style scoped>\n",
              "    .dataframe tbody tr th:only-of-type {\n",
              "        vertical-align: middle;\n",
              "    }\n",
              "\n",
              "    .dataframe tbody tr th {\n",
              "        vertical-align: top;\n",
              "    }\n",
              "\n",
              "    .dataframe thead th {\n",
              "        text-align: right;\n",
              "    }\n",
              "</style>\n",
              "<table border=\"1\" class=\"dataframe\">\n",
              "  <thead>\n",
              "    <tr style=\"text-align: right;\">\n",
              "      <th></th>\n",
              "      <th>fixed acidity</th>\n",
              "      <th>volatile acidity</th>\n",
              "      <th>citric acid</th>\n",
              "      <th>residual sugar</th>\n",
              "      <th>chlorides</th>\n",
              "      <th>free sulfur dioxide</th>\n",
              "      <th>total sulfur dioxide</th>\n",
              "      <th>density</th>\n",
              "      <th>pH</th>\n",
              "      <th>sulphates</th>\n",
              "      <th>alcohol</th>\n",
              "      <th>quality</th>\n",
              "    </tr>\n",
              "  </thead>\n",
              "  <tbody>\n",
              "    <tr>\n",
              "      <th>count</th>\n",
              "      <td>6497.000000</td>\n",
              "      <td>6497.000000</td>\n",
              "      <td>6497.000000</td>\n",
              "      <td>6497.000000</td>\n",
              "      <td>6497.000000</td>\n",
              "      <td>6497.000000</td>\n",
              "      <td>6497.000000</td>\n",
              "      <td>6497.000000</td>\n",
              "      <td>6497.000000</td>\n",
              "      <td>6497.000000</td>\n",
              "      <td>6497.000000</td>\n",
              "      <td>6497.000000</td>\n",
              "    </tr>\n",
              "    <tr>\n",
              "      <th>mean</th>\n",
              "      <td>7.215307</td>\n",
              "      <td>0.339666</td>\n",
              "      <td>0.318633</td>\n",
              "      <td>5.443235</td>\n",
              "      <td>0.056034</td>\n",
              "      <td>30.525319</td>\n",
              "      <td>115.744574</td>\n",
              "      <td>0.994697</td>\n",
              "      <td>3.218501</td>\n",
              "      <td>0.531268</td>\n",
              "      <td>10.491801</td>\n",
              "      <td>5.818378</td>\n",
              "    </tr>\n",
              "    <tr>\n",
              "      <th>std</th>\n",
              "      <td>1.296434</td>\n",
              "      <td>0.164636</td>\n",
              "      <td>0.145318</td>\n",
              "      <td>4.757804</td>\n",
              "      <td>0.035034</td>\n",
              "      <td>17.749400</td>\n",
              "      <td>56.521855</td>\n",
              "      <td>0.002999</td>\n",
              "      <td>0.160787</td>\n",
              "      <td>0.148806</td>\n",
              "      <td>1.192712</td>\n",
              "      <td>0.873255</td>\n",
              "    </tr>\n",
              "    <tr>\n",
              "      <th>min</th>\n",
              "      <td>3.800000</td>\n",
              "      <td>0.080000</td>\n",
              "      <td>0.000000</td>\n",
              "      <td>0.600000</td>\n",
              "      <td>0.009000</td>\n",
              "      <td>1.000000</td>\n",
              "      <td>6.000000</td>\n",
              "      <td>0.987110</td>\n",
              "      <td>2.720000</td>\n",
              "      <td>0.220000</td>\n",
              "      <td>8.000000</td>\n",
              "      <td>3.000000</td>\n",
              "    </tr>\n",
              "    <tr>\n",
              "      <th>25%</th>\n",
              "      <td>6.400000</td>\n",
              "      <td>0.230000</td>\n",
              "      <td>0.250000</td>\n",
              "      <td>1.800000</td>\n",
              "      <td>0.038000</td>\n",
              "      <td>17.000000</td>\n",
              "      <td>77.000000</td>\n",
              "      <td>0.992340</td>\n",
              "      <td>3.110000</td>\n",
              "      <td>0.430000</td>\n",
              "      <td>9.500000</td>\n",
              "      <td>5.000000</td>\n",
              "    </tr>\n",
              "    <tr>\n",
              "      <th>50%</th>\n",
              "      <td>7.000000</td>\n",
              "      <td>0.290000</td>\n",
              "      <td>0.310000</td>\n",
              "      <td>3.000000</td>\n",
              "      <td>0.047000</td>\n",
              "      <td>29.000000</td>\n",
              "      <td>118.000000</td>\n",
              "      <td>0.994890</td>\n",
              "      <td>3.210000</td>\n",
              "      <td>0.510000</td>\n",
              "      <td>10.300000</td>\n",
              "      <td>6.000000</td>\n",
              "    </tr>\n",
              "    <tr>\n",
              "      <th>75%</th>\n",
              "      <td>7.700000</td>\n",
              "      <td>0.400000</td>\n",
              "      <td>0.390000</td>\n",
              "      <td>8.100000</td>\n",
              "      <td>0.065000</td>\n",
              "      <td>41.000000</td>\n",
              "      <td>156.000000</td>\n",
              "      <td>0.996990</td>\n",
              "      <td>3.320000</td>\n",
              "      <td>0.600000</td>\n",
              "      <td>11.300000</td>\n",
              "      <td>6.000000</td>\n",
              "    </tr>\n",
              "    <tr>\n",
              "      <th>max</th>\n",
              "      <td>15.900000</td>\n",
              "      <td>1.580000</td>\n",
              "      <td>1.660000</td>\n",
              "      <td>65.800000</td>\n",
              "      <td>0.611000</td>\n",
              "      <td>289.000000</td>\n",
              "      <td>440.000000</td>\n",
              "      <td>1.038980</td>\n",
              "      <td>4.010000</td>\n",
              "      <td>2.000000</td>\n",
              "      <td>14.900000</td>\n",
              "      <td>9.000000</td>\n",
              "    </tr>\n",
              "  </tbody>\n",
              "</table>\n",
              "</div>"
            ],
            "text/plain": [
              "       fixed acidity  volatile acidity  ...      alcohol      quality\n",
              "count    6497.000000       6497.000000  ...  6497.000000  6497.000000\n",
              "mean        7.215307          0.339666  ...    10.491801     5.818378\n",
              "std         1.296434          0.164636  ...     1.192712     0.873255\n",
              "min         3.800000          0.080000  ...     8.000000     3.000000\n",
              "25%         6.400000          0.230000  ...     9.500000     5.000000\n",
              "50%         7.000000          0.290000  ...    10.300000     6.000000\n",
              "75%         7.700000          0.400000  ...    11.300000     6.000000\n",
              "max        15.900000          1.580000  ...    14.900000     9.000000\n",
              "\n",
              "[8 rows x 12 columns]"
            ]
          },
          "metadata": {
            "tags": []
          },
          "execution_count": 25
        }
      ]
    },
    {
      "cell_type": "markdown",
      "metadata": {
        "id": "SLLjxsiVkDM-",
        "colab_type": "text"
      },
      "source": [
        "### 전처리"
      ]
    },
    {
      "cell_type": "markdown",
      "metadata": {
        "id": "poknxEdDl6On",
        "colab_type": "text"
      },
      "source": [
        "- 상중하 분류"
      ]
    },
    {
      "cell_type": "code",
      "metadata": {
        "id": "wika7x0cjXAO",
        "colab_type": "code",
        "colab": {}
      },
      "source": [
        "wine_df.loc[wine_df['quality'] <= 5, 'new_quality'] = 0\n",
        "wine_df.loc[wine_df['quality'] == 6, 'new_quality'] = 1\n",
        "wine_df.loc[wine_df['quality'] >= 7, 'new_quality'] = 2"
      ],
      "execution_count": 26,
      "outputs": []
    },
    {
      "cell_type": "code",
      "metadata": {
        "id": "AF4qru2xj9Jl",
        "colab_type": "code",
        "colab": {
          "base_uri": "https://localhost:8080/",
          "height": 233
        },
        "outputId": "24456230-5ef6-44e9-bb1c-19aea9b9ac0b"
      },
      "source": [
        "wine_df.pop('quality')"
      ],
      "execution_count": 27,
      "outputs": [
        {
          "output_type": "execute_result",
          "data": {
            "text/plain": [
              "0       5\n",
              "1       5\n",
              "2       5\n",
              "3       6\n",
              "4       5\n",
              "       ..\n",
              "4893    6\n",
              "4894    5\n",
              "4895    6\n",
              "4896    7\n",
              "4897    6\n",
              "Name: quality, Length: 6497, dtype: int64"
            ]
          },
          "metadata": {
            "tags": []
          },
          "execution_count": 27
        }
      ]
    },
    {
      "cell_type": "code",
      "metadata": {
        "id": "-09PP-Rcj_5H",
        "colab_type": "code",
        "colab": {
          "base_uri": "https://localhost:8080/",
          "height": 297
        },
        "outputId": "d876e531-0bd7-49e3-98b6-5219e4a5d76e"
      },
      "source": [
        "wine_df.describe()"
      ],
      "execution_count": 28,
      "outputs": [
        {
          "output_type": "execute_result",
          "data": {
            "text/html": [
              "<div>\n",
              "<style scoped>\n",
              "    .dataframe tbody tr th:only-of-type {\n",
              "        vertical-align: middle;\n",
              "    }\n",
              "\n",
              "    .dataframe tbody tr th {\n",
              "        vertical-align: top;\n",
              "    }\n",
              "\n",
              "    .dataframe thead th {\n",
              "        text-align: right;\n",
              "    }\n",
              "</style>\n",
              "<table border=\"1\" class=\"dataframe\">\n",
              "  <thead>\n",
              "    <tr style=\"text-align: right;\">\n",
              "      <th></th>\n",
              "      <th>fixed acidity</th>\n",
              "      <th>volatile acidity</th>\n",
              "      <th>citric acid</th>\n",
              "      <th>residual sugar</th>\n",
              "      <th>chlorides</th>\n",
              "      <th>free sulfur dioxide</th>\n",
              "      <th>total sulfur dioxide</th>\n",
              "      <th>density</th>\n",
              "      <th>pH</th>\n",
              "      <th>sulphates</th>\n",
              "      <th>alcohol</th>\n",
              "      <th>new_quality</th>\n",
              "    </tr>\n",
              "  </thead>\n",
              "  <tbody>\n",
              "    <tr>\n",
              "      <th>count</th>\n",
              "      <td>6497.000000</td>\n",
              "      <td>6497.000000</td>\n",
              "      <td>6497.000000</td>\n",
              "      <td>6497.000000</td>\n",
              "      <td>6497.000000</td>\n",
              "      <td>6497.000000</td>\n",
              "      <td>6497.000000</td>\n",
              "      <td>6497.000000</td>\n",
              "      <td>6497.000000</td>\n",
              "      <td>6497.000000</td>\n",
              "      <td>6497.000000</td>\n",
              "      <td>6497.000000</td>\n",
              "    </tr>\n",
              "    <tr>\n",
              "      <th>mean</th>\n",
              "      <td>7.215307</td>\n",
              "      <td>0.339666</td>\n",
              "      <td>0.318633</td>\n",
              "      <td>5.443235</td>\n",
              "      <td>0.056034</td>\n",
              "      <td>30.525319</td>\n",
              "      <td>115.744574</td>\n",
              "      <td>0.994697</td>\n",
              "      <td>3.218501</td>\n",
              "      <td>0.531268</td>\n",
              "      <td>10.491801</td>\n",
              "      <td>0.829614</td>\n",
              "    </tr>\n",
              "    <tr>\n",
              "      <th>std</th>\n",
              "      <td>1.296434</td>\n",
              "      <td>0.164636</td>\n",
              "      <td>0.145318</td>\n",
              "      <td>4.757804</td>\n",
              "      <td>0.035034</td>\n",
              "      <td>17.749400</td>\n",
              "      <td>56.521855</td>\n",
              "      <td>0.002999</td>\n",
              "      <td>0.160787</td>\n",
              "      <td>0.148806</td>\n",
              "      <td>1.192712</td>\n",
              "      <td>0.731124</td>\n",
              "    </tr>\n",
              "    <tr>\n",
              "      <th>min</th>\n",
              "      <td>3.800000</td>\n",
              "      <td>0.080000</td>\n",
              "      <td>0.000000</td>\n",
              "      <td>0.600000</td>\n",
              "      <td>0.009000</td>\n",
              "      <td>1.000000</td>\n",
              "      <td>6.000000</td>\n",
              "      <td>0.987110</td>\n",
              "      <td>2.720000</td>\n",
              "      <td>0.220000</td>\n",
              "      <td>8.000000</td>\n",
              "      <td>0.000000</td>\n",
              "    </tr>\n",
              "    <tr>\n",
              "      <th>25%</th>\n",
              "      <td>6.400000</td>\n",
              "      <td>0.230000</td>\n",
              "      <td>0.250000</td>\n",
              "      <td>1.800000</td>\n",
              "      <td>0.038000</td>\n",
              "      <td>17.000000</td>\n",
              "      <td>77.000000</td>\n",
              "      <td>0.992340</td>\n",
              "      <td>3.110000</td>\n",
              "      <td>0.430000</td>\n",
              "      <td>9.500000</td>\n",
              "      <td>0.000000</td>\n",
              "    </tr>\n",
              "    <tr>\n",
              "      <th>50%</th>\n",
              "      <td>7.000000</td>\n",
              "      <td>0.290000</td>\n",
              "      <td>0.310000</td>\n",
              "      <td>3.000000</td>\n",
              "      <td>0.047000</td>\n",
              "      <td>29.000000</td>\n",
              "      <td>118.000000</td>\n",
              "      <td>0.994890</td>\n",
              "      <td>3.210000</td>\n",
              "      <td>0.510000</td>\n",
              "      <td>10.300000</td>\n",
              "      <td>1.000000</td>\n",
              "    </tr>\n",
              "    <tr>\n",
              "      <th>75%</th>\n",
              "      <td>7.700000</td>\n",
              "      <td>0.400000</td>\n",
              "      <td>0.390000</td>\n",
              "      <td>8.100000</td>\n",
              "      <td>0.065000</td>\n",
              "      <td>41.000000</td>\n",
              "      <td>156.000000</td>\n",
              "      <td>0.996990</td>\n",
              "      <td>3.320000</td>\n",
              "      <td>0.600000</td>\n",
              "      <td>11.300000</td>\n",
              "      <td>1.000000</td>\n",
              "    </tr>\n",
              "    <tr>\n",
              "      <th>max</th>\n",
              "      <td>15.900000</td>\n",
              "      <td>1.580000</td>\n",
              "      <td>1.660000</td>\n",
              "      <td>65.800000</td>\n",
              "      <td>0.611000</td>\n",
              "      <td>289.000000</td>\n",
              "      <td>440.000000</td>\n",
              "      <td>1.038980</td>\n",
              "      <td>4.010000</td>\n",
              "      <td>2.000000</td>\n",
              "      <td>14.900000</td>\n",
              "      <td>2.000000</td>\n",
              "    </tr>\n",
              "  </tbody>\n",
              "</table>\n",
              "</div>"
            ],
            "text/plain": [
              "       fixed acidity  volatile acidity  ...      alcohol  new_quality\n",
              "count    6497.000000       6497.000000  ...  6497.000000  6497.000000\n",
              "mean        7.215307          0.339666  ...    10.491801     0.829614\n",
              "std         1.296434          0.164636  ...     1.192712     0.731124\n",
              "min         3.800000          0.080000  ...     8.000000     0.000000\n",
              "25%         6.400000          0.230000  ...     9.500000     0.000000\n",
              "50%         7.000000          0.290000  ...    10.300000     1.000000\n",
              "75%         7.700000          0.400000  ...    11.300000     1.000000\n",
              "max        15.900000          1.580000  ...    14.900000     2.000000\n",
              "\n",
              "[8 rows x 12 columns]"
            ]
          },
          "metadata": {
            "tags": []
          },
          "execution_count": 28
        }
      ]
    },
    {
      "cell_type": "markdown",
      "metadata": {
        "id": "5s8ehdqXl05n",
        "colab_type": "text"
      },
      "source": [
        "- 정규화"
      ]
    },
    {
      "cell_type": "code",
      "metadata": {
        "id": "VcM5DbKXkUgl",
        "colab_type": "code",
        "colab": {
          "base_uri": "https://localhost:8080/",
          "height": 419
        },
        "outputId": "7fd504c4-6559-4e86-cbe5-de270b74a362"
      },
      "source": [
        "# 정규화 : minmax\n",
        "wine_norm = (wine_df - wine_df.min()) / (wine_df.max() - wine_df.min())\n",
        "\n",
        "# 결과확인\n",
        "wine_norm"
      ],
      "execution_count": 29,
      "outputs": [
        {
          "output_type": "execute_result",
          "data": {
            "text/html": [
              "<div>\n",
              "<style scoped>\n",
              "    .dataframe tbody tr th:only-of-type {\n",
              "        vertical-align: middle;\n",
              "    }\n",
              "\n",
              "    .dataframe tbody tr th {\n",
              "        vertical-align: top;\n",
              "    }\n",
              "\n",
              "    .dataframe thead th {\n",
              "        text-align: right;\n",
              "    }\n",
              "</style>\n",
              "<table border=\"1\" class=\"dataframe\">\n",
              "  <thead>\n",
              "    <tr style=\"text-align: right;\">\n",
              "      <th></th>\n",
              "      <th>fixed acidity</th>\n",
              "      <th>volatile acidity</th>\n",
              "      <th>citric acid</th>\n",
              "      <th>residual sugar</th>\n",
              "      <th>chlorides</th>\n",
              "      <th>free sulfur dioxide</th>\n",
              "      <th>total sulfur dioxide</th>\n",
              "      <th>density</th>\n",
              "      <th>pH</th>\n",
              "      <th>sulphates</th>\n",
              "      <th>alcohol</th>\n",
              "      <th>new_quality</th>\n",
              "    </tr>\n",
              "  </thead>\n",
              "  <tbody>\n",
              "    <tr>\n",
              "      <th>0</th>\n",
              "      <td>0.297521</td>\n",
              "      <td>0.413333</td>\n",
              "      <td>0.000000</td>\n",
              "      <td>0.019939</td>\n",
              "      <td>0.111296</td>\n",
              "      <td>0.034722</td>\n",
              "      <td>0.064516</td>\n",
              "      <td>0.206092</td>\n",
              "      <td>0.612403</td>\n",
              "      <td>0.191011</td>\n",
              "      <td>0.202899</td>\n",
              "      <td>0.0</td>\n",
              "    </tr>\n",
              "    <tr>\n",
              "      <th>1</th>\n",
              "      <td>0.330579</td>\n",
              "      <td>0.533333</td>\n",
              "      <td>0.000000</td>\n",
              "      <td>0.030675</td>\n",
              "      <td>0.147841</td>\n",
              "      <td>0.083333</td>\n",
              "      <td>0.140553</td>\n",
              "      <td>0.186813</td>\n",
              "      <td>0.372093</td>\n",
              "      <td>0.258427</td>\n",
              "      <td>0.260870</td>\n",
              "      <td>0.0</td>\n",
              "    </tr>\n",
              "    <tr>\n",
              "      <th>2</th>\n",
              "      <td>0.330579</td>\n",
              "      <td>0.453333</td>\n",
              "      <td>0.024096</td>\n",
              "      <td>0.026074</td>\n",
              "      <td>0.137874</td>\n",
              "      <td>0.048611</td>\n",
              "      <td>0.110599</td>\n",
              "      <td>0.190669</td>\n",
              "      <td>0.418605</td>\n",
              "      <td>0.241573</td>\n",
              "      <td>0.260870</td>\n",
              "      <td>0.0</td>\n",
              "    </tr>\n",
              "    <tr>\n",
              "      <th>3</th>\n",
              "      <td>0.611570</td>\n",
              "      <td>0.133333</td>\n",
              "      <td>0.337349</td>\n",
              "      <td>0.019939</td>\n",
              "      <td>0.109635</td>\n",
              "      <td>0.055556</td>\n",
              "      <td>0.124424</td>\n",
              "      <td>0.209948</td>\n",
              "      <td>0.341085</td>\n",
              "      <td>0.202247</td>\n",
              "      <td>0.260870</td>\n",
              "      <td>0.5</td>\n",
              "    </tr>\n",
              "    <tr>\n",
              "      <th>4</th>\n",
              "      <td>0.297521</td>\n",
              "      <td>0.413333</td>\n",
              "      <td>0.000000</td>\n",
              "      <td>0.019939</td>\n",
              "      <td>0.111296</td>\n",
              "      <td>0.034722</td>\n",
              "      <td>0.064516</td>\n",
              "      <td>0.206092</td>\n",
              "      <td>0.612403</td>\n",
              "      <td>0.191011</td>\n",
              "      <td>0.202899</td>\n",
              "      <td>0.0</td>\n",
              "    </tr>\n",
              "    <tr>\n",
              "      <th>...</th>\n",
              "      <td>...</td>\n",
              "      <td>...</td>\n",
              "      <td>...</td>\n",
              "      <td>...</td>\n",
              "      <td>...</td>\n",
              "      <td>...</td>\n",
              "      <td>...</td>\n",
              "      <td>...</td>\n",
              "      <td>...</td>\n",
              "      <td>...</td>\n",
              "      <td>...</td>\n",
              "      <td>...</td>\n",
              "    </tr>\n",
              "    <tr>\n",
              "      <th>4893</th>\n",
              "      <td>0.198347</td>\n",
              "      <td>0.086667</td>\n",
              "      <td>0.174699</td>\n",
              "      <td>0.015337</td>\n",
              "      <td>0.049834</td>\n",
              "      <td>0.079861</td>\n",
              "      <td>0.198157</td>\n",
              "      <td>0.077694</td>\n",
              "      <td>0.426357</td>\n",
              "      <td>0.157303</td>\n",
              "      <td>0.463768</td>\n",
              "      <td>0.5</td>\n",
              "    </tr>\n",
              "    <tr>\n",
              "      <th>4894</th>\n",
              "      <td>0.231405</td>\n",
              "      <td>0.160000</td>\n",
              "      <td>0.216867</td>\n",
              "      <td>0.113497</td>\n",
              "      <td>0.063123</td>\n",
              "      <td>0.194444</td>\n",
              "      <td>0.373272</td>\n",
              "      <td>0.150183</td>\n",
              "      <td>0.333333</td>\n",
              "      <td>0.134831</td>\n",
              "      <td>0.231884</td>\n",
              "      <td>0.0</td>\n",
              "    </tr>\n",
              "    <tr>\n",
              "      <th>4895</th>\n",
              "      <td>0.223140</td>\n",
              "      <td>0.106667</td>\n",
              "      <td>0.114458</td>\n",
              "      <td>0.009202</td>\n",
              "      <td>0.053156</td>\n",
              "      <td>0.100694</td>\n",
              "      <td>0.241935</td>\n",
              "      <td>0.104685</td>\n",
              "      <td>0.209302</td>\n",
              "      <td>0.134831</td>\n",
              "      <td>0.202899</td>\n",
              "      <td>0.5</td>\n",
              "    </tr>\n",
              "    <tr>\n",
              "      <th>4896</th>\n",
              "      <td>0.140496</td>\n",
              "      <td>0.140000</td>\n",
              "      <td>0.180723</td>\n",
              "      <td>0.007669</td>\n",
              "      <td>0.021595</td>\n",
              "      <td>0.065972</td>\n",
              "      <td>0.239631</td>\n",
              "      <td>0.030461</td>\n",
              "      <td>0.480620</td>\n",
              "      <td>0.089888</td>\n",
              "      <td>0.695652</td>\n",
              "      <td>1.0</td>\n",
              "    </tr>\n",
              "    <tr>\n",
              "      <th>4897</th>\n",
              "      <td>0.181818</td>\n",
              "      <td>0.086667</td>\n",
              "      <td>0.228916</td>\n",
              "      <td>0.003067</td>\n",
              "      <td>0.018272</td>\n",
              "      <td>0.072917</td>\n",
              "      <td>0.211982</td>\n",
              "      <td>0.044342</td>\n",
              "      <td>0.418605</td>\n",
              "      <td>0.056180</td>\n",
              "      <td>0.550725</td>\n",
              "      <td>0.5</td>\n",
              "    </tr>\n",
              "  </tbody>\n",
              "</table>\n",
              "<p>6497 rows × 12 columns</p>\n",
              "</div>"
            ],
            "text/plain": [
              "      fixed acidity  volatile acidity  ...   alcohol  new_quality\n",
              "0          0.297521          0.413333  ...  0.202899          0.0\n",
              "1          0.330579          0.533333  ...  0.260870          0.0\n",
              "2          0.330579          0.453333  ...  0.260870          0.0\n",
              "3          0.611570          0.133333  ...  0.260870          0.5\n",
              "4          0.297521          0.413333  ...  0.202899          0.0\n",
              "...             ...               ...  ...       ...          ...\n",
              "4893       0.198347          0.086667  ...  0.463768          0.5\n",
              "4894       0.231405          0.160000  ...  0.231884          0.0\n",
              "4895       0.223140          0.106667  ...  0.202899          0.5\n",
              "4896       0.140496          0.140000  ...  0.695652          1.0\n",
              "4897       0.181818          0.086667  ...  0.550725          0.5\n",
              "\n",
              "[6497 rows x 12 columns]"
            ]
          },
          "metadata": {
            "tags": []
          },
          "execution_count": 29
        }
      ]
    },
    {
      "cell_type": "code",
      "metadata": {
        "id": "xCDfubbtlgwr",
        "colab_type": "code",
        "colab": {}
      },
      "source": [
        "# 섞기 frac=1이면 100%\n",
        "wine_shuffle = wine_norm.sample(frac=1)"
      ],
      "execution_count": 30,
      "outputs": []
    },
    {
      "cell_type": "code",
      "metadata": {
        "id": "zie9fIIolxbr",
        "colab_type": "code",
        "colab": {
          "base_uri": "https://localhost:8080/",
          "height": 419
        },
        "outputId": "89f7b54f-f80f-499e-cbc9-abae002b2876"
      },
      "source": [
        "wine_shuffle"
      ],
      "execution_count": 31,
      "outputs": [
        {
          "output_type": "execute_result",
          "data": {
            "text/html": [
              "<div>\n",
              "<style scoped>\n",
              "    .dataframe tbody tr th:only-of-type {\n",
              "        vertical-align: middle;\n",
              "    }\n",
              "\n",
              "    .dataframe tbody tr th {\n",
              "        vertical-align: top;\n",
              "    }\n",
              "\n",
              "    .dataframe thead th {\n",
              "        text-align: right;\n",
              "    }\n",
              "</style>\n",
              "<table border=\"1\" class=\"dataframe\">\n",
              "  <thead>\n",
              "    <tr style=\"text-align: right;\">\n",
              "      <th></th>\n",
              "      <th>fixed acidity</th>\n",
              "      <th>volatile acidity</th>\n",
              "      <th>citric acid</th>\n",
              "      <th>residual sugar</th>\n",
              "      <th>chlorides</th>\n",
              "      <th>free sulfur dioxide</th>\n",
              "      <th>total sulfur dioxide</th>\n",
              "      <th>density</th>\n",
              "      <th>pH</th>\n",
              "      <th>sulphates</th>\n",
              "      <th>alcohol</th>\n",
              "      <th>new_quality</th>\n",
              "    </tr>\n",
              "  </thead>\n",
              "  <tbody>\n",
              "    <tr>\n",
              "      <th>2439</th>\n",
              "      <td>0.289256</td>\n",
              "      <td>0.126667</td>\n",
              "      <td>0.222892</td>\n",
              "      <td>0.139571</td>\n",
              "      <td>0.054817</td>\n",
              "      <td>0.121528</td>\n",
              "      <td>0.285714</td>\n",
              "      <td>0.208020</td>\n",
              "      <td>0.589147</td>\n",
              "      <td>0.297753</td>\n",
              "      <td>0.275362</td>\n",
              "      <td>0.5</td>\n",
              "    </tr>\n",
              "    <tr>\n",
              "      <th>1931</th>\n",
              "      <td>0.272727</td>\n",
              "      <td>0.273333</td>\n",
              "      <td>0.132530</td>\n",
              "      <td>0.021472</td>\n",
              "      <td>0.063123</td>\n",
              "      <td>0.505208</td>\n",
              "      <td>0.694700</td>\n",
              "      <td>0.101986</td>\n",
              "      <td>0.403101</td>\n",
              "      <td>0.084270</td>\n",
              "      <td>0.434783</td>\n",
              "      <td>0.0</td>\n",
              "    </tr>\n",
              "    <tr>\n",
              "      <th>893</th>\n",
              "      <td>0.280992</td>\n",
              "      <td>0.386667</td>\n",
              "      <td>0.018072</td>\n",
              "      <td>0.026074</td>\n",
              "      <td>0.114618</td>\n",
              "      <td>0.052083</td>\n",
              "      <td>0.184332</td>\n",
              "      <td>0.198959</td>\n",
              "      <td>0.627907</td>\n",
              "      <td>0.196629</td>\n",
              "      <td>0.246377</td>\n",
              "      <td>0.0</td>\n",
              "    </tr>\n",
              "    <tr>\n",
              "      <th>2037</th>\n",
              "      <td>0.314050</td>\n",
              "      <td>0.140000</td>\n",
              "      <td>0.156627</td>\n",
              "      <td>0.090491</td>\n",
              "      <td>0.054817</td>\n",
              "      <td>0.107639</td>\n",
              "      <td>0.354839</td>\n",
              "      <td>0.140544</td>\n",
              "      <td>0.325581</td>\n",
              "      <td>0.140449</td>\n",
              "      <td>0.391304</td>\n",
              "      <td>0.0</td>\n",
              "    </tr>\n",
              "    <tr>\n",
              "      <th>3442</th>\n",
              "      <td>0.173554</td>\n",
              "      <td>0.126667</td>\n",
              "      <td>0.162651</td>\n",
              "      <td>0.067485</td>\n",
              "      <td>0.043189</td>\n",
              "      <td>0.045139</td>\n",
              "      <td>0.209677</td>\n",
              "      <td>0.066898</td>\n",
              "      <td>0.294574</td>\n",
              "      <td>0.061798</td>\n",
              "      <td>0.550725</td>\n",
              "      <td>1.0</td>\n",
              "    </tr>\n",
              "    <tr>\n",
              "      <th>...</th>\n",
              "      <td>...</td>\n",
              "      <td>...</td>\n",
              "      <td>...</td>\n",
              "      <td>...</td>\n",
              "      <td>...</td>\n",
              "      <td>...</td>\n",
              "      <td>...</td>\n",
              "      <td>...</td>\n",
              "      <td>...</td>\n",
              "      <td>...</td>\n",
              "      <td>...</td>\n",
              "      <td>...</td>\n",
              "    </tr>\n",
              "    <tr>\n",
              "      <th>121</th>\n",
              "      <td>0.413223</td>\n",
              "      <td>0.313333</td>\n",
              "      <td>0.024096</td>\n",
              "      <td>0.024540</td>\n",
              "      <td>0.182724</td>\n",
              "      <td>0.045139</td>\n",
              "      <td>0.115207</td>\n",
              "      <td>0.175246</td>\n",
              "      <td>0.379845</td>\n",
              "      <td>0.213483</td>\n",
              "      <td>0.420290</td>\n",
              "      <td>0.5</td>\n",
              "    </tr>\n",
              "    <tr>\n",
              "      <th>1579</th>\n",
              "      <td>0.198347</td>\n",
              "      <td>0.320000</td>\n",
              "      <td>0.054217</td>\n",
              "      <td>0.016871</td>\n",
              "      <td>0.073090</td>\n",
              "      <td>0.079861</td>\n",
              "      <td>0.059908</td>\n",
              "      <td>0.133218</td>\n",
              "      <td>0.635659</td>\n",
              "      <td>0.213483</td>\n",
              "      <td>0.478261</td>\n",
              "      <td>0.0</td>\n",
              "    </tr>\n",
              "    <tr>\n",
              "      <th>350</th>\n",
              "      <td>0.570248</td>\n",
              "      <td>0.393333</td>\n",
              "      <td>0.132530</td>\n",
              "      <td>0.032209</td>\n",
              "      <td>0.162791</td>\n",
              "      <td>0.055556</td>\n",
              "      <td>0.064516</td>\n",
              "      <td>0.256217</td>\n",
              "      <td>0.434109</td>\n",
              "      <td>0.426966</td>\n",
              "      <td>0.275362</td>\n",
              "      <td>0.5</td>\n",
              "    </tr>\n",
              "    <tr>\n",
              "      <th>1412</th>\n",
              "      <td>0.256198</td>\n",
              "      <td>0.146667</td>\n",
              "      <td>0.198795</td>\n",
              "      <td>0.053681</td>\n",
              "      <td>0.043189</td>\n",
              "      <td>0.086806</td>\n",
              "      <td>0.343318</td>\n",
              "      <td>0.103914</td>\n",
              "      <td>0.410853</td>\n",
              "      <td>0.320225</td>\n",
              "      <td>0.623188</td>\n",
              "      <td>1.0</td>\n",
              "    </tr>\n",
              "    <tr>\n",
              "      <th>2729</th>\n",
              "      <td>0.223140</td>\n",
              "      <td>0.140000</td>\n",
              "      <td>0.186747</td>\n",
              "      <td>0.016871</td>\n",
              "      <td>0.043189</td>\n",
              "      <td>0.079861</td>\n",
              "      <td>0.168203</td>\n",
              "      <td>0.065934</td>\n",
              "      <td>0.426357</td>\n",
              "      <td>0.264045</td>\n",
              "      <td>0.492754</td>\n",
              "      <td>1.0</td>\n",
              "    </tr>\n",
              "  </tbody>\n",
              "</table>\n",
              "<p>6497 rows × 12 columns</p>\n",
              "</div>"
            ],
            "text/plain": [
              "      fixed acidity  volatile acidity  ...   alcohol  new_quality\n",
              "2439       0.289256          0.126667  ...  0.275362          0.5\n",
              "1931       0.272727          0.273333  ...  0.434783          0.0\n",
              "893        0.280992          0.386667  ...  0.246377          0.0\n",
              "2037       0.314050          0.140000  ...  0.391304          0.0\n",
              "3442       0.173554          0.126667  ...  0.550725          1.0\n",
              "...             ...               ...  ...       ...          ...\n",
              "121        0.413223          0.313333  ...  0.420290          0.5\n",
              "1579       0.198347          0.320000  ...  0.478261          0.0\n",
              "350        0.570248          0.393333  ...  0.275362          0.5\n",
              "1412       0.256198          0.146667  ...  0.623188          1.0\n",
              "2729       0.223140          0.140000  ...  0.492754          1.0\n",
              "\n",
              "[6497 rows x 12 columns]"
            ]
          },
          "metadata": {
            "tags": []
          },
          "execution_count": 31
        }
      ]
    },
    {
      "cell_type": "code",
      "metadata": {
        "id": "dYF2K-rDl-j2",
        "colab_type": "code",
        "colab": {}
      },
      "source": [
        "# pandas to numpy\n",
        "wine_np = wine_shuffle.to_numpy()"
      ],
      "execution_count": 32,
      "outputs": []
    },
    {
      "cell_type": "code",
      "metadata": {
        "id": "z7QZnz2wmbF4",
        "colab_type": "code",
        "colab": {}
      },
      "source": [
        "# 자료 80:20 으로 분할'\n",
        "train_idx = int(len(wine_np) * 0.8)\n",
        "X_train= wine_np[:train_idx, :-1]\n",
        "y_train = wine_np[:train_idx, -1]\n",
        "\n",
        "X_test= wine_np[train_idx:, :-1]\n",
        "y_test = wine_np[train_idx:, -1]"
      ],
      "execution_count": 45,
      "outputs": []
    },
    {
      "cell_type": "markdown",
      "metadata": {
        "id": "mkG46Zwel-BO",
        "colab_type": "text"
      },
      "source": [
        "- one-hot 인코딩"
      ]
    },
    {
      "cell_type": "code",
      "metadata": {
        "id": "QWl135d1kWAq",
        "colab_type": "code",
        "colab": {}
      },
      "source": [
        "# one-hot으로 변경하기\n",
        "y_train = tf.keras.utils.to_categorical(y_train, num_classes=3)\n",
        "y_test = tf.keras.utils.to_categorical(y_test, num_classes=3)"
      ],
      "execution_count": 46,
      "outputs": []
    },
    {
      "cell_type": "markdown",
      "metadata": {
        "id": "Je-s3ClKoBU_",
        "colab_type": "text"
      },
      "source": [
        "### 모델링"
      ]
    },
    {
      "cell_type": "code",
      "metadata": {
        "id": "G5I8OsLNnvTu",
        "colab_type": "code",
        "colab": {}
      },
      "source": [
        "wine_model = keras.Sequential([\n",
        "                               keras.layers.Dense(units=128, activation = 'relu',input_shape=(11,)),\n",
        "                               keras.layers.Dense(units=64, activation='relu'),\n",
        "                               keras.layers.Dense(units=32, activation='relu'),\n",
        "                               keras.layers.Dense(units=3, activation='softmax')\n",
        "])"
      ],
      "execution_count": 56,
      "outputs": []
    },
    {
      "cell_type": "code",
      "metadata": {
        "id": "YUKSOr3spM7Z",
        "colab_type": "code",
        "colab": {}
      },
      "source": [
        "wine_model.compile(optimizer=keras.optimizers.Adam(lr=0.001), loss='categorical_crossentropy', metrics=['accuracy'])"
      ],
      "execution_count": 57,
      "outputs": []
    },
    {
      "cell_type": "code",
      "metadata": {
        "id": "YLCwAog_pbJD",
        "colab_type": "code",
        "colab": {}
      },
      "source": [
        "w_history= wine_model.fit(X_train, y_train, batch_size= 500, epochs=300, validation_split=0.2)"
      ],
      "execution_count": null,
      "outputs": []
    },
    {
      "cell_type": "code",
      "metadata": {
        "id": "e5Z73vfnp3TY",
        "colab_type": "code",
        "colab": {
          "base_uri": "https://localhost:8080/",
          "height": 336
        },
        "outputId": "ae252174-4b14-4bc7-b054-80a691f4cfe7"
      },
      "source": [
        "plt.figure(figsize=(10,5))\n",
        "plt.title('Loss')\n",
        "plt.plot(w_history.history['loss'])\n",
        "plt.plot(w_history.history['val_loss'], label=\"val\")\n",
        "plt.legend()\n",
        "plt.show()"
      ],
      "execution_count": 59,
      "outputs": [
        {
          "output_type": "display_data",
          "data": {
            "image/png": "[encoded data removed]",
            "text/plain": [
              "<Figure size 720x360 with 1 Axes>"
            ]
          },
          "metadata": {
            "tags": [],
            "needs_background": "light"
          }
        }
      ]
    },
    {
      "cell_type": "code",
      "metadata": {
        "id": "esikFZhGqe38",
        "colab_type": "code",
        "colab": {
          "base_uri": "https://localhost:8080/",
          "height": 336
        },
        "outputId": "696d329d-54ec-4f49-9057-d22262f91db0"
      },
      "source": [
        "plt.figure(figsize=(10,5))\n",
        "plt.title('Acc')\n",
        "plt.plot(w_history.history['accuracy'])\n",
        "plt.plot(w_history.history['val_accuracy'], label=\"val\")\n",
        "plt.legend()\n",
        "plt.show()"
      ],
      "execution_count": 60,
      "outputs": [
        {
          "output_type": "display_data",
          "data": {
            "image/png": "[encoded data removed]",
            "text/plain": [
              "<Figure size 720x360 with 1 Axes>"
            ]
          },
          "metadata": {
            "tags": [],
            "needs_background": "light"
          }
        }
      ]
    },
    {
      "cell_type": "code",
      "metadata": {
        "id": "M3b5OdDyql2v",
        "colab_type": "code",
        "colab": {
          "base_uri": "https://localhost:8080/",
          "height": 53
        },
        "outputId": "67ae342d-f099-49c8-83c9-0fd8c78ffe97"
      },
      "source": [
        "wine_model.evaluate(X_test,y_test)"
      ],
      "execution_count": 61,
      "outputs": [
        {
          "output_type": "stream",
          "text": [
            "41/41 [==============================] - 0s 847us/step - loss: 0.3447 - accuracy: 0.8369\n"
          ],
          "name": "stdout"
        },
        {
          "output_type": "execute_result",
          "data": {
            "text/plain": [
              "[0.34473729133605957, 0.8369230628013611]"
            ]
          },
          "metadata": {
            "tags": []
          },
          "execution_count": 61
        }
      ]
    },
    {
      "cell_type": "markdown",
      "metadata": {
        "id": "G90gDfBUnvwX",
        "colab_type": "text"
      },
      "source": [
        "# iris 분류하기"
      ]
    },
    {
      "cell_type": "code",
      "metadata": {
        "id": "KxxktBDwi9ZS",
        "colab_type": "code",
        "colab": {
          "base_uri": "https://localhost:8080/",
          "height": 35
        },
        "outputId": "06a23327-7537-469c-be97-8a7a49287b2b"
      },
      "source": [
        "# 분류하기\n",
        "\n",
        "# 꽃받침 길이(Sepal Length)\n",
        "# 꽃받침 폭(Sepal Width)\n",
        "# 꽃잎 길이(Petal Length)\n",
        "# 꽃잎 폭(Petal Width)\n",
        "\n",
        "# setosa, versicolor, virginica의 세가지 붓꽃 종(species)\n",
        "\n",
        "import os\n",
        "\n",
        "train_dataset_url = \"https://storage.googleapis.com/download.tensorflow.org/data/iris_training.csv\"\n",
        "train_dataset_fp = tf.keras.utils.get_file(fname=os.path.basename(train_dataset_url), origin=train_dataset_url)\n",
        "print(\"데이터셋이 복사된 위치: {}\".format(train_dataset_fp))"
      ],
      "execution_count": 241,
      "outputs": [
        {
          "output_type": "stream",
          "text": [
            "데이터셋이 복사된 위치: /root/.keras/datasets/iris_training.csv\n"
          ],
          "name": "stdout"
        }
      ]
    },
    {
      "cell_type": "code",
      "metadata": {
        "id": "lH5eIK6Gjkvu",
        "colab_type": "code",
        "colab": {
          "base_uri": "https://localhost:8080/",
          "height": 419
        },
        "outputId": "4ddc1e5f-5786-4b20-f1d0-4dbf54627095"
      },
      "source": [
        "import pandas as pd\n",
        "column_names = ['sepal_length', 'sepal_width', 'petal_length', 'petal_width', 'species']\n",
        "df = pd.read_csv(train_dataset_fp, skiprows=1, names = column_names)\n",
        "df\n"
      ],
      "execution_count": 242,
      "outputs": [
        {
          "output_type": "execute_result",
          "data": {
            "text/html": [
              "<div>\n",
              "<style scoped>\n",
              "    .dataframe tbody tr th:only-of-type {\n",
              "        vertical-align: middle;\n",
              "    }\n",
              "\n",
              "    .dataframe tbody tr th {\n",
              "        vertical-align: top;\n",
              "    }\n",
              "\n",
              "    .dataframe thead th {\n",
              "        text-align: right;\n",
              "    }\n",
              "</style>\n",
              "<table border=\"1\" class=\"dataframe\">\n",
              "  <thead>\n",
              "    <tr style=\"text-align: right;\">\n",
              "      <th></th>\n",
              "      <th>sepal_length</th>\n",
              "      <th>sepal_width</th>\n",
              "      <th>petal_length</th>\n",
              "      <th>petal_width</th>\n",
              "      <th>species</th>\n",
              "    </tr>\n",
              "  </thead>\n",
              "  <tbody>\n",
              "    <tr>\n",
              "      <th>0</th>\n",
              "      <td>6.4</td>\n",
              "      <td>2.8</td>\n",
              "      <td>5.6</td>\n",
              "      <td>2.2</td>\n",
              "      <td>2</td>\n",
              "    </tr>\n",
              "    <tr>\n",
              "      <th>1</th>\n",
              "      <td>5.0</td>\n",
              "      <td>2.3</td>\n",
              "      <td>3.3</td>\n",
              "      <td>1.0</td>\n",
              "      <td>1</td>\n",
              "    </tr>\n",
              "    <tr>\n",
              "      <th>2</th>\n",
              "      <td>4.9</td>\n",
              "      <td>2.5</td>\n",
              "      <td>4.5</td>\n",
              "      <td>1.7</td>\n",
              "      <td>2</td>\n",
              "    </tr>\n",
              "    <tr>\n",
              "      <th>3</th>\n",
              "      <td>4.9</td>\n",
              "      <td>3.1</td>\n",
              "      <td>1.5</td>\n",
              "      <td>0.1</td>\n",
              "      <td>0</td>\n",
              "    </tr>\n",
              "    <tr>\n",
              "      <th>4</th>\n",
              "      <td>5.7</td>\n",
              "      <td>3.8</td>\n",
              "      <td>1.7</td>\n",
              "      <td>0.3</td>\n",
              "      <td>0</td>\n",
              "    </tr>\n",
              "    <tr>\n",
              "      <th>...</th>\n",
              "      <td>...</td>\n",
              "      <td>...</td>\n",
              "      <td>...</td>\n",
              "      <td>...</td>\n",
              "      <td>...</td>\n",
              "    </tr>\n",
              "    <tr>\n",
              "      <th>115</th>\n",
              "      <td>5.5</td>\n",
              "      <td>2.6</td>\n",
              "      <td>4.4</td>\n",
              "      <td>1.2</td>\n",
              "      <td>1</td>\n",
              "    </tr>\n",
              "    <tr>\n",
              "      <th>116</th>\n",
              "      <td>5.7</td>\n",
              "      <td>3.0</td>\n",
              "      <td>4.2</td>\n",
              "      <td>1.2</td>\n",
              "      <td>1</td>\n",
              "    </tr>\n",
              "    <tr>\n",
              "      <th>117</th>\n",
              "      <td>4.4</td>\n",
              "      <td>2.9</td>\n",
              "      <td>1.4</td>\n",
              "      <td>0.2</td>\n",
              "      <td>0</td>\n",
              "    </tr>\n",
              "    <tr>\n",
              "      <th>118</th>\n",
              "      <td>4.8</td>\n",
              "      <td>3.0</td>\n",
              "      <td>1.4</td>\n",
              "      <td>0.1</td>\n",
              "      <td>0</td>\n",
              "    </tr>\n",
              "    <tr>\n",
              "      <th>119</th>\n",
              "      <td>5.5</td>\n",
              "      <td>2.4</td>\n",
              "      <td>3.7</td>\n",
              "      <td>1.0</td>\n",
              "      <td>1</td>\n",
              "    </tr>\n",
              "  </tbody>\n",
              "</table>\n",
              "<p>120 rows × 5 columns</p>\n",
              "</div>"
            ],
            "text/plain": [
              "     sepal_length  sepal_width  petal_length  petal_width  species\n",
              "0             6.4          2.8           5.6          2.2        2\n",
              "1             5.0          2.3           3.3          1.0        1\n",
              "2             4.9          2.5           4.5          1.7        2\n",
              "3             4.9          3.1           1.5          0.1        0\n",
              "4             5.7          3.8           1.7          0.3        0\n",
              "..            ...          ...           ...          ...      ...\n",
              "115           5.5          2.6           4.4          1.2        1\n",
              "116           5.7          3.0           4.2          1.2        1\n",
              "117           4.4          2.9           1.4          0.2        0\n",
              "118           4.8          3.0           1.4          0.1        0\n",
              "119           5.5          2.4           3.7          1.0        1\n",
              "\n",
              "[120 rows x 5 columns]"
            ]
          },
          "metadata": {
            "tags": []
          },
          "execution_count": 242
        }
      ]
    },
    {
      "cell_type": "code",
      "metadata": {
        "id": "GTYMGDJfKFSv",
        "colab_type": "code",
        "colab": {
          "base_uri": "https://localhost:8080/",
          "height": 125
        },
        "outputId": "c1056073-7811-4e2f-9b16-973242ce6795"
      },
      "source": [
        "# 타입확인\n",
        "df.dtypes"
      ],
      "execution_count": 243,
      "outputs": [
        {
          "output_type": "execute_result",
          "data": {
            "text/plain": [
              "sepal_length    float64\n",
              "sepal_width     float64\n",
              "petal_length    float64\n",
              "petal_width     float64\n",
              "species           int64\n",
              "dtype: object"
            ]
          },
          "metadata": {
            "tags": []
          },
          "execution_count": 243
        }
      ]
    },
    {
      "cell_type": "code",
      "metadata": {
        "id": "JtPujQpuKL20",
        "colab_type": "code",
        "colab": {}
      },
      "source": [
        "# 타입변경 int\n",
        "df['species'] = df['species'].astype('float64')"
      ],
      "execution_count": 244,
      "outputs": []
    },
    {
      "cell_type": "code",
      "metadata": {
        "id": "ar43XAj5KL68",
        "colab_type": "code",
        "colab": {}
      },
      "source": [
        "# 나누기\n",
        "train_idx = int(len(df)*0.8)\n",
        "\n",
        "df1 = df.iloc[:train_idx, :]\n",
        "df2 = df.iloc[train_idx:, :]\n",
        "\n",
        "\n",
        "X_train = df1.iloc[:, 0:4].to_numpy()\n",
        "y_train = df1.iloc[:,4].to_numpy()\n",
        "\n",
        "X_test = df2.iloc[:, 0:4].to_numpy()\n",
        "y_test = df2.iloc[:,4].to_numpy()\n"
      ],
      "execution_count": 245,
      "outputs": []
    },
    {
      "cell_type": "code",
      "metadata": {
        "id": "iotQ5miYKQm-",
        "colab_type": "code",
        "colab": {}
      },
      "source": [
        "# one - hot \n",
        "y_train = tf.keras.utils.to_categorical(y_train,num_classes=3)\n",
        "y_test = tf.keras.utils.to_categorical(y_test, num_classes=3)"
      ],
      "execution_count": 246,
      "outputs": []
    },
    {
      "cell_type": "code",
      "metadata": {
        "id": "H5Vyze88KL_h",
        "colab_type": "code",
        "colab": {}
      },
      "source": [
        "# model\n",
        "i_model = tf.keras.Sequential([\n",
        "    tf.keras.layers.Dense(units=48, activation='relu', input_shape=(4,)),\n",
        "    tf.keras.layers.Dense(units=24, activation='relu'),\n",
        "    tf.keras.layers.Dense(units=12, activation='relu'),\n",
        "    tf.keras.layers.Dense(units=3, activation='softmax')\n",
        "])"
      ],
      "execution_count": 247,
      "outputs": []
    },
    {
      "cell_type": "code",
      "metadata": {
        "id": "PMax9S0oKnDv",
        "colab_type": "code",
        "colab": {
          "base_uri": "https://localhost:8080/",
          "height": 305
        },
        "outputId": "d507ad44-a239-47bc-8c87-140cad2ca695"
      },
      "source": [
        "i_model.compile(optimizer=tf.keras.optimizers.Adam(lr=0.003), loss='categorical_crossentropy', metrics=['accuracy'])\n",
        "i_model.summary()"
      ],
      "execution_count": 250,
      "outputs": [
        {
          "output_type": "stream",
          "text": [
            "Model: \"sequential_12\"\n",
            "_________________________________________________________________\n",
            "Layer (type)                 Output Shape              Param #   \n",
            "=================================================================\n",
            "dense_42 (Dense)             (None, 48)                240       \n",
            "_________________________________________________________________\n",
            "dense_43 (Dense)             (None, 24)                1176      \n",
            "_________________________________________________________________\n",
            "dense_44 (Dense)             (None, 12)                300       \n",
            "_________________________________________________________________\n",
            "dense_45 (Dense)             (None, 3)                 39        \n",
            "=================================================================\n",
            "Total params: 1,755\n",
            "Trainable params: 1,755\n",
            "Non-trainable params: 0\n",
            "_________________________________________________________________\n"
          ],
          "name": "stdout"
        }
      ]
    },
    {
      "cell_type": "code",
      "metadata": {
        "id": "lmDpNyEKK2Uw",
        "colab_type": "code",
        "colab": {}
      },
      "source": [
        "i_history =i_model.fit(X_train, y_train, batch_size=25, epochs= 200, validation_split = 0.2)"
      ],
      "execution_count": null,
      "outputs": []
    },
    {
      "cell_type": "code",
      "metadata": {
        "id": "yZ_WY0dPMG2r",
        "colab_type": "code",
        "colab": {
          "base_uri": "https://localhost:8080/",
          "height": 354
        },
        "outputId": "82393fe3-2e17-4bd4-9ab9-357f2b348864"
      },
      "source": [
        "plt.figure(figsize= (10,5))\n",
        "plt.title(\"Loss\")\n",
        "plt.plot(i_history.history['loss'])\n",
        "plt.plot(i_history.history['val_loss'],label = 'val')\n",
        "plt.legend()"
      ],
      "execution_count": 262,
      "outputs": [
        {
          "output_type": "execute_result",
          "data": {
            "text/plain": [
              "<matplotlib.legend.Legend at 0x7f409fda27f0>"
            ]
          },
          "metadata": {
            "tags": []
          },
          "execution_count": 262
        },
        {
          "output_type": "display_data",
          "data": {
            "image/png": "[encoded data removed]",
            "text/plain": [
              "<Figure size 720x360 with 1 Axes>"
            ]
          },
          "metadata": {
            "tags": [],
            "needs_background": "light"
          }
        }
      ]
    },
    {
      "cell_type": "code",
      "metadata": {
        "id": "j2oNsCRuMVxW",
        "colab_type": "code",
        "colab": {
          "base_uri": "https://localhost:8080/",
          "height": 354
        },
        "outputId": "c4a4c5ae-6c50-4bcc-afdb-631672d875a4"
      },
      "source": [
        "plt.figure(figsize= (10,5))\n",
        "plt.title(\"Acc\")\n",
        "plt.plot(i_history.history['accuracy'])\n",
        "plt.plot(i_history.history['val_accuracy'],label = 'val')\n",
        "plt.legend()"
      ],
      "execution_count": 263,
      "outputs": [
        {
          "output_type": "execute_result",
          "data": {
            "text/plain": [
              "<matplotlib.legend.Legend at 0x7f409fae5860>"
            ]
          },
          "metadata": {
            "tags": []
          },
          "execution_count": 263
        },
        {
          "output_type": "display_data",
          "data": {
            "image/png": "[encoded data removed]",
            "text/plain": [
              "<Figure size 720x360 with 1 Axes>"
            ]
          },
          "metadata": {
            "tags": [],
            "needs_background": "light"
          }
        }
      ]
    },
    {
      "cell_type": "markdown",
      "metadata": {
        "id": "W5Y2orFEOik0",
        "colab_type": "text"
      },
      "source": [
        "### 테스트"
      ]
    },
    {
      "cell_type": "code",
      "metadata": {
        "id": "fr8ebtBGMarF",
        "colab_type": "code",
        "colab": {
          "base_uri": "https://localhost:8080/",
          "height": 53
        },
        "outputId": "40876e50-632e-4328-c175-3b70fac53709"
      },
      "source": [
        "i_model.evaluate(X_test, y_test)"
      ],
      "execution_count": 265,
      "outputs": [
        {
          "output_type": "stream",
          "text": [
            "1/1 [==============================] - 0s 2ms/step - loss: 0.0373 - accuracy: 1.0000\n"
          ],
          "name": "stdout"
        },
        {
          "output_type": "execute_result",
          "data": {
            "text/plain": [
              "[0.037281397730112076, 1.0]"
            ]
          },
          "metadata": {
            "tags": []
          },
          "execution_count": 265
        }
      ]
    },
    {
      "cell_type": "code",
      "metadata": {
        "id": "RKRfQQubN9Wr",
        "colab_type": "code",
        "colab": {
          "base_uri": "https://localhost:8080/",
          "height": 35
        },
        "outputId": "0e8d4f95-7afc-4c01-e7a2-11ee448956f9"
      },
      "source": [
        "X_test.shape"
      ],
      "execution_count": 286,
      "outputs": [
        {
          "output_type": "execute_result",
          "data": {
            "text/plain": [
              "(24, 4)"
            ]
          },
          "metadata": {
            "tags": []
          },
          "execution_count": 286
        }
      ]
    },
    {
      "cell_type": "code",
      "metadata": {
        "id": "imK_XgawMdT6",
        "colab_type": "code",
        "colab": {
          "base_uri": "https://localhost:8080/",
          "height": 107
        },
        "outputId": "c53976b2-bb46-4c47-d744-dfa4ef23a2c6"
      },
      "source": [
        "randidx = np.random.randint(X_test.shape[0], size=5)\n",
        "for i in range(5):\n",
        "  print('real: ', np.argmax(y_test[randidx[i]]),'prediction:',np.argmax(i_model.predict(X_test[randidx[i]].reshape(1,4))))"
      ],
      "execution_count": 293,
      "outputs": [
        {
          "output_type": "stream",
          "text": [
            "real:  0 prediction: 0\n",
            "real:  1 prediction: 1\n",
            "real:  1 prediction: 1\n",
            "real:  0 prediction: 0\n",
            "real:  1 prediction: 1\n"
          ],
          "name": "stdout"
        }
      ]
    },
    {
      "cell_type": "markdown",
      "metadata": {
        "id": "9ulfkdLAsJuB",
        "colab_type": "text"
      },
      "source": [
        "<br><br><br>\n",
        "\n",
        "\n",
        "# 숫자 이미지 데이터 분류"
      ]
    },
    {
      "cell_type": "code",
      "metadata": {
        "id": "qrWHwDmMsLz4",
        "colab_type": "code",
        "colab": {}
      },
      "source": [
        "# 이미지 받기\n",
        "from tensorflow.keras.datasets.mnist import load_data\n",
        "(X_train, y_train), (X_test, y_test) = load_data(path='minst.npz')"
      ],
      "execution_count": 206,
      "outputs": []
    },
    {
      "cell_type": "code",
      "metadata": {
        "id": "gc-lvFO-sb8w",
        "colab_type": "code",
        "colab": {
          "base_uri": "https://localhost:8080/",
          "height": 35
        },
        "outputId": "8dcfbc2a-a809-4601-b5fe-27da48cfb66f"
      },
      "source": [
        "# 이미지 크기\n",
        "X_train.shape\n"
      ],
      "execution_count": 207,
      "outputs": [
        {
          "output_type": "execute_result",
          "data": {
            "text/plain": [
              "(60000, 28, 28)"
            ]
          },
          "metadata": {
            "tags": []
          },
          "execution_count": 207
        }
      ]
    },
    {
      "cell_type": "code",
      "metadata": {
        "id": "2Uk79Fy7wbyz",
        "colab_type": "code",
        "colab": {
          "base_uri": "https://localhost:8080/",
          "height": 35
        },
        "outputId": "3206e7a6-c465-473d-97f6-5f0640e0add9"
      },
      "source": [
        "X_test.shape"
      ],
      "execution_count": 208,
      "outputs": [
        {
          "output_type": "execute_result",
          "data": {
            "text/plain": [
              "(10000, 28, 28)"
            ]
          },
          "metadata": {
            "tags": []
          },
          "execution_count": 208
        }
      ]
    },
    {
      "cell_type": "code",
      "metadata": {
        "id": "Y8VKxe_qsem4",
        "colab_type": "code",
        "colab": {
          "base_uri": "https://localhost:8080/",
          "height": 1000
        },
        "outputId": "d7e3ca71-0c01-4530-87d8-32672eee6c0c"
      },
      "source": [
        "# 이미지 내용\n",
        "X_train[0]"
      ],
      "execution_count": 209,
      "outputs": [
        {
          "output_type": "execute_result",
          "data": {
            "text/plain": [
              "array([[  0,   0,   0,   0,   0,   0,   0,   0,   0,   0,   0,   0,   0,\n",
              "          0,   0,   0,   0,   0,   0,   0,   0,   0,   0,   0,   0,   0,\n",
              "          0,   0],\n",
              "       [  0,   0,   0,   0,   0,   0,   0,   0,   0,   0,   0,   0,   0,\n",
              "          0,   0,   0,   0,   0,   0,   0,   0,   0,   0,   0,   0,   0,\n",
              "          0,   0],\n",
              "       [  0,   0,   0,   0,   0,   0,   0,   0,   0,   0,   0,   0,   0,\n",
              "          0,   0,   0,   0,   0,   0,   0,   0,   0,   0,   0,   0,   0,\n",
              "          0,   0],\n",
              "       [  0,   0,   0,   0,   0,   0,   0,   0,   0,   0,   0,   0,   0,\n",
              "          0,   0,   0,   0,   0,   0,   0,   0,   0,   0,   0,   0,   0,\n",
              "          0,   0],\n",
              "       [  0,   0,   0,   0,   0,   0,   0,   0,   0,   0,   0,   0,   0,\n",
              "          0,   0,   0,   0,   0,   0,   0,   0,   0,   0,   0,   0,   0,\n",
              "          0,   0],\n",
              "       [  0,   0,   0,   0,   0,   0,   0,   0,   0,   0,   0,   0,   3,\n",
              "         18,  18,  18, 126, 136, 175,  26, 166, 255, 247, 127,   0,   0,\n",
              "          0,   0],\n",
              "       [  0,   0,   0,   0,   0,   0,   0,   0,  30,  36,  94, 154, 170,\n",
              "        253, 253, 253, 253, 253, 225, 172, 253, 242, 195,  64,   0,   0,\n",
              "          0,   0],\n",
              "       [  0,   0,   0,   0,   0,   0,   0,  49, 238, 253, 253, 253, 253,\n",
              "        253, 253, 253, 253, 251,  93,  82,  82,  56,  39,   0,   0,   0,\n",
              "          0,   0],\n",
              "       [  0,   0,   0,   0,   0,   0,   0,  18, 219, 253, 253, 253, 253,\n",
              "        253, 198, 182, 247, 241,   0,   0,   0,   0,   0,   0,   0,   0,\n",
              "          0,   0],\n",
              "       [  0,   0,   0,   0,   0,   0,   0,   0,  80, 156, 107, 253, 253,\n",
              "        205,  11,   0,  43, 154,   0,   0,   0,   0,   0,   0,   0,   0,\n",
              "          0,   0],\n",
              "       [  0,   0,   0,   0,   0,   0,   0,   0,   0,  14,   1, 154, 253,\n",
              "         90,   0,   0,   0,   0,   0,   0,   0,   0,   0,   0,   0,   0,\n",
              "          0,   0],\n",
              "       [  0,   0,   0,   0,   0,   0,   0,   0,   0,   0,   0, 139, 253,\n",
              "        190,   2,   0,   0,   0,   0,   0,   0,   0,   0,   0,   0,   0,\n",
              "          0,   0],\n",
              "       [  0,   0,   0,   0,   0,   0,   0,   0,   0,   0,   0,  11, 190,\n",
              "        253,  70,   0,   0,   0,   0,   0,   0,   0,   0,   0,   0,   0,\n",
              "          0,   0],\n",
              "       [  0,   0,   0,   0,   0,   0,   0,   0,   0,   0,   0,   0,  35,\n",
              "        241, 225, 160, 108,   1,   0,   0,   0,   0,   0,   0,   0,   0,\n",
              "          0,   0],\n",
              "       [  0,   0,   0,   0,   0,   0,   0,   0,   0,   0,   0,   0,   0,\n",
              "         81, 240, 253, 253, 119,  25,   0,   0,   0,   0,   0,   0,   0,\n",
              "          0,   0],\n",
              "       [  0,   0,   0,   0,   0,   0,   0,   0,   0,   0,   0,   0,   0,\n",
              "          0,  45, 186, 253, 253, 150,  27,   0,   0,   0,   0,   0,   0,\n",
              "          0,   0],\n",
              "       [  0,   0,   0,   0,   0,   0,   0,   0,   0,   0,   0,   0,   0,\n",
              "          0,   0,  16,  93, 252, 253, 187,   0,   0,   0,   0,   0,   0,\n",
              "          0,   0],\n",
              "       [  0,   0,   0,   0,   0,   0,   0,   0,   0,   0,   0,   0,   0,\n",
              "          0,   0,   0,   0, 249, 253, 249,  64,   0,   0,   0,   0,   0,\n",
              "          0,   0],\n",
              "       [  0,   0,   0,   0,   0,   0,   0,   0,   0,   0,   0,   0,   0,\n",
              "          0,  46, 130, 183, 253, 253, 207,   2,   0,   0,   0,   0,   0,\n",
              "          0,   0],\n",
              "       [  0,   0,   0,   0,   0,   0,   0,   0,   0,   0,   0,   0,  39,\n",
              "        148, 229, 253, 253, 253, 250, 182,   0,   0,   0,   0,   0,   0,\n",
              "          0,   0],\n",
              "       [  0,   0,   0,   0,   0,   0,   0,   0,   0,   0,  24, 114, 221,\n",
              "        253, 253, 253, 253, 201,  78,   0,   0,   0,   0,   0,   0,   0,\n",
              "          0,   0],\n",
              "       [  0,   0,   0,   0,   0,   0,   0,   0,  23,  66, 213, 253, 253,\n",
              "        253, 253, 198,  81,   2,   0,   0,   0,   0,   0,   0,   0,   0,\n",
              "          0,   0],\n",
              "       [  0,   0,   0,   0,   0,   0,  18, 171, 219, 253, 253, 253, 253,\n",
              "        195,  80,   9,   0,   0,   0,   0,   0,   0,   0,   0,   0,   0,\n",
              "          0,   0],\n",
              "       [  0,   0,   0,   0,  55, 172, 226, 253, 253, 253, 253, 244, 133,\n",
              "         11,   0,   0,   0,   0,   0,   0,   0,   0,   0,   0,   0,   0,\n",
              "          0,   0],\n",
              "       [  0,   0,   0,   0, 136, 253, 253, 253, 212, 135, 132,  16,   0,\n",
              "          0,   0,   0,   0,   0,   0,   0,   0,   0,   0,   0,   0,   0,\n",
              "          0,   0],\n",
              "       [  0,   0,   0,   0,   0,   0,   0,   0,   0,   0,   0,   0,   0,\n",
              "          0,   0,   0,   0,   0,   0,   0,   0,   0,   0,   0,   0,   0,\n",
              "          0,   0],\n",
              "       [  0,   0,   0,   0,   0,   0,   0,   0,   0,   0,   0,   0,   0,\n",
              "          0,   0,   0,   0,   0,   0,   0,   0,   0,   0,   0,   0,   0,\n",
              "          0,   0],\n",
              "       [  0,   0,   0,   0,   0,   0,   0,   0,   0,   0,   0,   0,   0,\n",
              "          0,   0,   0,   0,   0,   0,   0,   0,   0,   0,   0,   0,   0,\n",
              "          0,   0]], dtype=uint8)"
            ]
          },
          "metadata": {
            "tags": []
          },
          "execution_count": 209
        }
      ]
    },
    {
      "cell_type": "code",
      "metadata": {
        "id": "N7mXZEXYwrVE",
        "colab_type": "code",
        "colab": {
          "base_uri": "https://localhost:8080/",
          "height": 35
        },
        "outputId": "c3877226-700d-4fcf-c93f-2b74c4238567"
      },
      "source": [
        "y_train[0]"
      ],
      "execution_count": 210,
      "outputs": [
        {
          "output_type": "execute_result",
          "data": {
            "text/plain": [
              "5"
            ]
          },
          "metadata": {
            "tags": []
          },
          "execution_count": 210
        }
      ]
    },
    {
      "cell_type": "code",
      "metadata": {
        "id": "OK0pb2ZqsjGx",
        "colab_type": "code",
        "colab": {
          "base_uri": "https://localhost:8080/",
          "height": 265
        },
        "outputId": "8555356b-17ac-4e02-a8ee-2aef8f7df821"
      },
      "source": [
        "plt.imshow(X_train[0])\n",
        "plt.colorbar()\n",
        "plt.show()"
      ],
      "execution_count": 211,
      "outputs": [
        {
          "output_type": "display_data",
          "data": {
            "image/png": "[encoded data removed]",
            "text/plain": [
              "<Figure size 432x288 with 2 Axes>"
            ]
          },
          "metadata": {
            "tags": [],
            "needs_background": "light"
          }
        }
      ]
    },
    {
      "cell_type": "code",
      "metadata": {
        "id": "VWUDbtlItBgS",
        "colab_type": "code",
        "colab": {
          "base_uri": "https://localhost:8080/",
          "height": 35
        },
        "outputId": "837d54f6-a754-4d45-cd13-7634bda17dbd"
      },
      "source": [
        "#0~59999 사이의 랜덤 숫자 3개를 꺼내서 화면에 표시하기\n",
        "random_idx = np.random.randint(60000, size=3)\n",
        "random_idx"
      ],
      "execution_count": 212,
      "outputs": [
        {
          "output_type": "execute_result",
          "data": {
            "text/plain": [
              "array([39053, 55273, 33799])"
            ]
          },
          "metadata": {
            "tags": []
          },
          "execution_count": 212
        }
      ]
    },
    {
      "cell_type": "code",
      "metadata": {
        "id": "-BsLcgvLtbpX",
        "colab_type": "code",
        "colab": {
          "base_uri": "https://localhost:8080/",
          "height": 149
        },
        "outputId": "101f065c-eac5-4cb3-8c07-c4e72056622d"
      },
      "source": [
        "np.random.seed(1)\n",
        "for i in range(3):\n",
        "  img = X_train[random_idx[i]]\n",
        "  plt.subplot(1,3,i+1)\n",
        "  plt.title(y_train[random_idx[i]])\n",
        "  plt.axis('off')\n",
        "  plt.grid(False)\n",
        "  plt.imshow(img)\n",
        "plt.show()"
      ],
      "execution_count": 213,
      "outputs": [
        {
          "output_type": "display_data",
          "data": {
            "image/png": "[encoded data removed]",
            "text/plain": [
              "<Figure size 432x288 with 3 Axes>"
            ]
          },
          "metadata": {
            "tags": []
          }
        }
      ]
    },
    {
      "cell_type": "markdown",
      "metadata": {
        "id": "8FifnWjMvTs4",
        "colab_type": "text"
      },
      "source": [
        "### 전처리"
      ]
    },
    {
      "cell_type": "code",
      "metadata": {
        "id": "2BPgaQASvVtS",
        "colab_type": "code",
        "colab": {
          "base_uri": "https://localhost:8080/",
          "height": 899
        },
        "outputId": "64d65461-d156-4e61-f854-89ddaa1257b0"
      },
      "source": [
        "X_train = X_train/255.0\n",
        "X_test - X_test/255.0"
      ],
      "execution_count": 214,
      "outputs": [
        {
          "output_type": "execute_result",
          "data": {
            "text/plain": [
              "array([[[0., 0., 0., ..., 0., 0., 0.],\n",
              "        [0., 0., 0., ..., 0., 0., 0.],\n",
              "        [0., 0., 0., ..., 0., 0., 0.],\n",
              "        ...,\n",
              "        [0., 0., 0., ..., 0., 0., 0.],\n",
              "        [0., 0., 0., ..., 0., 0., 0.],\n",
              "        [0., 0., 0., ..., 0., 0., 0.]],\n",
              "\n",
              "       [[0., 0., 0., ..., 0., 0., 0.],\n",
              "        [0., 0., 0., ..., 0., 0., 0.],\n",
              "        [0., 0., 0., ..., 0., 0., 0.],\n",
              "        ...,\n",
              "        [0., 0., 0., ..., 0., 0., 0.],\n",
              "        [0., 0., 0., ..., 0., 0., 0.],\n",
              "        [0., 0., 0., ..., 0., 0., 0.]],\n",
              "\n",
              "       [[0., 0., 0., ..., 0., 0., 0.],\n",
              "        [0., 0., 0., ..., 0., 0., 0.],\n",
              "        [0., 0., 0., ..., 0., 0., 0.],\n",
              "        ...,\n",
              "        [0., 0., 0., ..., 0., 0., 0.],\n",
              "        [0., 0., 0., ..., 0., 0., 0.],\n",
              "        [0., 0., 0., ..., 0., 0., 0.]],\n",
              "\n",
              "       ...,\n",
              "\n",
              "       [[0., 0., 0., ..., 0., 0., 0.],\n",
              "        [0., 0., 0., ..., 0., 0., 0.],\n",
              "        [0., 0., 0., ..., 0., 0., 0.],\n",
              "        ...,\n",
              "        [0., 0., 0., ..., 0., 0., 0.],\n",
              "        [0., 0., 0., ..., 0., 0., 0.],\n",
              "        [0., 0., 0., ..., 0., 0., 0.]],\n",
              "\n",
              "       [[0., 0., 0., ..., 0., 0., 0.],\n",
              "        [0., 0., 0., ..., 0., 0., 0.],\n",
              "        [0., 0., 0., ..., 0., 0., 0.],\n",
              "        ...,\n",
              "        [0., 0., 0., ..., 0., 0., 0.],\n",
              "        [0., 0., 0., ..., 0., 0., 0.],\n",
              "        [0., 0., 0., ..., 0., 0., 0.]],\n",
              "\n",
              "       [[0., 0., 0., ..., 0., 0., 0.],\n",
              "        [0., 0., 0., ..., 0., 0., 0.],\n",
              "        [0., 0., 0., ..., 0., 0., 0.],\n",
              "        ...,\n",
              "        [0., 0., 0., ..., 0., 0., 0.],\n",
              "        [0., 0., 0., ..., 0., 0., 0.],\n",
              "        [0., 0., 0., ..., 0., 0., 0.]]])"
            ]
          },
          "metadata": {
            "tags": []
          },
          "execution_count": 214
        }
      ]
    },
    {
      "cell_type": "code",
      "metadata": {
        "id": "-hQPN-9-uJzx",
        "colab_type": "code",
        "colab": {}
      },
      "source": [
        "#label 범주형으로\n",
        "y_train= tf.keras.utils.to_categorical(y_train, num_classes= 10)\n",
        "y_test = tf.keras.utils.to_categorical(y_test, num_classes =10)"
      ],
      "execution_count": 215,
      "outputs": []
    },
    {
      "cell_type": "code",
      "metadata": {
        "id": "kvxhacXazi6W",
        "colab_type": "code",
        "colab": {
          "base_uri": "https://localhost:8080/",
          "height": 35
        },
        "outputId": "4d010249-4ee4-403c-a2dc-4fa30998d532"
      },
      "source": [
        "y_train[0]"
      ],
      "execution_count": 216,
      "outputs": [
        {
          "output_type": "execute_result",
          "data": {
            "text/plain": [
              "array([0., 0., 0., 0., 0., 1., 0., 0., 0., 0.], dtype=float32)"
            ]
          },
          "metadata": {
            "tags": []
          },
          "execution_count": 216
        }
      ]
    },
    {
      "cell_type": "markdown",
      "metadata": {
        "id": "TS-9VBXgJYvS",
        "colab_type": "text"
      },
      "source": [
        "### 모델링"
      ]
    },
    {
      "cell_type": "code",
      "metadata": {
        "id": "NlPCp4-i0FRj",
        "colab_type": "code",
        "colab": {}
      },
      "source": [
        "m_model = keras.Sequential([\n",
        "                            keras.layers.Flatten(input_shape = (28,28)),\n",
        "                            keras.layers.Dense(units=128 , activation = 'relu', input_shape =(784,)),\n",
        "                            keras.layers.Dense(units=64, activation = 'relu'),\n",
        "                            keras.layers.Dense(units=10, activation = 'softmax')\n",
        "                  \n",
        "])"
      ],
      "execution_count": 217,
      "outputs": []
    },
    {
      "cell_type": "code",
      "metadata": {
        "id": "FKU-hqf70nah",
        "colab_type": "code",
        "colab": {
          "base_uri": "https://localhost:8080/",
          "height": 305
        },
        "outputId": "76f0ab9e-ed1b-4af4-f5d1-c0c9d57debc6"
      },
      "source": [
        "m_model.summary()"
      ],
      "execution_count": 218,
      "outputs": [
        {
          "output_type": "stream",
          "text": [
            "Model: \"sequential_9\"\n",
            "_________________________________________________________________\n",
            "Layer (type)                 Output Shape              Param #   \n",
            "=================================================================\n",
            "flatten_7 (Flatten)          (None, 784)               0         \n",
            "_________________________________________________________________\n",
            "dense_31 (Dense)             (None, 128)               100480    \n",
            "_________________________________________________________________\n",
            "dense_32 (Dense)             (None, 64)                8256      \n",
            "_________________________________________________________________\n",
            "dense_33 (Dense)             (None, 10)                650       \n",
            "=================================================================\n",
            "Total params: 109,386\n",
            "Trainable params: 109,386\n",
            "Non-trainable params: 0\n",
            "_________________________________________________________________\n"
          ],
          "name": "stdout"
        }
      ]
    },
    {
      "cell_type": "code",
      "metadata": {
        "id": "5mJrYW3d0oPr",
        "colab_type": "code",
        "colab": {}
      },
      "source": [
        "m_model.compile(optimizer=keras.optimizers.Adam(lr=0.001), loss = 'categorical_crossentropy', metrics=['accuracy'])"
      ],
      "execution_count": 219,
      "outputs": []
    },
    {
      "cell_type": "code",
      "metadata": {
        "id": "n2Vg0j9n027c",
        "colab_type": "code",
        "colab": {}
      },
      "source": [
        "m_history = m_model.fit(X_train, y_train, batch_size= 2000, epochs= 150, validation_split=0.2, callbacks=tf.keras.callbacks.EarlyStopping(monitor='val_loss',patience=20))"
      ],
      "execution_count": null,
      "outputs": []
    },
    {
      "cell_type": "code",
      "metadata": {
        "id": "YbJhJ27zGGqD",
        "colab_type": "code",
        "colab": {
          "base_uri": "https://localhost:8080/",
          "height": 283
        },
        "outputId": "92f892b3-e3e5-4737-df7d-42f32559b73f"
      },
      "source": [
        "plt.plot(m_history.history['loss'])\n",
        "plt.plot(m_history.history['val_loss'],label='val')"
      ],
      "execution_count": 221,
      "outputs": [
        {
          "output_type": "execute_result",
          "data": {
            "text/plain": [
              "[<matplotlib.lines.Line2D at 0x7f40a7937278>]"
            ]
          },
          "metadata": {
            "tags": []
          },
          "execution_count": 221
        },
        {
          "output_type": "display_data",
          "data": {
            "image/png": "[encoded data removed]",
            "text/plain": [
              "<Figure size 432x288 with 1 Axes>"
            ]
          },
          "metadata": {
            "tags": [],
            "needs_background": "light"
          }
        }
      ]
    },
    {
      "cell_type": "code",
      "metadata": {
        "id": "sRz2ewFCGPmz",
        "colab_type": "code",
        "colab": {
          "base_uri": "https://localhost:8080/",
          "height": 283
        },
        "outputId": "0c979de1-942a-4bd3-e8fe-a152f6aad3f8"
      },
      "source": [
        "plt.plot(m_history.history['accuracy'])\n",
        "plt.plot(m_history.history['val_accuracy'],label='val')\n",
        "plt.legend()"
      ],
      "execution_count": 222,
      "outputs": [
        {
          "output_type": "execute_result",
          "data": {
            "text/plain": [
              "<matplotlib.legend.Legend at 0x7f40a72e0a90>"
            ]
          },
          "metadata": {
            "tags": []
          },
          "execution_count": 222
        },
        {
          "output_type": "display_data",
          "data": {
            "image/png": "[encoded data removed]",
            "text/plain": [
              "<Figure size 432x288 with 1 Axes>"
            ]
          },
          "metadata": {
            "tags": [],
            "needs_background": "light"
          }
        }
      ]
    },
    {
      "cell_type": "markdown",
      "metadata": {
        "id": "smKm5sMeJUF7",
        "colab_type": "text"
      },
      "source": [
        "### 테스트"
      ]
    },
    {
      "cell_type": "code",
      "metadata": {
        "id": "0wAIgAHfFViL",
        "colab_type": "code",
        "colab": {
          "base_uri": "https://localhost:8080/",
          "height": 35
        },
        "outputId": "0bf208c2-fd7a-48f3-f952-ae04fd629152"
      },
      "source": [
        "# 정확도 확인\n",
        "x1 = m_model.evaluate(X_test, y_test, verbose=1) "
      ],
      "execution_count": 223,
      "outputs": [
        {
          "output_type": "stream",
          "text": [
            "313/313 [==============================] - 1s 2ms/step - loss: 17.9641 - accuracy: 0.9745\n"
          ],
          "name": "stdout"
        }
      ]
    },
    {
      "cell_type": "code",
      "metadata": {
        "id": "MPOz2wf423JG",
        "colab_type": "code",
        "colab": {
          "base_uri": "https://localhost:8080/",
          "height": 162
        },
        "outputId": "dcf8b2aa-aef3-4d31-ed6f-1afbac058b27"
      },
      "source": [
        "# 랜덤으로 3개의 숫자를 생성\n",
        "random_idx = np.random.randint(10000, size=3)\n",
        "\n",
        "for i in range(3):\n",
        "  plt.subplot(1,3,i+1)\n",
        "  x2 = m_model.predict(X_test[ random_idx[i] ].reshape(1, 28, 28))\n",
        "  plt.title(f\"prediction: {np.argmax(x2)}\")\n",
        "  plt.imshow(X_test[random_idx[i]])"
      ],
      "execution_count": 224,
      "outputs": [
        {
          "output_type": "display_data",
          "data": {
            "image/png": "[encoded data removed]",
            "text/plain": [
              "<Figure size 432x288 with 3 Axes>"
            ]
          },
          "metadata": {
            "tags": [],
            "needs_background": "light"
          }
        }
      ]
    },
    {
      "cell_type": "markdown",
      "metadata": {
        "id": "jJ7fK5JdOw1U",
        "colab_type": "text"
      },
      "source": [
        "<br><br><br>\n",
        "\n",
        "#의류 이미지 분류"
      ]
    },
    {
      "cell_type": "markdown",
      "metadata": {
        "id": "yXMCbcJbR7wl",
        "colab_type": "text"
      },
      "source": [
        "### 데이터 확인"
      ]
    },
    {
      "cell_type": "code",
      "metadata": {
        "id": "Rcp9w3LrO7jl",
        "colab_type": "code",
        "colab": {}
      },
      "source": [
        "import tensorflow as tf\n",
        "import numpy as np\n",
        "\n",
        "fashion_mnist = tf.keras.datasets.fashion_mnist\n",
        "(X_train, y_train), (X_test, y_test) = fashion_mnist.load_data()\n"
      ],
      "execution_count": 297,
      "outputs": []
    },
    {
      "cell_type": "code",
      "metadata": {
        "id": "aa9PCshqPWK4",
        "colab_type": "code",
        "colab": {
          "base_uri": "https://localhost:8080/",
          "height": 35
        },
        "outputId": "8888ad1e-ff5d-4259-e876-ed351b4b65ed"
      },
      "source": [
        "X_train.shape"
      ],
      "execution_count": 299,
      "outputs": [
        {
          "output_type": "execute_result",
          "data": {
            "text/plain": [
              "(60000, 28, 28)"
            ]
          },
          "metadata": {
            "tags": []
          },
          "execution_count": 299
        }
      ]
    },
    {
      "cell_type": "code",
      "metadata": {
        "id": "m3gQRdMfPYKm",
        "colab_type": "code",
        "colab": {
          "base_uri": "https://localhost:8080/",
          "height": 35
        },
        "outputId": "a5f77590-8b48-4a63-952c-83605516d4ff"
      },
      "source": [
        "X_train.shape"
      ],
      "execution_count": 300,
      "outputs": [
        {
          "output_type": "execute_result",
          "data": {
            "text/plain": [
              "(60000, 28, 28)"
            ]
          },
          "metadata": {
            "tags": []
          },
          "execution_count": 300
        }
      ]
    },
    {
      "cell_type": "code",
      "metadata": {
        "id": "yLcbqeeYO81e",
        "colab_type": "code",
        "colab": {
          "base_uri": "https://localhost:8080/",
          "height": 35
        },
        "outputId": "46679a4d-0fdd-4763-c6f9-75953161d73b"
      },
      "source": [
        "class_names = ['T-shirt/top', 'Trouser', 'Pullover', 'Dress', 'Coat', 'Sandal', 'Shirt', 'Sneaker', 'Bag', 'Ankle boot']\n",
        "np.unique(y_train)"
      ],
      "execution_count": 306,
      "outputs": [
        {
          "output_type": "execute_result",
          "data": {
            "text/plain": [
              "array([0, 1, 2, 3, 4, 5, 6, 7, 8, 9], dtype=uint8)"
            ]
          },
          "metadata": {
            "tags": []
          },
          "execution_count": 306
        }
      ]
    },
    {
      "cell_type": "code",
      "metadata": {
        "id": "yfKgHXdOPbdG",
        "colab_type": "code",
        "colab": {
          "base_uri": "https://localhost:8080/",
          "height": 264
        },
        "outputId": "35545e09-73d4-4514-dd6a-755e4a8618a4"
      },
      "source": [
        "plt.imshow(X_train[0])\n",
        "plt.axis('off')\n",
        "plt.title(class_names[y_train[0]])\n",
        "plt.show()"
      ],
      "execution_count": 334,
      "outputs": [
        {
          "output_type": "display_data",
          "data": {
            "image/png": "[encoded data removed]",
            "text/plain": [
              "<Figure size 432x288 with 1 Axes>"
            ]
          },
          "metadata": {
            "tags": [],
            "needs_background": "light"
          }
        }
      ]
    },
    {
      "cell_type": "code",
      "metadata": {
        "id": "YDjHPWn_PJrv",
        "colab_type": "code",
        "colab": {
          "base_uri": "https://localhost:8080/",
          "height": 1000
        },
        "outputId": "0ba8ca8e-7ded-41ee-b3bd-08b8496fccce"
      },
      "source": [
        "plt.figure(figsize=(20,25))\n",
        "for i in range(20):\n",
        "  plt.subplot(4,5,i+1)\n",
        "  plt.title(class_names[y_train[i]])\n",
        "  plt.imshow(X_train[i])\n",
        "  plt.axis('off')\n",
        "plt.show()"
      ],
      "execution_count": 330,
      "outputs": [
        {
          "output_type": "display_data",
          "data": {
            "image/png": "[encoded data removed]",
            "text/plain": [
              "<Figure size 1440x1800 with 20 Axes>"
            ]
          },
          "metadata": {
            "tags": [],
            "needs_background": "light"
          }
        }
      ]
    },
    {
      "cell_type": "markdown",
      "metadata": {
        "id": "5sMp83vQR98k",
        "colab_type": "text"
      },
      "source": [
        "### 전처리"
      ]
    },
    {
      "cell_type": "code",
      "metadata": {
        "id": "MLG4jld4RZTn",
        "colab_type": "code",
        "colab": {
          "base_uri": "https://localhost:8080/",
          "height": 35
        },
        "outputId": "8da0f38b-2c42-4231-8e36-14f6e1bbec36"
      },
      "source": [
        "X_train.min()"
      ],
      "execution_count": 343,
      "outputs": [
        {
          "output_type": "execute_result",
          "data": {
            "text/plain": [
              "0"
            ]
          },
          "metadata": {
            "tags": []
          },
          "execution_count": 343
        }
      ]
    },
    {
      "cell_type": "code",
      "metadata": {
        "id": "4qZIfkeOSpIF",
        "colab_type": "code",
        "colab": {
          "base_uri": "https://localhost:8080/",
          "height": 35
        },
        "outputId": "71a1ef0b-ecf3-4fc2-d7a5-0c43d5565689"
      },
      "source": [
        "X_train.max()"
      ],
      "execution_count": 344,
      "outputs": [
        {
          "output_type": "execute_result",
          "data": {
            "text/plain": [
              "255"
            ]
          },
          "metadata": {
            "tags": []
          },
          "execution_count": 344
        }
      ]
    },
    {
      "cell_type": "code",
      "metadata": {
        "id": "oEAi55rmS5rq",
        "colab_type": "code",
        "colab": {
          "base_uri": "https://localhost:8080/",
          "height": 35
        },
        "outputId": "a85d3671-392e-4f43-c784-c5ea93a010ee"
      },
      "source": [
        "X_test.max()"
      ],
      "execution_count": 345,
      "outputs": [
        {
          "output_type": "execute_result",
          "data": {
            "text/plain": [
              "255"
            ]
          },
          "metadata": {
            "tags": []
          },
          "execution_count": 345
        }
      ]
    },
    {
      "cell_type": "markdown",
      "metadata": {
        "id": "CVcZbDz0Sq9u",
        "colab_type": "text"
      },
      "source": [
        "- 스케일링"
      ]
    },
    {
      "cell_type": "code",
      "metadata": {
        "id": "PdIH4IqySuB2",
        "colab_type": "code",
        "colab": {}
      },
      "source": [
        "X_train = X_train/255\n",
        "X_test = X_test/255"
      ],
      "execution_count": 346,
      "outputs": []
    },
    {
      "cell_type": "markdown",
      "metadata": {
        "id": "fBoGgvucTE0n",
        "colab_type": "text"
      },
      "source": [
        "- 원핫인코딩"
      ]
    },
    {
      "cell_type": "code",
      "metadata": {
        "id": "gb31Px85S_KB",
        "colab_type": "code",
        "colab": {}
      },
      "source": [
        "y_train = tf.keras.utils.to_categorical(y_train, num_classes= 10)\n",
        "y_test = tf.keras.utils.to_categorical(y_test, num_classes= 10)"
      ],
      "execution_count": 350,
      "outputs": []
    },
    {
      "cell_type": "code",
      "metadata": {
        "id": "uzm0L8WXTSB1",
        "colab_type": "code",
        "colab": {
          "base_uri": "https://localhost:8080/",
          "height": 143
        },
        "outputId": "6f1f51f5-40f7-4141-c25f-da8aac691c2a"
      },
      "source": [
        "y_train"
      ],
      "execution_count": 351,
      "outputs": [
        {
          "output_type": "execute_result",
          "data": {
            "text/plain": [
              "array([[0., 0., 0., ..., 0., 0., 1.],\n",
              "       [1., 0., 0., ..., 0., 0., 0.],\n",
              "       [1., 0., 0., ..., 0., 0., 0.],\n",
              "       ...,\n",
              "       [0., 0., 0., ..., 0., 0., 0.],\n",
              "       [1., 0., 0., ..., 0., 0., 0.],\n",
              "       [0., 0., 0., ..., 0., 0., 0.]], dtype=float32)"
            ]
          },
          "metadata": {
            "tags": []
          },
          "execution_count": 351
        }
      ]
    },
    {
      "cell_type": "code",
      "metadata": {
        "id": "8Ww2N8RZTSnm",
        "colab_type": "code",
        "colab": {
          "base_uri": "https://localhost:8080/",
          "height": 143
        },
        "outputId": "6d2423d2-06f2-43b5-d668-575eb2964778"
      },
      "source": [
        "y_test"
      ],
      "execution_count": 353,
      "outputs": [
        {
          "output_type": "execute_result",
          "data": {
            "text/plain": [
              "array([[0., 0., 0., ..., 0., 0., 1.],\n",
              "       [0., 0., 1., ..., 0., 0., 0.],\n",
              "       [0., 1., 0., ..., 0., 0., 0.],\n",
              "       ...,\n",
              "       [0., 0., 0., ..., 0., 1., 0.],\n",
              "       [0., 1., 0., ..., 0., 0., 0.],\n",
              "       [0., 0., 0., ..., 0., 0., 0.]], dtype=float32)"
            ]
          },
          "metadata": {
            "tags": []
          },
          "execution_count": 353
        }
      ]
    },
    {
      "cell_type": "markdown",
      "metadata": {
        "id": "t0n5aodmTYcF",
        "colab_type": "text"
      },
      "source": [
        "### 모델링"
      ]
    },
    {
      "cell_type": "code",
      "metadata": {
        "id": "AJguADnTTic9",
        "colab_type": "code",
        "colab": {
          "base_uri": "https://localhost:8080/",
          "height": 35
        },
        "outputId": "8c46783c-ee9e-46cb-caad-c4d6259cd863"
      },
      "source": [
        "X_train.shape"
      ],
      "execution_count": 354,
      "outputs": [
        {
          "output_type": "execute_result",
          "data": {
            "text/plain": [
              "(60000, 28, 28)"
            ]
          },
          "metadata": {
            "tags": []
          },
          "execution_count": 354
        }
      ]
    },
    {
      "cell_type": "code",
      "metadata": {
        "id": "1E66j5EcTWTd",
        "colab_type": "code",
        "colab": {}
      },
      "source": [
        "c_model = keras.Sequential([\n",
        "                            keras.layers.Flatten(input_shape=(28,28)),\n",
        "                            keras.layers.Dense(units= 256, activation='relu',input_shape=(28*28, )),\n",
        "                            keras.layers.Dense(units= 128, activation='relu'),\n",
        "                            keras.layers.Dense(units= 64, activation='relu'),\n",
        "                            keras.layers.Dense(units=10, activation='softmax')\n",
        "])"
      ],
      "execution_count": 380,
      "outputs": []
    },
    {
      "cell_type": "code",
      "metadata": {
        "id": "OKpQKRZcUFQc",
        "colab_type": "code",
        "colab": {
          "base_uri": "https://localhost:8080/",
          "height": 341
        },
        "outputId": "e12f1f1b-a4bb-4201-afe7-d4d2186eac69"
      },
      "source": [
        "c_model.summary()"
      ],
      "execution_count": 381,
      "outputs": [
        {
          "output_type": "stream",
          "text": [
            "Model: \"sequential_15\"\n",
            "_________________________________________________________________\n",
            "Layer (type)                 Output Shape              Param #   \n",
            "=================================================================\n",
            "flatten_10 (Flatten)         (None, 784)               0         \n",
            "_________________________________________________________________\n",
            "dense_53 (Dense)             (None, 256)               200960    \n",
            "_________________________________________________________________\n",
            "dense_54 (Dense)             (None, 128)               32896     \n",
            "_________________________________________________________________\n",
            "dense_55 (Dense)             (None, 64)                8256      \n",
            "_________________________________________________________________\n",
            "dense_56 (Dense)             (None, 10)                650       \n",
            "=================================================================\n",
            "Total params: 242,762\n",
            "Trainable params: 242,762\n",
            "Non-trainable params: 0\n",
            "_________________________________________________________________\n"
          ],
          "name": "stdout"
        }
      ]
    },
    {
      "cell_type": "code",
      "metadata": {
        "id": "iqws_8daUH2y",
        "colab_type": "code",
        "colab": {}
      },
      "source": [
        "c_model.compile(optimizer= keras.optimizers.Adam(lr=0.001), loss= 'categorical_crossentropy', metrics=['accuracy']) #sparse_categorical_crossentropy를 손실함수로 적용하면, 인코딩 할 필요 없이 정수 그대로(0~9) 넣어주면 된다"
      ],
      "execution_count": 382,
      "outputs": []
    },
    {
      "cell_type": "code",
      "metadata": {
        "id": "ABNDGdgkUQ5n",
        "colab_type": "code",
        "colab": {}
      },
      "source": [
        "c_history = c_model.fit(X_train, y_train, batch_size= 5000, epochs=200, callbacks = keras.callbacks.EarlyStopping(patience=50),validation_split=0.2)"
      ],
      "execution_count": null,
      "outputs": []
    },
    {
      "cell_type": "code",
      "metadata": {
        "id": "YT4T7eKDWq46",
        "colab_type": "code",
        "colab": {
          "base_uri": "https://localhost:8080/",
          "height": 281
        },
        "outputId": "13a11975-274c-40ed-9fb7-9b490641d523"
      },
      "source": [
        "plt.title('Loss')\n",
        "plt.plot(c_history.history['loss'])\n",
        "plt.plot(c_history.history['val_loss'],label='val')\n",
        "plt.legend()\n",
        "plt.show()"
      ],
      "execution_count": 384,
      "outputs": [
        {
          "output_type": "display_data",
          "data": {
            "image/png": "[encoded data removed]",
            "text/plain": [
              "<Figure size 432x288 with 1 Axes>"
            ]
          },
          "metadata": {
            "tags": [],
            "needs_background": "light"
          }
        }
      ]
    },
    {
      "cell_type": "code",
      "metadata": {
        "id": "3Ke05pdtWrAG",
        "colab_type": "code",
        "colab": {
          "base_uri": "https://localhost:8080/",
          "height": 281
        },
        "outputId": "c60aabe2-4a21-4b5e-d910-52d7c1b0b9fe"
      },
      "source": [
        "plt.title('Acc')\n",
        "plt.plot(c_history.history['accuracy'])\n",
        "plt.plot(c_history.history['val_accuracy'],label='val')\n",
        "plt.legend()\n",
        "plt.show()"
      ],
      "execution_count": 385,
      "outputs": [
        {
          "output_type": "display_data",
          "data": {
            "image/png": "[encoded data removed]",
            "text/plain": [
              "<Figure size 432x288 with 1 Axes>"
            ]
          },
          "metadata": {
            "tags": [],
            "needs_background": "light"
          }
        }
      ]
    },
    {
      "cell_type": "code",
      "metadata": {
        "id": "K0JqbAYsXWb5",
        "colab_type": "code",
        "colab": {
          "base_uri": "https://localhost:8080/",
          "height": 714
        },
        "outputId": "aa216d6f-0c7f-4d8c-b751-c762e36349d6"
      },
      "source": [
        "from sklearn.metrics import confusion_matrix\n",
        "plt.figure(figsize=(18,12))\n",
        "cm2 = confusion_matrix(np.argmax(y_test, axis=-1), np.argmax(c_model.predict(X_test), axis=-1))\n",
        "sns.heatmap(cm2, annot=True, fmt='d', cmap=\"Blues\",xticklabels=class_names,yticklabels=class_names)\n",
        "plt.xlabel('predicted label')\n",
        "plt.ylabel('true label')\n",
        "plt.show()"
      ],
      "execution_count": 446,
      "outputs": [
        {
          "output_type": "display_data",
          "data": {
            "image/png": "[encoded data removed]",
            "text/plain": [
              "<Figure size 1296x864 with 2 Axes>"
            ]
          },
          "metadata": {
            "tags": [],
            "needs_background": "light"
          }
        }
      ]
    },
    {
      "cell_type": "markdown",
      "metadata": {
        "id": "3NYBcV5hWrRP",
        "colab_type": "text"
      },
      "source": [
        "### 테스트"
      ]
    },
    {
      "cell_type": "code",
      "metadata": {
        "id": "ejm354XeUfYO",
        "colab_type": "code",
        "colab": {
          "base_uri": "https://localhost:8080/",
          "height": 53
        },
        "outputId": "95882fd6-6016-49a3-d0a2-4d7baa0291ee"
      },
      "source": [
        "c_model.evaluate(X_test, y_test)"
      ],
      "execution_count": 388,
      "outputs": [
        {
          "output_type": "stream",
          "text": [
            "313/313 [==============================] - 0s 1ms/step - loss: 0.4047 - accuracy: 0.8823\n"
          ],
          "name": "stdout"
        },
        {
          "output_type": "execute_result",
          "data": {
            "text/plain": [
              "[0.4047031104564667, 0.8823000192642212]"
            ]
          },
          "metadata": {
            "tags": []
          },
          "execution_count": 388
        }
      ]
    },
    {
      "cell_type": "code",
      "metadata": {
        "id": "GfNZiQY8VPdx",
        "colab_type": "code",
        "colab": {
          "base_uri": "https://localhost:8080/",
          "height": 584
        },
        "outputId": "01db397b-0180-41aa-8dee-9cdbf15087dd"
      },
      "source": [
        "plt.figure(figsize= (25,10))\n",
        "for i in range(10):\n",
        "  plt.subplot(2,5,i+1)\n",
        "  plt.imshow(X_test[i])\n",
        "  plt.axis('off')\n",
        "  plt.title(f\"real: {class_names[np.argmax(y_test[i])]}    prediction: {class_names[np.argmax(c_model.predict(X_test[i].reshape(1,28,28)))]}\")\n",
        "plt.show()"
      ],
      "execution_count": 389,
      "outputs": [
        {
          "output_type": "display_data",
          "data": {
            "image/png": "[encoded data removed]",
            "text/plain": [
              "<Figure size 1800x720 with 10 Axes>"
            ]
          },
          "metadata": {
            "tags": [],
            "needs_background": "light"
          }
        }
      ]
    }
  ]
}