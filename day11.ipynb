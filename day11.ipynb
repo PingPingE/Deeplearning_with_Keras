{
  "nbformat": 4,
  "nbformat_minor": 0,
  "metadata": {
    "colab": {
      "name": "day11.ipynb",
      "provenance": [],
      "authorship_tag": "ABX9TyOkCgerqoJM6OMwSm9N/7PW",
      "include_colab_link": true
    },
    "kernelspec": {
      "name": "python3",
      "display_name": "Python 3"
    }
  },
  "cells": [
    {
      "cell_type": "markdown",
      "metadata": {
        "id": "view-in-github",
        "colab_type": "text"
      },
      "source": [
        "<a href=\"https://colab.research.google.com/github/PingPingE/Deeplearning_with_Keras/blob/master/day11.ipynb\" target=\"_parent\"><img src=\"https://colab.research.google.com/assets/colab-badge.svg\" alt=\"Open In Colab\"/></a>"
      ]
    },
    {
      "cell_type": "markdown",
      "metadata": {
        "id": "XcsISlBAROdv",
        "colab_type": "text"
      },
      "source": [
        "# 이상탐지\n"
      ]
    },
    {
      "cell_type": "code",
      "metadata": {
        "id": "19XvfZSn8V-9",
        "colab_type": "code",
        "colab": {
          "base_uri": "https://localhost:8080/",
          "height": 156
        },
        "outputId": "8479c46a-d6dc-4b61-ea6d-36cb11519762"
      },
      "source": [
        "import tensorflow as tf\n",
        "(X_train,_),(X_test,_) = tf.keras.datasets.fashion_mnist.load_data()"
      ],
      "execution_count": 2,
      "outputs": [
        {
          "output_type": "stream",
          "text": [
            "Downloading data from https://storage.googleapis.com/tensorflow/tf-keras-datasets/train-labels-idx1-ubyte.gz\n",
            "32768/29515 [=================================] - 0s 0us/step\n",
            "Downloading data from https://storage.googleapis.com/tensorflow/tf-keras-datasets/train-images-idx3-ubyte.gz\n",
            "26427392/26421880 [==============================] - 0s 0us/step\n",
            "Downloading data from https://storage.googleapis.com/tensorflow/tf-keras-datasets/t10k-labels-idx1-ubyte.gz\n",
            "8192/5148 [===============================================] - 0s 0us/step\n",
            "Downloading data from https://storage.googleapis.com/tensorflow/tf-keras-datasets/t10k-images-idx3-ubyte.gz\n",
            "4423680/4422102 [==============================] - 0s 0us/step\n"
          ],
          "name": "stdout"
        }
      ]
    },
    {
      "cell_type": "code",
      "metadata": {
        "id": "VQeAfLeaRdet",
        "colab_type": "code",
        "colab": {
          "base_uri": "https://localhost:8080/",
          "height": 34
        },
        "outputId": "fb1635c8-189d-4967-8737-59b8a7dbc065"
      },
      "source": [
        "X_train.shape"
      ],
      "execution_count": 4,
      "outputs": [
        {
          "output_type": "execute_result",
          "data": {
            "text/plain": [
              "(60000, 28, 28)"
            ]
          },
          "metadata": {
            "tags": []
          },
          "execution_count": 4
        }
      ]
    },
    {
      "cell_type": "code",
      "metadata": {
        "id": "SzJrff4vResD",
        "colab_type": "code",
        "colab": {}
      },
      "source": [
        "X_train = X_train/255.0\n",
        "X_test = X_test/255.0"
      ],
      "execution_count": 3,
      "outputs": []
    },
    {
      "cell_type": "code",
      "metadata": {
        "id": "Wq4TEG0oRmIp",
        "colab_type": "code",
        "colab": {
          "base_uri": "https://localhost:8080/",
          "height": 34
        },
        "outputId": "fd3f811f-136c-48de-8253-66674d6104f1"
      },
      "source": [
        "X_train = X_train.reshape(-1,28,28,1)\n",
        "X_test = X_train.reshape(-1,28,28,1)\n",
        "X_train.shape"
      ],
      "execution_count": 5,
      "outputs": [
        {
          "output_type": "execute_result",
          "data": {
            "text/plain": [
              "(60000, 28, 28, 1)"
            ]
          },
          "metadata": {
            "tags": []
          },
          "execution_count": 5
        }
      ]
    },
    {
      "cell_type": "markdown",
      "metadata": {
        "id": "cuBFPWvNRuJX",
        "colab_type": "text"
      },
      "source": [
        "## 이미지에 임의로 노이즈 추가"
      ]
    },
    {
      "cell_type": "code",
      "metadata": {
        "id": "sQwiHuQKRtSh",
        "colab_type": "code",
        "colab": {}
      },
      "source": [
        "X_train_noisy = X_train+0.2*tf.random.normal(shape=X_train.shape)\n",
        "X_test_noisy = X_test+0.2*tf.random.normal(shape=X_test.shape)"
      ],
      "execution_count": 6,
      "outputs": []
    },
    {
      "cell_type": "markdown",
      "metadata": {
        "id": "sPeGdL27T_WM",
        "colab_type": "text"
      },
      "source": [
        "- 0과 1사이로 잘라내기"
      ]
    },
    {
      "cell_type": "code",
      "metadata": {
        "id": "EKveLhYiR6Q8",
        "colab_type": "code",
        "colab": {}
      },
      "source": [
        "X_train_noisy = tf.clip_by_value(X_train_noisy, clip_value_min=0, clip_value_max=1.0)\n",
        "X_test_noisy = tf.clip_by_value(X_test_noisy, clip_value_min=0, clip_value_max=1.0)"
      ],
      "execution_count": 12,
      "outputs": []
    },
    {
      "cell_type": "code",
      "metadata": {
        "id": "hBvjJmsTUnkC",
        "colab_type": "code",
        "colab": {
          "base_uri": "https://localhost:8080/",
          "height": 244
        },
        "outputId": "5a8aafb8-0149-452d-8db2-f9b596ad33cb"
      },
      "source": [
        "import matplotlib.pyplot as plt\n",
        "plt.figure(figsize=(20,4))\n",
        "for i in range(10):\n",
        "  plt.subplot(2,10,(i+1))\n",
        "  plt.imshow(X_test[i].reshape(28,28))\n",
        "  plt.axis('off')\n",
        "\n",
        "  plt.subplot(2,10,(i+1+10))\n",
        "  plt.imshow(X_test_noisy[i].numpy().reshape(28,28))\n",
        "  plt.axis('off')"
      ],
      "execution_count": 14,
      "outputs": [
        {
          "output_type": "display_data",
          "data": {
            "image/png": "[encoded data removed]",
            "text/plain": [
              "<Figure size 1440x288 with 20 Axes>"
            ]
          },
          "metadata": {
            "tags": [],
            "needs_background": "light"
          }
        }
      ]
    },
    {
      "cell_type": "code",
      "metadata": {
        "id": "bSlEb-LlVevm",
        "colab_type": "code",
        "colab": {
          "base_uri": "https://localhost:8080/",
          "height": 261
        },
        "outputId": "f8952889-3fa2-4ed4-db9b-234257cbce96"
      },
      "source": [
        "encoder_input = tf.keras.layers.Input(shape=(28,28,1))\n",
        "x= tf.keras.layers.Conv2D(filters=16, kernel_size=(3,3), activation='elu', padding='same', strides=2)(encoder_input)\n",
        "encoder_output = tf.keras.layers.Conv2D(8,(3,3), activation='elu', padding='same', strides= 2)(x)\n",
        "encoder = tf.keras.models.Model(encoder_input, encoder_output)\n",
        "encoder.summary()"
      ],
      "execution_count": 15,
      "outputs": [
        {
          "output_type": "stream",
          "text": [
            "Model: \"functional_1\"\n",
            "_________________________________________________________________\n",
            "Layer (type)                 Output Shape              Param #   \n",
            "=================================================================\n",
            "input_1 (InputLayer)         [(None, 28, 28, 1)]       0         \n",
            "_________________________________________________________________\n",
            "conv2d (Conv2D)              (None, 14, 14, 16)        160       \n",
            "_________________________________________________________________\n",
            "conv2d_1 (Conv2D)            (None, 7, 7, 8)           1160      \n",
            "=================================================================\n",
            "Total params: 1,320\n",
            "Trainable params: 1,320\n",
            "Non-trainable params: 0\n",
            "_________________________________________________________________\n"
          ],
          "name": "stdout"
        }
      ]
    },
    {
      "cell_type": "code",
      "metadata": {
        "id": "0R5lzChiWFfh",
        "colab_type": "code",
        "colab": {}
      },
      "source": [
        "decoder_input = tf.keras.layers.Input(shape=(7,7,8))\n",
        "x= tf.keras.layers.Conv2DTranspose(filters=32, kernel_size =(3,3), activation='elu', padding=\"same\", strides=2)(decoder_input)\n",
        "x = tf.keras.layers.Conv2DTranspose(16, (3,3), activation=\"elu\", padding=\"same\", strides=2)(x)\n",
        "decoder_output = tf.keras.layers.Conv2D(1,(3,3),activation='sigmoid', padding = 'same')(x)"
      ],
      "execution_count": 16,
      "outputs": []
    },
    {
      "cell_type": "code",
      "metadata": {
        "id": "Hv_rA4gIWZp8",
        "colab_type": "code",
        "colab": {
          "base_uri": "https://localhost:8080/",
          "height": 296
        },
        "outputId": "d1b96691-c4bd-440b-be21-356de2bf7a81"
      },
      "source": [
        "decoder = tf.keras.models.Model(decoder_input, decoder_output)\n",
        "decoder.summary()"
      ],
      "execution_count": 17,
      "outputs": [
        {
          "output_type": "stream",
          "text": [
            "Model: \"functional_3\"\n",
            "_________________________________________________________________\n",
            "Layer (type)                 Output Shape              Param #   \n",
            "=================================================================\n",
            "input_2 (InputLayer)         [(None, 7, 7, 8)]         0         \n",
            "_________________________________________________________________\n",
            "conv2d_transpose (Conv2DTran (None, 14, 14, 32)        2336      \n",
            "_________________________________________________________________\n",
            "conv2d_transpose_1 (Conv2DTr (None, 28, 28, 16)        4624      \n",
            "_________________________________________________________________\n",
            "conv2d_2 (Conv2D)            (None, 28, 28, 1)         145       \n",
            "=================================================================\n",
            "Total params: 7,105\n",
            "Trainable params: 7,105\n",
            "Non-trainable params: 0\n",
            "_________________________________________________________________\n"
          ],
          "name": "stdout"
        }
      ]
    },
    {
      "cell_type": "code",
      "metadata": {
        "id": "HZQ-oIvqWeqq",
        "colab_type": "code",
        "colab": {}
      },
      "source": [
        "#encoder+decoder = autoencoder\n",
        "encoder_in = tf.keras.layers.Input(shape=(28,28,1))\n",
        "encoder_out = encoder(encoder_in)\n",
        "decoder_out = decoder(encoder_out)"
      ],
      "execution_count": 18,
      "outputs": []
    },
    {
      "cell_type": "code",
      "metadata": {
        "id": "cpA6FbsGWyMe",
        "colab_type": "code",
        "colab": {
          "base_uri": "https://localhost:8080/",
          "height": 261
        },
        "outputId": "458a1eda-8b85-4973-8a2c-a274921b3e64"
      },
      "source": [
        "auto_encoder = tf.keras.Model(encoder_in, decoder_out)\n",
        "auto_encoder.summary()"
      ],
      "execution_count": 20,
      "outputs": [
        {
          "output_type": "stream",
          "text": [
            "Model: \"functional_5\"\n",
            "_________________________________________________________________\n",
            "Layer (type)                 Output Shape              Param #   \n",
            "=================================================================\n",
            "input_3 (InputLayer)         [(None, 28, 28, 1)]       0         \n",
            "_________________________________________________________________\n",
            "functional_1 (Functional)    (None, 7, 7, 8)           1320      \n",
            "_________________________________________________________________\n",
            "functional_3 (Functional)    (None, 28, 28, 1)         7105      \n",
            "=================================================================\n",
            "Total params: 8,425\n",
            "Trainable params: 8,425\n",
            "Non-trainable params: 0\n",
            "_________________________________________________________________\n"
          ],
          "name": "stdout"
        }
      ]
    },
    {
      "cell_type": "code",
      "metadata": {
        "id": "PgjYJRP8W-uX",
        "colab_type": "code",
        "colab": {
          "base_uri": "https://localhost:8080/",
          "height": 383
        },
        "outputId": "92effd74-101f-436c-b019-971d3f7c3f0b"
      },
      "source": [
        "auto_encoder.compile(optimizer ='adam',loss='mse')\n",
        "auto_encoder.fit(X_train_noisy, X_train, epochs=10, validation_data=(X_test_noisy, X_test))"
      ],
      "execution_count": 21,
      "outputs": [
        {
          "output_type": "stream",
          "text": [
            "Epoch 1/10\n",
            "1875/1875 [==============================] - 101s 54ms/step - loss: 0.0135 - val_loss: 0.0081\n",
            "Epoch 2/10\n",
            "1875/1875 [==============================] - 100s 54ms/step - loss: 0.0075 - val_loss: 0.0071\n",
            "Epoch 3/10\n",
            "1875/1875 [==============================] - 101s 54ms/step - loss: 0.0070 - val_loss: 0.0069\n",
            "Epoch 4/10\n",
            "1875/1875 [==============================] - 102s 54ms/step - loss: 0.0068 - val_loss: 0.0068\n",
            "Epoch 5/10\n",
            "1875/1875 [==============================] - 100s 54ms/step - loss: 0.0067 - val_loss: 0.0067\n",
            "Epoch 6/10\n",
            "1875/1875 [==============================] - 101s 54ms/step - loss: 0.0066 - val_loss: 0.0066\n",
            "Epoch 7/10\n",
            "1875/1875 [==============================] - 102s 54ms/step - loss: 0.0065 - val_loss: 0.0065\n",
            "Epoch 8/10\n",
            "1875/1875 [==============================] - 100s 53ms/step - loss: 0.0065 - val_loss: 0.0064\n",
            "Epoch 9/10\n",
            "1875/1875 [==============================] - 100s 54ms/step - loss: 0.0064 - val_loss: 0.0063\n",
            "Epoch 10/10\n",
            "1875/1875 [==============================] - 101s 54ms/step - loss: 0.0063 - val_loss: 0.0063\n"
          ],
          "name": "stdout"
        },
        {
          "output_type": "execute_result",
          "data": {
            "text/plain": [
              "<tensorflow.python.keras.callbacks.History at 0x7f3c5ec5d080>"
            ]
          },
          "metadata": {
            "tags": []
          },
          "execution_count": 21
        }
      ]
    },
    {
      "cell_type": "code",
      "metadata": {
        "id": "HnpG0_N6XXd8",
        "colab_type": "code",
        "colab": {
          "base_uri": "https://localhost:8080/",
          "height": 1000
        },
        "outputId": "5c7ff7d1-f3e7-4151-89d1-1a525b8306e9"
      },
      "source": [
        "auto_encoder.predict(X_test)"
      ],
      "execution_count": 22,
      "outputs": [
        {
          "output_type": "execute_result",
          "data": {
            "text/plain": [
              "array([[[[1.63680315e-03],\n",
              "         [9.39630700e-05],\n",
              "         [1.27285719e-04],\n",
              "         ...,\n",
              "         [4.30891487e-05],\n",
              "         [1.22052210e-04],\n",
              "         [4.83304262e-04]],\n",
              "\n",
              "        [[2.14755535e-04],\n",
              "         [1.19330607e-05],\n",
              "         [1.05775716e-05],\n",
              "         ...,\n",
              "         [1.28284228e-05],\n",
              "         [1.60198761e-05],\n",
              "         [1.30057335e-04]],\n",
              "\n",
              "        [[9.60630859e-05],\n",
              "         [3.14824047e-06],\n",
              "         [6.70930058e-06],\n",
              "         ...,\n",
              "         [2.75304228e-06],\n",
              "         [3.44100113e-06],\n",
              "         [6.96472562e-05]],\n",
              "\n",
              "        ...,\n",
              "\n",
              "        [[1.98572874e-04],\n",
              "         [1.65130732e-05],\n",
              "         [7.33456400e-05],\n",
              "         ...,\n",
              "         [2.96533108e-04],\n",
              "         [1.47908926e-04],\n",
              "         [3.71992588e-04]],\n",
              "\n",
              "        [[5.93647710e-05],\n",
              "         [3.87778664e-06],\n",
              "         [2.27826495e-05],\n",
              "         ...,\n",
              "         [2.72015513e-05],\n",
              "         [3.89986999e-05],\n",
              "         [2.37971544e-04]],\n",
              "\n",
              "        [[1.38086081e-03],\n",
              "         [2.01195478e-04],\n",
              "         [2.53289938e-04],\n",
              "         ...,\n",
              "         [2.02149153e-04],\n",
              "         [2.21312046e-04],\n",
              "         [1.51678920e-03]]],\n",
              "\n",
              "\n",
              "       [[[8.86380672e-04],\n",
              "         [4.51491142e-05],\n",
              "         [1.06354964e-04],\n",
              "         ...,\n",
              "         [5.25068435e-06],\n",
              "         [4.23731981e-05],\n",
              "         [1.84684992e-04]],\n",
              "\n",
              "        [[1.26123428e-04],\n",
              "         [5.49497145e-06],\n",
              "         [7.20855269e-06],\n",
              "         ...,\n",
              "         [3.44279506e-05],\n",
              "         [5.31459455e-06],\n",
              "         [6.01998254e-05]],\n",
              "\n",
              "        [[8.16879328e-05],\n",
              "         [2.85241526e-06],\n",
              "         [5.43427450e-06],\n",
              "         ...,\n",
              "         [1.83239626e-05],\n",
              "         [4.71830703e-07],\n",
              "         [2.09599384e-05]],\n",
              "\n",
              "        ...,\n",
              "\n",
              "        [[1.50650740e-04],\n",
              "         [8.80709740e-06],\n",
              "         [5.20399863e-06],\n",
              "         ...,\n",
              "         [1.53349310e-06],\n",
              "         [2.00128466e-06],\n",
              "         [1.26230225e-05]],\n",
              "\n",
              "        [[9.61199985e-05],\n",
              "         [2.95764494e-06],\n",
              "         [3.46717889e-06],\n",
              "         ...,\n",
              "         [7.71647137e-07],\n",
              "         [7.57220960e-07],\n",
              "         [1.80879397e-05]],\n",
              "\n",
              "        [[1.81290507e-03],\n",
              "         [1.56283379e-04],\n",
              "         [1.48326159e-04],\n",
              "         ...,\n",
              "         [5.82447647e-05],\n",
              "         [6.30441864e-05],\n",
              "         [8.76009464e-04]]],\n",
              "\n",
              "\n",
              "       [[[1.63680315e-03],\n",
              "         [9.39630700e-05],\n",
              "         [1.27285719e-04],\n",
              "         ...,\n",
              "         [4.08662709e-05],\n",
              "         [1.14326816e-04],\n",
              "         [4.90814447e-04]],\n",
              "\n",
              "        [[2.14755535e-04],\n",
              "         [1.19330607e-05],\n",
              "         [1.05775716e-05],\n",
              "         ...,\n",
              "         [9.49162586e-06],\n",
              "         [1.24141952e-05],\n",
              "         [1.17609306e-04]],\n",
              "\n",
              "        [[9.60630859e-05],\n",
              "         [3.14824047e-06],\n",
              "         [6.70930058e-06],\n",
              "         ...,\n",
              "         [2.11012025e-06],\n",
              "         [2.65199219e-06],\n",
              "         [6.11506912e-05]],\n",
              "\n",
              "        ...,\n",
              "\n",
              "        [[1.50382519e-04],\n",
              "         [8.77860384e-06],\n",
              "         [5.18270645e-06],\n",
              "         ...,\n",
              "         [3.35873005e-06],\n",
              "         [3.97463600e-06],\n",
              "         [1.68071892e-05]],\n",
              "\n",
              "        [[9.58035307e-05],\n",
              "         [2.94810707e-06],\n",
              "         [3.45667013e-06],\n",
              "         ...,\n",
              "         [1.21093842e-06],\n",
              "         [1.69748375e-06],\n",
              "         [2.94048787e-05]],\n",
              "\n",
              "        [[1.80628896e-03],\n",
              "         [1.55627728e-04],\n",
              "         [1.47849321e-04],\n",
              "         ...,\n",
              "         [8.51470395e-05],\n",
              "         [9.46132786e-05],\n",
              "         [1.04260445e-03]]],\n",
              "\n",
              "\n",
              "       ...,\n",
              "\n",
              "\n",
              "       [[[1.63680315e-03],\n",
              "         [9.39630700e-05],\n",
              "         [1.27285719e-04],\n",
              "         ...,\n",
              "         [4.12114241e-05],\n",
              "         [1.15659466e-04],\n",
              "         [4.92691994e-04]],\n",
              "\n",
              "        [[2.14755535e-04],\n",
              "         [1.19330607e-05],\n",
              "         [1.05775716e-05],\n",
              "         ...,\n",
              "         [9.61243495e-06],\n",
              "         [1.25436754e-05],\n",
              "         [1.17749027e-04]],\n",
              "\n",
              "        [[9.60630859e-05],\n",
              "         [3.14824047e-06],\n",
              "         [6.70930058e-06],\n",
              "         ...,\n",
              "         [2.13972476e-06],\n",
              "         [2.68980170e-06],\n",
              "         [6.13392331e-05]],\n",
              "\n",
              "        ...,\n",
              "\n",
              "        [[1.50382519e-04],\n",
              "         [8.77860384e-06],\n",
              "         [5.18270645e-06],\n",
              "         ...,\n",
              "         [3.17686568e-06],\n",
              "         [3.61947536e-06],\n",
              "         [1.66543832e-05]],\n",
              "\n",
              "        [[9.58035307e-05],\n",
              "         [2.94810707e-06],\n",
              "         [3.45667013e-06],\n",
              "         ...,\n",
              "         [1.15718933e-06],\n",
              "         [1.60068419e-06],\n",
              "         [2.92567947e-05]],\n",
              "\n",
              "        [[1.80628896e-03],\n",
              "         [1.55627728e-04],\n",
              "         [1.47849321e-04],\n",
              "         ...,\n",
              "         [8.22853617e-05],\n",
              "         [9.09377850e-05],\n",
              "         [1.03867054e-03]]],\n",
              "\n",
              "\n",
              "       [[[1.54423714e-03],\n",
              "         [8.05886157e-05],\n",
              "         [1.27285719e-04],\n",
              "         ...,\n",
              "         [5.92642537e-05],\n",
              "         [1.89483166e-04],\n",
              "         [5.30958176e-04]],\n",
              "\n",
              "        [[2.44677067e-04],\n",
              "         [1.53893361e-05],\n",
              "         [1.53168894e-05],\n",
              "         ...,\n",
              "         [2.55516898e-05],\n",
              "         [2.00591367e-05],\n",
              "         [1.18476346e-04]],\n",
              "\n",
              "        [[1.04923696e-04],\n",
              "         [4.74340322e-06],\n",
              "         [8.89128660e-06],\n",
              "         ...,\n",
              "         [6.96472898e-06],\n",
              "         [4.67477867e-06],\n",
              "         [6.43643652e-05]],\n",
              "\n",
              "        ...,\n",
              "\n",
              "        [[1.51723623e-04],\n",
              "         [8.86651105e-06],\n",
              "         [5.37160849e-06],\n",
              "         ...,\n",
              "         [3.52261213e-06],\n",
              "         [4.08926417e-06],\n",
              "         [1.69204595e-05]],\n",
              "\n",
              "        [[9.67688902e-05],\n",
              "         [2.97554220e-06],\n",
              "         [3.50319124e-06],\n",
              "         ...,\n",
              "         [1.36432686e-06],\n",
              "         [1.73042383e-06],\n",
              "         [2.89865129e-05]],\n",
              "\n",
              "        [[1.84115767e-03],\n",
              "         [1.59621239e-04],\n",
              "         [1.48028135e-04],\n",
              "         ...,\n",
              "         [8.43100861e-05],\n",
              "         [9.60352409e-05],\n",
              "         [1.04162097e-03]]],\n",
              "\n",
              "\n",
              "       [[[1.63680315e-03],\n",
              "         [9.39630700e-05],\n",
              "         [1.27285719e-04],\n",
              "         ...,\n",
              "         [4.08662709e-05],\n",
              "         [1.14326816e-04],\n",
              "         [4.90814447e-04]],\n",
              "\n",
              "        [[2.14755535e-04],\n",
              "         [1.19330607e-05],\n",
              "         [1.05775716e-05],\n",
              "         ...,\n",
              "         [9.49162586e-06],\n",
              "         [1.24141952e-05],\n",
              "         [1.17609306e-04]],\n",
              "\n",
              "        [[9.60630859e-05],\n",
              "         [3.14824047e-06],\n",
              "         [6.70930058e-06],\n",
              "         ...,\n",
              "         [2.11012025e-06],\n",
              "         [2.65199219e-06],\n",
              "         [6.11506912e-05]],\n",
              "\n",
              "        ...,\n",
              "\n",
              "        [[1.50382519e-04],\n",
              "         [8.77860384e-06],\n",
              "         [5.18270645e-06],\n",
              "         ...,\n",
              "         [3.16327032e-06],\n",
              "         [3.60166314e-06],\n",
              "         [1.66514128e-05]],\n",
              "\n",
              "        [[9.58035307e-05],\n",
              "         [2.94810707e-06],\n",
              "         [3.45667013e-06],\n",
              "         ...,\n",
              "         [1.15493140e-06],\n",
              "         [1.60145680e-06],\n",
              "         [2.92832283e-05]],\n",
              "\n",
              "        [[1.80628896e-03],\n",
              "         [1.55627728e-04],\n",
              "         [1.47849321e-04],\n",
              "         ...,\n",
              "         [8.22499860e-05],\n",
              "         [9.09178343e-05],\n",
              "         [1.03873014e-03]]]], dtype=float32)"
            ]
          },
          "metadata": {
            "tags": []
          },
          "execution_count": 22
        }
      ]
    },
    {
      "cell_type": "code",
      "metadata": {
        "id": "4j-RJnu7XNDZ",
        "colab_type": "code",
        "colab": {}
      },
      "source": [
        "encoded_imgs = encoder(X_test).numpy()\n",
        "decoded_imgs = decoder(encoded_imgs).numpy()"
      ],
      "execution_count": 23,
      "outputs": []
    },
    {
      "cell_type": "code",
      "metadata": {
        "id": "UESsWSd1X-iI",
        "colab_type": "code",
        "colab": {
          "base_uri": "https://localhost:8080/",
          "height": 133
        },
        "outputId": "d3a61708-6be8-44e1-c851-97a681fab1e0"
      },
      "source": [
        "plt.imshow(encoded_imgs[])"
      ],
      "execution_count": 24,
      "outputs": [
        {
          "output_type": "error",
          "ename": "SyntaxError",
          "evalue": "ignored",
          "traceback": [
            "\u001b[0;36m  File \u001b[0;32m\"<ipython-input-24-c8365bfd9b8d>\"\u001b[0;36m, line \u001b[0;32m1\u001b[0m\n\u001b[0;31m    plt.imshow(encoded_imgs[])\u001b[0m\n\u001b[0m                            ^\u001b[0m\n\u001b[0;31mSyntaxError\u001b[0m\u001b[0;31m:\u001b[0m invalid syntax\n"
          ]
        }
      ]
    },
    {
      "cell_type": "code",
      "metadata": {
        "id": "2NEWiYmNVLVv",
        "colab_type": "code",
        "colab": {}
      },
      "source": [
        "plt.figure(figsize=(20,6))\n",
        "for i in range(10):\n",
        "  plt.subplot(3,10,(i+1))\n",
        "  plt.imshow(X_test[i].reshape(28,28))\n",
        "  plt.title('original')\n",
        "  plt.axis('off')\n",
        "\n",
        "  plt.subplot(3,10,(i+1+10))\n",
        "  plt.imshow(X_test[i].numpy().reshape(28,28))\n",
        "  plt.title('noisy')\n",
        "  plt.axis('off')\n",
        "\n",
        "  plt.subplot(3,10,(i+1+20))\n",
        "  plt.imshow(decoded_imgs[i].reshape(28,28))\n",
        "  plt.title('predict')\n",
        "  plt.axis('off')"
      ],
      "execution_count": null,
      "outputs": []
    },
    {
      "cell_type": "code",
      "metadata": {
        "id": "0ftk9ooAXgYG",
        "colab_type": "code",
        "colab": {}
      },
      "source": [
        ""
      ],
      "execution_count": null,
      "outputs": []
    }
  ]
}