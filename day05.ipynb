{
  "nbformat": 4,
  "nbformat_minor": 0,
  "metadata": {
    "colab": {
      "name": "day05.ipynb",
      "provenance": [],
      "collapsed_sections": [],
      "authorship_tag": "ABX9TyPnVr/wOPEbGvWRSCzb01AD",
      "include_colab_link": true
    },
    "kernelspec": {
      "name": "python3",
      "display_name": "Python 3"
    },
    "accelerator": "GPU"
  },
  "cells": [
    {
      "cell_type": "markdown",
      "metadata": {
        "id": "view-in-github",
        "colab_type": "text"
      },
      "source": [
        "<a href=\"https://colab.research.google.com/github/PingPingE/Deeplearning_with_Keras/blob/master/day05.ipynb\" target=\"_parent\"><img src=\"https://colab.research.google.com/assets/colab-badge.svg\" alt=\"Open In Colab\"/></a>"
      ]
    },
    {
      "cell_type": "code",
      "metadata": {
        "id": "7RsF-EGiEDSy",
        "colab_type": "code",
        "colab": {
          "base_uri": "https://localhost:8080/",
          "height": 369
        },
        "outputId": "ff3fe5f0-69c6-406d-c9f9-e9401415da52"
      },
      "source": [
        "! nvidia-smi"
      ],
      "execution_count": 139,
      "outputs": [
        {
          "output_type": "stream",
          "text": [
            "Mon Sep 14 06:49:09 2020       \n",
            "+-----------------------------------------------------------------------------+\n",
            "| NVIDIA-SMI 450.66       Driver Version: 418.67       CUDA Version: 10.1     |\n",
            "|-------------------------------+----------------------+----------------------+\n",
            "| GPU  Name        Persistence-M| Bus-Id        Disp.A | Volatile Uncorr. ECC |\n",
            "| Fan  Temp  Perf  Pwr:Usage/Cap|         Memory-Usage | GPU-Util  Compute M. |\n",
            "|                               |                      |               MIG M. |\n",
            "|===============================+======================+======================|\n",
            "|   0  Tesla T4            Off  | 00000000:00:04.0 Off |                    0 |\n",
            "| N/A   69C    P0    32W /  70W |   4709MiB / 15079MiB |      0%      Default |\n",
            "|                               |                      |                 ERR! |\n",
            "+-------------------------------+----------------------+----------------------+\n",
            "                                                                               \n",
            "+-----------------------------------------------------------------------------+\n",
            "| Processes:                                                                  |\n",
            "|  GPU   GI   CI        PID   Type   Process name                  GPU Memory |\n",
            "|        ID   ID                                                   Usage      |\n",
            "|=============================================================================|\n",
            "|  No running processes found                                                 |\n",
            "+-----------------------------------------------------------------------------+\n"
          ],
          "name": "stdout"
        }
      ]
    },
    {
      "cell_type": "code",
      "metadata": {
        "id": "wv1tF6OEEKC7",
        "colab_type": "code",
        "colab": {}
      },
      "source": [
        "import tensorflow as tf\n",
        "from tensorflow.keras import datasets, layers, models"
      ],
      "execution_count": 140,
      "outputs": []
    },
    {
      "cell_type": "markdown",
      "metadata": {
        "id": "ZAIcTF9rT7UY",
        "colab_type": "text"
      },
      "source": [
        "# CNN"
      ]
    },
    {
      "cell_type": "markdown",
      "metadata": {
        "id": "oKRCfHCUYULP",
        "colab_type": "text"
      },
      "source": [
        "## 숫자 데이터"
      ]
    },
    {
      "cell_type": "code",
      "metadata": {
        "id": "QVGVo-2vEYc0",
        "colab_type": "code",
        "colab": {
          "base_uri": "https://localhost:8080/",
          "height": 34
        },
        "outputId": "ba12f841-c6d4-46ac-8c7e-e520422ea694"
      },
      "source": [
        "(X_train, y_train), (X_test, y_test) = datasets.mnist.load_data()\n",
        "X_train.shape"
      ],
      "execution_count": 141,
      "outputs": [
        {
          "output_type": "execute_result",
          "data": {
            "text/plain": [
              "(60000, 28, 28)"
            ]
          },
          "metadata": {
            "tags": []
          },
          "execution_count": 141
        }
      ]
    },
    {
      "cell_type": "markdown",
      "metadata": {
        "id": "afMw20VyUPx4",
        "colab_type": "text"
      },
      "source": [
        "- input"
      ]
    },
    {
      "cell_type": "code",
      "metadata": {
        "id": "7-V4WNkWEiTo",
        "colab_type": "code",
        "colab": {
          "base_uri": "https://localhost:8080/",
          "height": 248
        },
        "outputId": "f9cbd7f2-6adb-41ae-e31d-732adf0a5ba8"
      },
      "source": [
        "import matplotlib.pyplot as plt\n",
        "plt.imshow(X_train[7])  # shape(28, 28)\n",
        "plt.axis('off')\n",
        "plt.show()"
      ],
      "execution_count": 142,
      "outputs": [
        {
          "output_type": "display_data",
          "data": {
            "image/png": "[encoded data removed]",
            "text/plain": [
              "<Figure size 432x288 with 1 Axes>"
            ]
          },
          "metadata": {
            "tags": [],
            "needs_background": "light"
          }
        }
      ]
    },
    {
      "cell_type": "code",
      "metadata": {
        "id": "0OD38QhmEpb1",
        "colab_type": "code",
        "colab": {}
      },
      "source": [
        "# 필터 생성하기\n",
        "import numpy as np\n",
        "\n",
        "horizonal_filter = np.array([[ 1.0,  2.0,  1.0],\n",
        "                              [ 0.0,  0.0,  0.0],\n",
        "                              [-1.0, -2.0, -1.0]])\n",
        "\n",
        "vertical_filter =   np.array([[1.0,  0.0, -1.0],\n",
        "                              [2.0,  0.0, -2.0],\n",
        "                              [1.0,  0.0, -1.0]])"
      ],
      "execution_count": 143,
      "outputs": []
    },
    {
      "cell_type": "code",
      "metadata": {
        "id": "rpBLdZHnExTQ",
        "colab_type": "code",
        "colab": {
          "base_uri": "https://localhost:8080/",
          "height": 34
        },
        "outputId": "b661f854-31d0-42b3-db56-2df97f321600"
      },
      "source": [
        "#인풋의 원래 크기\n",
        "input_size = X_train[0].shape[0]\n",
        "input_size                      "
      ],
      "execution_count": 144,
      "outputs": [
        {
          "output_type": "execute_result",
          "data": {
            "text/plain": [
              "28"
            ]
          },
          "metadata": {
            "tags": []
          },
          "execution_count": 144
        }
      ]
    },
    {
      "cell_type": "code",
      "metadata": {
        "id": "7vmrLSztEzrw",
        "colab_type": "code",
        "colab": {
          "base_uri": "https://localhost:8080/",
          "height": 34
        },
        "outputId": "d6caca35-6e00-47eb-fad3-f7ffa6197f66"
      },
      "source": [
        "filter_size = horizonal_filter.shape[0]\n",
        "filter_size"
      ],
      "execution_count": 145,
      "outputs": [
        {
          "output_type": "execute_result",
          "data": {
            "text/plain": [
              "3"
            ]
          },
          "metadata": {
            "tags": []
          },
          "execution_count": 145
        }
      ]
    },
    {
      "cell_type": "code",
      "metadata": {
        "id": "pMdFMzLzFAVs",
        "colab_type": "code",
        "colab": {
          "base_uri": "https://localhost:8080/",
          "height": 34
        },
        "outputId": "0cb70e8c-5a82-43bb-fab5-a64d3e13384c"
      },
      "source": [
        "#피처맵 크기(strides= 1, padding=0)\n",
        "output_size = ( input_size - filter_size ) + 1\n",
        "output_size"
      ],
      "execution_count": 146,
      "outputs": [
        {
          "output_type": "execute_result",
          "data": {
            "text/plain": [
              "26"
            ]
          },
          "metadata": {
            "tags": []
          },
          "execution_count": 146
        }
      ]
    },
    {
      "cell_type": "code",
      "metadata": {
        "id": "8dS7qtNjEzvC",
        "colab_type": "code",
        "colab": {}
      },
      "source": [
        "input_image = X_train[7]"
      ],
      "execution_count": 147,
      "outputs": []
    },
    {
      "cell_type": "markdown",
      "metadata": {
        "id": "Q0pk9wPzUALR",
        "colab_type": "text"
      },
      "source": [
        "### input -> filter -> feature map\n",
        "\n",
        "\n"
      ]
    },
    {
      "cell_type": "code",
      "metadata": {
        "id": "fyUJV0WQFFSK",
        "colab_type": "code",
        "colab": {}
      },
      "source": [
        "def get_filtered_image(filter):\n",
        "  # 출력되는 이미지 np array 초기화\n",
        "  output_image = np.zeros( (output_size, output_size) )\n",
        "  for i in range(output_size):\n",
        "    for j in range(output_size):\n",
        "      if j==5:\n",
        "        print('before: ',input_image[i: (i + filter_size), j:(j + filter_size)])\n",
        "      tmp1 = input_image[i: (i + filter_size), j:(j + filter_size)] * filter\n",
        "      if j==5:\n",
        "        print(\"tmp1:\",tmp1)\n",
        "      tmp2 = np.sum(tmp1)\n",
        "\n",
        "      if j==5:\n",
        "        print(\"tmp2:\",tmp2)\n",
        "      if tmp2 > 255:\n",
        "          tmp2 = 255\n",
        "      output_image[i, j] = tmp2\n",
        "  return output_image"
      ],
      "execution_count": 148,
      "outputs": []
    },
    {
      "cell_type": "code",
      "metadata": {
        "id": "xLp2_UUJIFBJ",
        "colab_type": "code",
        "colab": {
          "base_uri": "https://localhost:8080/",
          "height": 34
        },
        "outputId": "19e49132-8ca1-4884-8881-d14f1fe4cf3d"
      },
      "source": [
        "horizonal_filter.shape"
      ],
      "execution_count": 149,
      "outputs": [
        {
          "output_type": "execute_result",
          "data": {
            "text/plain": [
              "(3, 3)"
            ]
          },
          "metadata": {
            "tags": []
          },
          "execution_count": 149
        }
      ]
    },
    {
      "cell_type": "code",
      "metadata": {
        "id": "rleFxvhmICo_",
        "colab_type": "code",
        "colab": {
          "base_uri": "https://localhost:8080/",
          "height": 1000
        },
        "outputId": "4e781933-50de-4123-bf7a-d7adea428763"
      },
      "source": [
        "h_image = get_filtered_image(horizonal_filter)\n",
        "h_image.shape\n"
      ],
      "execution_count": 150,
      "outputs": [
        {
          "output_type": "stream",
          "text": [
            "before:  [[0 0 0]\n",
            " [0 0 0]\n",
            " [0 0 0]]\n",
            "tmp1: [[ 0.  0.  0.]\n",
            " [ 0.  0.  0.]\n",
            " [-0. -0. -0.]]\n",
            "tmp2: 0.0\n",
            "before:  [[0 0 0]\n",
            " [0 0 0]\n",
            " [0 0 0]]\n",
            "tmp1: [[ 0.  0.  0.]\n",
            " [ 0.  0.  0.]\n",
            " [-0. -0. -0.]]\n",
            "tmp2: 0.0\n",
            "before:  [[0 0 0]\n",
            " [0 0 0]\n",
            " [0 0 0]]\n",
            "tmp1: [[ 0.  0.  0.]\n",
            " [ 0.  0.  0.]\n",
            " [-0. -0. -0.]]\n",
            "tmp2: 0.0\n",
            "before:  [[0 0 0]\n",
            " [0 0 0]\n",
            " [0 0 0]]\n",
            "tmp1: [[ 0.  0.  0.]\n",
            " [ 0.  0.  0.]\n",
            " [-0. -0. -0.]]\n",
            "tmp2: 0.0\n",
            "before:  [[0 0 0]\n",
            " [0 0 0]\n",
            " [0 0 0]]\n",
            "tmp1: [[ 0.  0.  0.]\n",
            " [ 0.  0.  0.]\n",
            " [-0. -0. -0.]]\n",
            "tmp2: 0.0\n",
            "before:  [[0 0 0]\n",
            " [0 0 0]\n",
            " [0 0 0]]\n",
            "tmp1: [[ 0.  0.  0.]\n",
            " [ 0.  0.  0.]\n",
            " [-0. -0. -0.]]\n",
            "tmp2: 0.0\n",
            "before:  [[0 0 0]\n",
            " [0 0 0]\n",
            " [0 0 0]]\n",
            "tmp1: [[ 0.  0.  0.]\n",
            " [ 0.  0.  0.]\n",
            " [-0. -0. -0.]]\n",
            "tmp2: 0.0\n",
            "before:  [[0 0 0]\n",
            " [0 0 0]\n",
            " [0 0 0]]\n",
            "tmp1: [[ 0.  0.  0.]\n",
            " [ 0.  0.  0.]\n",
            " [-0. -0. -0.]]\n",
            "tmp2: 0.0\n",
            "before:  [[0 0 0]\n",
            " [0 0 0]\n",
            " [0 0 0]]\n",
            "tmp1: [[ 0.  0.  0.]\n",
            " [ 0.  0.  0.]\n",
            " [-0. -0. -0.]]\n",
            "tmp2: 0.0\n",
            "before:  [[0 0 0]\n",
            " [0 0 0]\n",
            " [0 0 0]]\n",
            "tmp1: [[ 0.  0.  0.]\n",
            " [ 0.  0.  0.]\n",
            " [-0. -0. -0.]]\n",
            "tmp2: 0.0\n",
            "before:  [[0 0 0]\n",
            " [0 0 0]\n",
            " [0 0 0]]\n",
            "tmp1: [[ 0.  0.  0.]\n",
            " [ 0.  0.  0.]\n",
            " [-0. -0. -0.]]\n",
            "tmp2: 0.0\n",
            "before:  [[0 0 0]\n",
            " [0 0 0]\n",
            " [0 0 0]]\n",
            "tmp1: [[ 0.  0.  0.]\n",
            " [ 0.  0.  0.]\n",
            " [-0. -0. -0.]]\n",
            "tmp2: 0.0\n",
            "before:  [[0 0 0]\n",
            " [0 0 0]\n",
            " [0 0 0]]\n",
            "tmp1: [[ 0.  0.  0.]\n",
            " [ 0.  0.  0.]\n",
            " [-0. -0. -0.]]\n",
            "tmp2: 0.0\n",
            "before:  [[0 0 0]\n",
            " [0 0 0]\n",
            " [0 0 0]]\n",
            "tmp1: [[ 0.  0.  0.]\n",
            " [ 0.  0.  0.]\n",
            " [-0. -0. -0.]]\n",
            "tmp2: 0.0\n",
            "before:  [[0 0 0]\n",
            " [0 0 0]\n",
            " [0 0 0]]\n",
            "tmp1: [[ 0.  0.  0.]\n",
            " [ 0.  0.  0.]\n",
            " [-0. -0. -0.]]\n",
            "tmp2: 0.0\n",
            "before:  [[0 0 0]\n",
            " [0 0 0]\n",
            " [0 0 0]]\n",
            "tmp1: [[ 0.  0.  0.]\n",
            " [ 0.  0.  0.]\n",
            " [-0. -0. -0.]]\n",
            "tmp2: 0.0\n",
            "before:  [[0 0 0]\n",
            " [0 0 0]\n",
            " [0 0 0]]\n",
            "tmp1: [[ 0.  0.  0.]\n",
            " [ 0.  0.  0.]\n",
            " [-0. -0. -0.]]\n",
            "tmp2: 0.0\n",
            "before:  [[ 0  0  0]\n",
            " [ 0  0  0]\n",
            " [ 0  5 75]]\n",
            "tmp1: [[  0.   0.   0.]\n",
            " [  0.   0.   0.]\n",
            " [ -0. -10. -75.]]\n",
            "tmp2: -85.0\n",
            "before:  [[  0   0   0]\n",
            " [  0   5  75]\n",
            " [ 61 183 252]]\n",
            "tmp1: [[   0.    0.    0.]\n",
            " [   0.    0.    0.]\n",
            " [ -61. -366. -252.]]\n",
            "tmp2: -679.0\n",
            "before:  [[  0   5  75]\n",
            " [ 61 183 252]\n",
            " [208 252 252]]\n",
            "tmp1: [[   0.   10.   75.]\n",
            " [   0.    0.    0.]\n",
            " [-208. -504. -252.]]\n",
            "tmp2: -879.0\n",
            "before:  [[ 61 183 252]\n",
            " [208 252 252]\n",
            " [208 252 252]]\n",
            "tmp1: [[  61.  366.  252.]\n",
            " [   0.    0.    0.]\n",
            " [-208. -504. -252.]]\n",
            "tmp2: -285.0\n",
            "before:  [[208 252 252]\n",
            " [208 252 252]\n",
            " [ 49 157 252]]\n",
            "tmp1: [[ 208.  504.  252.]\n",
            " [   0.    0.    0.]\n",
            " [ -49. -314. -252.]]\n",
            "tmp2: 349.0\n",
            "before:  [[208 252 252]\n",
            " [ 49 157 252]\n",
            " [  0   7 103]]\n",
            "tmp1: [[ 208.  504.  252.]\n",
            " [   0.    0.    0.]\n",
            " [  -0.  -14. -103.]]\n",
            "tmp2: 847.0\n",
            "before:  [[ 49 157 252]\n",
            " [  0   7 103]\n",
            " [  0   0   0]]\n",
            "tmp1: [[ 49. 314. 252.]\n",
            " [  0.   0.   0.]\n",
            " [ -0.  -0.  -0.]]\n",
            "tmp2: 615.0\n",
            "before:  [[  0   7 103]\n",
            " [  0   0   0]\n",
            " [  0   0   0]]\n",
            "tmp1: [[  0.  14. 103.]\n",
            " [  0.   0.   0.]\n",
            " [ -0.  -0.  -0.]]\n",
            "tmp2: 117.0\n",
            "before:  [[0 0 0]\n",
            " [0 0 0]\n",
            " [0 0 0]]\n",
            "tmp1: [[ 0.  0.  0.]\n",
            " [ 0.  0.  0.]\n",
            " [-0. -0. -0.]]\n",
            "tmp2: 0.0\n"
          ],
          "name": "stdout"
        },
        {
          "output_type": "execute_result",
          "data": {
            "text/plain": [
              "(26, 26)"
            ]
          },
          "metadata": {
            "tags": []
          },
          "execution_count": 150
        }
      ]
    },
    {
      "cell_type": "code",
      "metadata": {
        "id": "KglzCjskIWLE",
        "colab_type": "code",
        "colab": {
          "base_uri": "https://localhost:8080/",
          "height": 1000
        },
        "outputId": "ce6ebb8f-4656-4056-846e-47b489d707f8"
      },
      "source": [
        "v_image = get_filtered_image(vertical_filter)\n",
        "v_image.shape"
      ],
      "execution_count": 151,
      "outputs": [
        {
          "output_type": "stream",
          "text": [
            "before:  [[0 0 0]\n",
            " [0 0 0]\n",
            " [0 0 0]]\n",
            "tmp1: [[ 0.  0. -0.]\n",
            " [ 0.  0. -0.]\n",
            " [ 0.  0. -0.]]\n",
            "tmp2: 0.0\n",
            "before:  [[0 0 0]\n",
            " [0 0 0]\n",
            " [0 0 0]]\n",
            "tmp1: [[ 0.  0. -0.]\n",
            " [ 0.  0. -0.]\n",
            " [ 0.  0. -0.]]\n",
            "tmp2: 0.0\n",
            "before:  [[0 0 0]\n",
            " [0 0 0]\n",
            " [0 0 0]]\n",
            "tmp1: [[ 0.  0. -0.]\n",
            " [ 0.  0. -0.]\n",
            " [ 0.  0. -0.]]\n",
            "tmp2: 0.0\n",
            "before:  [[0 0 0]\n",
            " [0 0 0]\n",
            " [0 0 0]]\n",
            "tmp1: [[ 0.  0. -0.]\n",
            " [ 0.  0. -0.]\n",
            " [ 0.  0. -0.]]\n",
            "tmp2: 0.0\n",
            "before:  [[0 0 0]\n",
            " [0 0 0]\n",
            " [0 0 0]]\n",
            "tmp1: [[ 0.  0. -0.]\n",
            " [ 0.  0. -0.]\n",
            " [ 0.  0. -0.]]\n",
            "tmp2: 0.0\n",
            "before:  [[0 0 0]\n",
            " [0 0 0]\n",
            " [0 0 0]]\n",
            "tmp1: [[ 0.  0. -0.]\n",
            " [ 0.  0. -0.]\n",
            " [ 0.  0. -0.]]\n",
            "tmp2: 0.0\n",
            "before:  [[0 0 0]\n",
            " [0 0 0]\n",
            " [0 0 0]]\n",
            "tmp1: [[ 0.  0. -0.]\n",
            " [ 0.  0. -0.]\n",
            " [ 0.  0. -0.]]\n",
            "tmp2: 0.0\n",
            "before:  [[0 0 0]\n",
            " [0 0 0]\n",
            " [0 0 0]]\n",
            "tmp1: [[ 0.  0. -0.]\n",
            " [ 0.  0. -0.]\n",
            " [ 0.  0. -0.]]\n",
            "tmp2: 0.0\n",
            "before:  [[0 0 0]\n",
            " [0 0 0]\n",
            " [0 0 0]]\n",
            "tmp1: [[ 0.  0. -0.]\n",
            " [ 0.  0. -0.]\n",
            " [ 0.  0. -0.]]\n",
            "tmp2: 0.0\n",
            "before:  [[0 0 0]\n",
            " [0 0 0]\n",
            " [0 0 0]]\n",
            "tmp1: [[ 0.  0. -0.]\n",
            " [ 0.  0. -0.]\n",
            " [ 0.  0. -0.]]\n",
            "tmp2: 0.0\n",
            "before:  [[0 0 0]\n",
            " [0 0 0]\n",
            " [0 0 0]]\n",
            "tmp1: [[ 0.  0. -0.]\n",
            " [ 0.  0. -0.]\n",
            " [ 0.  0. -0.]]\n",
            "tmp2: 0.0\n",
            "before:  [[0 0 0]\n",
            " [0 0 0]\n",
            " [0 0 0]]\n",
            "tmp1: [[ 0.  0. -0.]\n",
            " [ 0.  0. -0.]\n",
            " [ 0.  0. -0.]]\n",
            "tmp2: 0.0\n",
            "before:  [[0 0 0]\n",
            " [0 0 0]\n",
            " [0 0 0]]\n",
            "tmp1: [[ 0.  0. -0.]\n",
            " [ 0.  0. -0.]\n",
            " [ 0.  0. -0.]]\n",
            "tmp2: 0.0\n",
            "before:  [[0 0 0]\n",
            " [0 0 0]\n",
            " [0 0 0]]\n",
            "tmp1: [[ 0.  0. -0.]\n",
            " [ 0.  0. -0.]\n",
            " [ 0.  0. -0.]]\n",
            "tmp2: 0.0\n",
            "before:  [[0 0 0]\n",
            " [0 0 0]\n",
            " [0 0 0]]\n",
            "tmp1: [[ 0.  0. -0.]\n",
            " [ 0.  0. -0.]\n",
            " [ 0.  0. -0.]]\n",
            "tmp2: 0.0\n",
            "before:  [[0 0 0]\n",
            " [0 0 0]\n",
            " [0 0 0]]\n",
            "tmp1: [[ 0.  0. -0.]\n",
            " [ 0.  0. -0.]\n",
            " [ 0.  0. -0.]]\n",
            "tmp2: 0.0\n",
            "before:  [[0 0 0]\n",
            " [0 0 0]\n",
            " [0 0 0]]\n",
            "tmp1: [[ 0.  0. -0.]\n",
            " [ 0.  0. -0.]\n",
            " [ 0.  0. -0.]]\n",
            "tmp2: 0.0\n",
            "before:  [[ 0  0  0]\n",
            " [ 0  0  0]\n",
            " [ 0  5 75]]\n",
            "tmp1: [[  0.   0.  -0.]\n",
            " [  0.   0.  -0.]\n",
            " [  0.   0. -75.]]\n",
            "tmp2: -75.0\n",
            "before:  [[  0   0   0]\n",
            " [  0   5  75]\n",
            " [ 61 183 252]]\n",
            "tmp1: [[   0.    0.   -0.]\n",
            " [   0.    0. -150.]\n",
            " [  61.    0. -252.]]\n",
            "tmp2: -341.0\n",
            "before:  [[  0   5  75]\n",
            " [ 61 183 252]\n",
            " [208 252 252]]\n",
            "tmp1: [[   0.    0.  -75.]\n",
            " [ 122.    0. -504.]\n",
            " [ 208.    0. -252.]]\n",
            "tmp2: -501.0\n",
            "before:  [[ 61 183 252]\n",
            " [208 252 252]\n",
            " [208 252 252]]\n",
            "tmp1: [[  61.    0. -252.]\n",
            " [ 416.    0. -504.]\n",
            " [ 208.    0. -252.]]\n",
            "tmp2: -323.0\n",
            "before:  [[208 252 252]\n",
            " [208 252 252]\n",
            " [ 49 157 252]]\n",
            "tmp1: [[ 208.    0. -252.]\n",
            " [ 416.    0. -504.]\n",
            " [  49.    0. -252.]]\n",
            "tmp2: -335.0\n",
            "before:  [[208 252 252]\n",
            " [ 49 157 252]\n",
            " [  0   7 103]]\n",
            "tmp1: [[ 208.    0. -252.]\n",
            " [  98.    0. -504.]\n",
            " [   0.    0. -103.]]\n",
            "tmp2: -553.0\n",
            "before:  [[ 49 157 252]\n",
            " [  0   7 103]\n",
            " [  0   0   0]]\n",
            "tmp1: [[  49.    0. -252.]\n",
            " [   0.    0. -206.]\n",
            " [   0.    0.   -0.]]\n",
            "tmp2: -409.0\n",
            "before:  [[  0   7 103]\n",
            " [  0   0   0]\n",
            " [  0   0   0]]\n",
            "tmp1: [[   0.    0. -103.]\n",
            " [   0.    0.   -0.]\n",
            " [   0.    0.   -0.]]\n",
            "tmp2: -103.0\n",
            "before:  [[0 0 0]\n",
            " [0 0 0]\n",
            " [0 0 0]]\n",
            "tmp1: [[ 0.  0. -0.]\n",
            " [ 0.  0. -0.]\n",
            " [ 0.  0. -0.]]\n",
            "tmp2: 0.0\n"
          ],
          "name": "stdout"
        },
        {
          "output_type": "execute_result",
          "data": {
            "text/plain": [
              "(26, 26)"
            ]
          },
          "metadata": {
            "tags": []
          },
          "execution_count": 151
        }
      ]
    },
    {
      "cell_type": "code",
      "metadata": {
        "id": "h-H3P3S5IZt9",
        "colab_type": "code",
        "colab": {
          "base_uri": "https://localhost:8080/",
          "height": 34
        },
        "outputId": "726e89d4-24d1-43fd-f807-64b1d22f078b"
      },
      "source": [
        "vertical_filter.shape"
      ],
      "execution_count": 152,
      "outputs": [
        {
          "output_type": "execute_result",
          "data": {
            "text/plain": [
              "(3, 3)"
            ]
          },
          "metadata": {
            "tags": []
          },
          "execution_count": 152
        }
      ]
    },
    {
      "cell_type": "markdown",
      "metadata": {
        "id": "9hgDePj3UME4",
        "colab_type": "text"
      },
      "source": [
        "- 결과"
      ]
    },
    {
      "cell_type": "code",
      "metadata": {
        "id": "DN2htULVIb_T",
        "colab_type": "code",
        "colab": {
          "base_uri": "https://localhost:8080/",
          "height": 146
        },
        "outputId": "f7955f49-a3ae-467c-bb63-a6896137f864"
      },
      "source": [
        "import matplotlib.pyplot as plt\n",
        "plt.subplot(1,3,1)\n",
        "plt.axis('off')\n",
        "plt.imshow(X_train[7])  # shape(28, 28)"
      ],
      "execution_count": 153,
      "outputs": [
        {
          "output_type": "execute_result",
          "data": {
            "text/plain": [
              "<matplotlib.image.AxesImage at 0x7fd08ac7fda0>"
            ]
          },
          "metadata": {
            "tags": []
          },
          "execution_count": 153
        },
        {
          "output_type": "display_data",
          "data": {
            "image/png": "[encoded data removed]",
            "text/plain": [
              "<Figure size 432x288 with 1 Axes>"
            ]
          },
          "metadata": {
            "tags": [],
            "needs_background": "light"
          }
        }
      ]
    },
    {
      "cell_type": "code",
      "metadata": {
        "id": "IwNAu5fnIfGB",
        "colab_type": "code",
        "colab": {
          "base_uri": "https://localhost:8080/",
          "height": 146
        },
        "outputId": "d11c99c2-e612-444c-859b-413bde6e4ee1"
      },
      "source": [
        "plt.subplot(1,3,2)\n",
        "plt.axis('off')\n",
        "plt.imshow(h_image)  # shape(26, 26)\n"
      ],
      "execution_count": 154,
      "outputs": [
        {
          "output_type": "execute_result",
          "data": {
            "text/plain": [
              "<matplotlib.image.AxesImage at 0x7fd08acb9cf8>"
            ]
          },
          "metadata": {
            "tags": []
          },
          "execution_count": 154
        },
        {
          "output_type": "display_data",
          "data": {
            "image/png": "[encoded data removed]",
            "text/plain": [
              "<Figure size 432x288 with 1 Axes>"
            ]
          },
          "metadata": {
            "tags": [],
            "needs_background": "light"
          }
        }
      ]
    },
    {
      "cell_type": "code",
      "metadata": {
        "id": "jSO9MH_OIltW",
        "colab_type": "code",
        "colab": {
          "base_uri": "https://localhost:8080/",
          "height": 129
        },
        "outputId": "c49d3650-7dc4-4715-ba26-8a9167ea86a9"
      },
      "source": [
        "plt.subplot(1,3,3)\n",
        "plt.axis('off')\n",
        "plt.imshow(v_image)  # shape(26, 26)\n",
        "plt.show()"
      ],
      "execution_count": 155,
      "outputs": [
        {
          "output_type": "display_data",
          "data": {
            "image/png": "[encoded data removed]",
            "text/plain": [
              "<Figure size 432x288 with 1 Axes>"
            ]
          },
          "metadata": {
            "tags": [],
            "needs_background": "light"
          }
        }
      ]
    },
    {
      "cell_type": "markdown",
      "metadata": {
        "id": "mC7fCEuiUbQq",
        "colab_type": "text"
      },
      "source": [
        "### 정규화\n"
      ]
    },
    {
      "cell_type": "code",
      "metadata": {
        "id": "bXmmnxYdUs7w",
        "colab_type": "code",
        "colab": {}
      },
      "source": [
        "import seaborn as sns"
      ],
      "execution_count": 156,
      "outputs": []
    },
    {
      "cell_type": "code",
      "metadata": {
        "id": "GGTz0mZvU94I",
        "colab_type": "code",
        "colab": {
          "base_uri": "https://localhost:8080/",
          "height": 34
        },
        "outputId": "de16ed4f-aabd-49b2-f8f8-fac8b0d6012b"
      },
      "source": [
        "X_train.max() - X_train.min()"
      ],
      "execution_count": 157,
      "outputs": [
        {
          "output_type": "execute_result",
          "data": {
            "text/plain": [
              "255"
            ]
          },
          "metadata": {
            "tags": []
          },
          "execution_count": 157
        }
      ]
    },
    {
      "cell_type": "code",
      "metadata": {
        "id": "UjaunX0sIlvu",
        "colab_type": "code",
        "colab": {}
      },
      "source": [
        "X_train =X_train/255.0\n",
        "X_test =X_test/255.0"
      ],
      "execution_count": 158,
      "outputs": []
    },
    {
      "cell_type": "code",
      "metadata": {
        "id": "jdjX6PmZVRS4",
        "colab_type": "code",
        "colab": {
          "base_uri": "https://localhost:8080/",
          "height": 34
        },
        "outputId": "de0c68c4-5882-4a3a-a4ce-56c8e7c2b660"
      },
      "source": [
        "X_train.shape"
      ],
      "execution_count": 159,
      "outputs": [
        {
          "output_type": "execute_result",
          "data": {
            "text/plain": [
              "(60000, 28, 28)"
            ]
          },
          "metadata": {
            "tags": []
          },
          "execution_count": 159
        }
      ]
    },
    {
      "cell_type": "code",
      "metadata": {
        "id": "IHFz7hgdXw-o",
        "colab_type": "code",
        "colab": {
          "base_uri": "https://localhost:8080/",
          "height": 34
        },
        "outputId": "f081abf5-6fd4-499c-94d6-1542c68652ae"
      },
      "source": [
        "X_test.shape"
      ],
      "execution_count": 160,
      "outputs": [
        {
          "output_type": "execute_result",
          "data": {
            "text/plain": [
              "(10000, 28, 28)"
            ]
          },
          "metadata": {
            "tags": []
          },
          "execution_count": 160
        }
      ]
    },
    {
      "cell_type": "markdown",
      "metadata": {
        "id": "k7AHqMg3Z1to",
        "colab_type": "text"
      },
      "source": [
        "- 채널 추가"
      ]
    },
    {
      "cell_type": "code",
      "metadata": {
        "id": "oBRRVttlVFyQ",
        "colab_type": "code",
        "colab": {}
      },
      "source": [
        "X_train=X_train.reshape(-1,28,28,1)"
      ],
      "execution_count": 161,
      "outputs": []
    },
    {
      "cell_type": "code",
      "metadata": {
        "id": "tgIvnTgVVVvr",
        "colab_type": "code",
        "colab": {}
      },
      "source": [
        "X_test =X_test.reshape(-1,28,28,1)"
      ],
      "execution_count": 162,
      "outputs": []
    },
    {
      "cell_type": "markdown",
      "metadata": {
        "id": "M1wSq3sVXZeY",
        "colab_type": "text"
      },
      "source": [
        "### 모델링"
      ]
    },
    {
      "cell_type": "code",
      "metadata": {
        "id": "8jSeBCc-VeKm",
        "colab_type": "code",
        "colab": {
          "base_uri": "https://localhost:8080/",
          "height": 404
        },
        "outputId": "80957d2b-d334-4bb8-d319-d847e7218c59"
      },
      "source": [
        "model = tf.keras.Sequential([\n",
        "  tf.keras.layers.Conv2D(input_shape = (28,28,1), padding='valid', kernel_size=(3, 3), filters = 16,activation = 'relu' ),\n",
        "  tf.keras.layers.Dropout(0.2),                      \n",
        "  tf.keras.layers.Conv2D(kernel_size = (3, 3), filters=32, padding=\"valid\",activation='relu'),\n",
        "  tf.keras.layers.Conv2D(kernel_size = (3, 3), filters=64, padding=\"valid\", activation='relu'),\n",
        "  tf.keras.layers.Flatten(),\n",
        "  tf.keras.layers.Dense(units=128, activation=\"relu\"),\n",
        "  tf.keras.layers.Dense(units=10, activation=\"softmax\")\n",
        "])\n",
        "model.summary()"
      ],
      "execution_count": 102,
      "outputs": [
        {
          "output_type": "stream",
          "text": [
            "Model: \"sequential_3\"\n",
            "_________________________________________________________________\n",
            "Layer (type)                 Output Shape              Param #   \n",
            "=================================================================\n",
            "conv2d_10 (Conv2D)           (None, 26, 26, 16)        160       \n",
            "_________________________________________________________________\n",
            "dropout_3 (Dropout)          (None, 26, 26, 16)        0         \n",
            "_________________________________________________________________\n",
            "conv2d_11 (Conv2D)           (None, 24, 24, 32)        4640      \n",
            "_________________________________________________________________\n",
            "conv2d_12 (Conv2D)           (None, 22, 22, 64)        18496     \n",
            "_________________________________________________________________\n",
            "flatten_3 (Flatten)          (None, 30976)             0         \n",
            "_________________________________________________________________\n",
            "dense_6 (Dense)              (None, 128)               3965056   \n",
            "_________________________________________________________________\n",
            "dense_7 (Dense)              (None, 10)                1290      \n",
            "=================================================================\n",
            "Total params: 3,989,642\n",
            "Trainable params: 3,989,642\n",
            "Non-trainable params: 0\n",
            "_________________________________________________________________\n"
          ],
          "name": "stdout"
        }
      ]
    },
    {
      "cell_type": "code",
      "metadata": {
        "id": "fPoVvMCGVgyR",
        "colab_type": "code",
        "colab": {}
      },
      "source": [
        "model.compile(optimizer = tf.keras.optimizers.Adam(), loss = 'sparse_categorical_crossentropy', metrics = ['accuracy'])"
      ],
      "execution_count": 103,
      "outputs": []
    },
    {
      "cell_type": "code",
      "metadata": {
        "id": "wDGnxQbTWPcg",
        "colab_type": "code",
        "colab": {
          "base_uri": "https://localhost:8080/",
          "height": 34
        },
        "outputId": "bf6d6da9-8a27-4bd1-a4b7-1bcd31d68d96"
      },
      "source": [
        "X_train.shape"
      ],
      "execution_count": 104,
      "outputs": [
        {
          "output_type": "execute_result",
          "data": {
            "text/plain": [
              "(60000, 28, 28)"
            ]
          },
          "metadata": {
            "tags": []
          },
          "execution_count": 104
        }
      ]
    },
    {
      "cell_type": "code",
      "metadata": {
        "id": "pg9EEDXEV5Or",
        "colab_type": "code",
        "colab": {}
      },
      "source": [
        "history = model.fit(X_train, y_train, validation_split = 0.2,batch_size=2000, epochs = 30)"
      ],
      "execution_count": null,
      "outputs": []
    },
    {
      "cell_type": "code",
      "metadata": {
        "id": "tGjCs00jWi9l",
        "colab_type": "code",
        "colab": {
          "base_uri": "https://localhost:8080/",
          "height": 298
        },
        "outputId": "3a0a0155-2f28-49f2-ff48-ca90f925f7c2"
      },
      "source": [
        "plt.title('Loss')\n",
        "plt.plot(history.history['loss'])\n",
        "plt.plot(history.history['val_loss'], label = 'val')\n",
        "plt.legend()"
      ],
      "execution_count": 184,
      "outputs": [
        {
          "output_type": "execute_result",
          "data": {
            "text/plain": [
              "<matplotlib.legend.Legend at 0x7fd08a3f6390>"
            ]
          },
          "metadata": {
            "tags": []
          },
          "execution_count": 184
        },
        {
          "output_type": "display_data",
          "data": {
            "image/png": "[encoded data removed]",
            "text/plain": [
              "<Figure size 432x288 with 1 Axes>"
            ]
          },
          "metadata": {
            "tags": [],
            "needs_background": "light"
          }
        }
      ]
    },
    {
      "cell_type": "code",
      "metadata": {
        "id": "-o46qebHWIu5",
        "colab_type": "code",
        "colab": {
          "base_uri": "https://localhost:8080/",
          "height": 298
        },
        "outputId": "35041a4e-f434-4b20-bdb1-e5b8d13f8e4f"
      },
      "source": [
        "plt.title('Acc')\n",
        "plt.plot(history.history['accuracy'])\n",
        "plt.plot(history.history['val_accuracy'], label = 'val')\n",
        "plt.legend()"
      ],
      "execution_count": 185,
      "outputs": [
        {
          "output_type": "execute_result",
          "data": {
            "text/plain": [
              "<matplotlib.legend.Legend at 0x7fd08a35fc88>"
            ]
          },
          "metadata": {
            "tags": []
          },
          "execution_count": 185
        },
        {
          "output_type": "display_data",
          "data": {
            "image/png": "[encoded data removed]",
            "text/plain": [
              "<Figure size 432x288 with 1 Axes>"
            ]
          },
          "metadata": {
            "tags": [],
            "needs_background": "light"
          }
        }
      ]
    },
    {
      "cell_type": "code",
      "metadata": {
        "id": "7poBQDg0XndS",
        "colab_type": "code",
        "colab": {
          "base_uri": "https://localhost:8080/",
          "height": 34
        },
        "outputId": "9c422cf5-e591-4eaf-d8a8-cd958ab4d39b"
      },
      "source": [
        "X_test.shape"
      ],
      "execution_count": 112,
      "outputs": [
        {
          "output_type": "execute_result",
          "data": {
            "text/plain": [
              "(60000, 28, 28, 1)"
            ]
          },
          "metadata": {
            "tags": []
          },
          "execution_count": 112
        }
      ]
    },
    {
      "cell_type": "code",
      "metadata": {
        "id": "8j3Mh01uXodW",
        "colab_type": "code",
        "colab": {
          "base_uri": "https://localhost:8080/",
          "height": 34
        },
        "outputId": "9474ce46-64dd-4821-e8fb-5ac272eab496"
      },
      "source": [
        "y_test.shape"
      ],
      "execution_count": 113,
      "outputs": [
        {
          "output_type": "execute_result",
          "data": {
            "text/plain": [
              "(10000,)"
            ]
          },
          "metadata": {
            "tags": []
          },
          "execution_count": 113
        }
      ]
    },
    {
      "cell_type": "code",
      "metadata": {
        "id": "hwzWJZ-DXevI",
        "colab_type": "code",
        "colab": {
          "base_uri": "https://localhost:8080/",
          "height": 52
        },
        "outputId": "4b6306df-8ef0-4790-8f9d-e13a5456a5ef"
      },
      "source": [
        "model.evaluate(X_test,y_test)"
      ],
      "execution_count": 163,
      "outputs": [
        {
          "output_type": "stream",
          "text": [
            "313/313 [==============================] - 1s 3ms/step - loss: 0.0524 - accuracy: 0.9883\n"
          ],
          "name": "stdout"
        },
        {
          "output_type": "execute_result",
          "data": {
            "text/plain": [
              "[0.05236462876200676, 0.9883000254631042]"
            ]
          },
          "metadata": {
            "tags": []
          },
          "execution_count": 163
        }
      ]
    },
    {
      "cell_type": "markdown",
      "metadata": {
        "id": "aIH3Ue5BYLHT",
        "colab_type": "text"
      },
      "source": [
        "## 옷 데이터"
      ]
    },
    {
      "cell_type": "code",
      "metadata": {
        "id": "xZj_ta2SXVm4",
        "colab_type": "code",
        "colab": {
          "base_uri": "https://localhost:8080/",
          "height": 158
        },
        "outputId": "9192d3e6-4991-4095-bd2e-059965e2fb25"
      },
      "source": [
        "(X_train, y_train),(X_test, y_test) = datasets.fashion_mnist.load_data()"
      ],
      "execution_count": 164,
      "outputs": [
        {
          "output_type": "stream",
          "text": [
            "Downloading data from https://storage.googleapis.com/tensorflow/tf-keras-datasets/train-labels-idx1-ubyte.gz\n",
            "32768/29515 [=================================] - 0s 0us/step\n",
            "Downloading data from https://storage.googleapis.com/tensorflow/tf-keras-datasets/train-images-idx3-ubyte.gz\n",
            "26427392/26421880 [==============================] - 0s 0us/step\n",
            "Downloading data from https://storage.googleapis.com/tensorflow/tf-keras-datasets/t10k-labels-idx1-ubyte.gz\n",
            "8192/5148 [===============================================] - 0s 0us/step\n",
            "Downloading data from https://storage.googleapis.com/tensorflow/tf-keras-datasets/t10k-images-idx3-ubyte.gz\n",
            "4423680/4422102 [==============================] - 0s 0us/step\n"
          ],
          "name": "stdout"
        }
      ]
    },
    {
      "cell_type": "code",
      "metadata": {
        "id": "3jjo34ewYh6w",
        "colab_type": "code",
        "colab": {
          "base_uri": "https://localhost:8080/",
          "height": 34
        },
        "outputId": "409c04af-fcbd-4baf-abea-9ad80f9a2b39"
      },
      "source": [
        "X_train.shape"
      ],
      "execution_count": 165,
      "outputs": [
        {
          "output_type": "execute_result",
          "data": {
            "text/plain": [
              "(60000, 28, 28)"
            ]
          },
          "metadata": {
            "tags": []
          },
          "execution_count": 165
        }
      ]
    },
    {
      "cell_type": "code",
      "metadata": {
        "id": "ATJytDqTYjQH",
        "colab_type": "code",
        "colab": {
          "base_uri": "https://localhost:8080/",
          "height": 34
        },
        "outputId": "e4fd92f7-8126-4254-c7ff-f1c2f0bcfa9f"
      },
      "source": [
        "X_test.shape"
      ],
      "execution_count": 166,
      "outputs": [
        {
          "output_type": "execute_result",
          "data": {
            "text/plain": [
              "(10000, 28, 28)"
            ]
          },
          "metadata": {
            "tags": []
          },
          "execution_count": 166
        }
      ]
    },
    {
      "cell_type": "code",
      "metadata": {
        "id": "sc_F1wriYkew",
        "colab_type": "code",
        "colab": {
          "base_uri": "https://localhost:8080/",
          "height": 192
        },
        "outputId": "a0885459-4c14-4b9b-b9a0-d46e1556c677"
      },
      "source": [
        "plt.figure(figsize=(12,3))\n",
        "for i in range(4):\n",
        "  plt.subplot(1,4,i+1)\n",
        "  plt.axis('off')\n",
        "  plt.title(f\"{y_train[i]}\")\n",
        "  plt.imshow(X_train[i])"
      ],
      "execution_count": 173,
      "outputs": [
        {
          "output_type": "display_data",
          "data": {
            "image/png": "[encoded data removed]",
            "text/plain": [
              "<Figure size 864x216 with 4 Axes>"
            ]
          },
          "metadata": {
            "tags": [],
            "needs_background": "light"
          }
        }
      ]
    },
    {
      "cell_type": "markdown",
      "metadata": {
        "id": "gsyVIlcDY65K",
        "colab_type": "text"
      },
      "source": [
        "### 정규화\n",
        "\n"
      ]
    },
    {
      "cell_type": "code",
      "metadata": {
        "id": "VMpjvT4RY9BG",
        "colab_type": "code",
        "colab": {}
      },
      "source": [
        "X_train = X_train/255.0\n",
        "X_test = X_test/255.0"
      ],
      "execution_count": 174,
      "outputs": []
    },
    {
      "cell_type": "code",
      "metadata": {
        "id": "dq65bTnEZCe_",
        "colab_type": "code",
        "colab": {}
      },
      "source": [
        "X_train = X_train.reshape(-1,28,28,1)\n",
        "X_test = X_test.reshape(-1,28,28,1)"
      ],
      "execution_count": 175,
      "outputs": []
    },
    {
      "cell_type": "markdown",
      "metadata": {
        "id": "p0juUU2GaWZn",
        "colab_type": "text"
      },
      "source": [
        "### 모델링"
      ]
    },
    {
      "cell_type": "code",
      "metadata": {
        "id": "gk0IZdHoZK0l",
        "colab_type": "code",
        "colab": {
          "base_uri": "https://localhost:8080/",
          "height": 404
        },
        "outputId": "0aaec2a4-84b5-41f3-c073-dff0bb507db5"
      },
      "source": [
        "model2 = tf.keras.Sequential([\n",
        "  tf.keras.layers.Conv2D(input_shape = (28,28,1), padding='valid', kernel_size=(3, 3), filters = 16,activation = 'relu' ),\n",
        "  tf.keras.layers.Dropout(0.2),                      \n",
        "  tf.keras.layers.Conv2D(kernel_size = (3, 3), filters=32, padding=\"valid\",activation='relu'),\n",
        "  tf.keras.layers.Conv2D(kernel_size = (3, 3), filters=64, padding=\"valid\", activation='relu'),\n",
        "  tf.keras.layers.Flatten(),\n",
        "  tf.keras.layers.Dense(units=128, activation=\"relu\"),\n",
        "  tf.keras.layers.Dense(units=10, activation=\"softmax\")\n",
        "])\n",
        "model2.summary()"
      ],
      "execution_count": 176,
      "outputs": [
        {
          "output_type": "stream",
          "text": [
            "Model: \"sequential_4\"\n",
            "_________________________________________________________________\n",
            "Layer (type)                 Output Shape              Param #   \n",
            "=================================================================\n",
            "conv2d_13 (Conv2D)           (None, 26, 26, 16)        160       \n",
            "_________________________________________________________________\n",
            "dropout_4 (Dropout)          (None, 26, 26, 16)        0         \n",
            "_________________________________________________________________\n",
            "conv2d_14 (Conv2D)           (None, 24, 24, 32)        4640      \n",
            "_________________________________________________________________\n",
            "conv2d_15 (Conv2D)           (None, 22, 22, 64)        18496     \n",
            "_________________________________________________________________\n",
            "flatten_4 (Flatten)          (None, 30976)             0         \n",
            "_________________________________________________________________\n",
            "dense_8 (Dense)              (None, 128)               3965056   \n",
            "_________________________________________________________________\n",
            "dense_9 (Dense)              (None, 10)                1290      \n",
            "=================================================================\n",
            "Total params: 3,989,642\n",
            "Trainable params: 3,989,642\n",
            "Non-trainable params: 0\n",
            "_________________________________________________________________\n"
          ],
          "name": "stdout"
        }
      ]
    },
    {
      "cell_type": "code",
      "metadata": {
        "id": "FVCKfA4LZUpt",
        "colab_type": "code",
        "colab": {}
      },
      "source": [
        "model2.compile(optimizer = tf.keras.optimizers.Adam(), loss= 'sparse_categorical_crossentropy', metrics=['accuracy'])"
      ],
      "execution_count": 177,
      "outputs": []
    },
    {
      "cell_type": "code",
      "metadata": {
        "id": "G_vCfg5_Zd0S",
        "colab_type": "code",
        "colab": {}
      },
      "source": [
        "history2 = model2.fit(X_train, y_train, validation_split =0.2, batch_size= 2000, epochs = 30)"
      ],
      "execution_count": null,
      "outputs": []
    },
    {
      "cell_type": "code",
      "metadata": {
        "id": "Cava0DMOZlrC",
        "colab_type": "code",
        "colab": {
          "base_uri": "https://localhost:8080/",
          "height": 298
        },
        "outputId": "bbcf9dec-e5e6-4ce7-be08-5df005b7da7b"
      },
      "source": [
        "plt.title('Loss')\n",
        "plt.plot(history2.history['loss'])\n",
        "plt.plot(history2.history['val_loss'], label = 'val')\n",
        "plt.legend()"
      ],
      "execution_count": 182,
      "outputs": [
        {
          "output_type": "execute_result",
          "data": {
            "text/plain": [
              "<matplotlib.legend.Legend at 0x7fd08a49f2b0>"
            ]
          },
          "metadata": {
            "tags": []
          },
          "execution_count": 182
        },
        {
          "output_type": "display_data",
          "data": {
            "image/png": "[encoded data removed]",
            "text/plain": [
              "<Figure size 432x288 with 1 Axes>"
            ]
          },
          "metadata": {
            "tags": [],
            "needs_background": "light"
          }
        }
      ]
    },
    {
      "cell_type": "code",
      "metadata": {
        "id": "81QpPEHvXVsU",
        "colab_type": "code",
        "colab": {
          "base_uri": "https://localhost:8080/",
          "height": 298
        },
        "outputId": "6e62d97c-b4a1-49d2-f43b-5bdded83740e"
      },
      "source": [
        "plt.title('Acc')\n",
        "plt.plot(history2.history['accuracy'])\n",
        "plt.plot(history2.history['val_accuracy'], label = 'val')\n",
        "plt.legend()"
      ],
      "execution_count": 181,
      "outputs": [
        {
          "output_type": "execute_result",
          "data": {
            "text/plain": [
              "<matplotlib.legend.Legend at 0x7fd08a5390b8>"
            ]
          },
          "metadata": {
            "tags": []
          },
          "execution_count": 181
        },
        {
          "output_type": "display_data",
          "data": {
            "image/png": "[encoded data removed]",
            "text/plain": [
              "<Figure size 432x288 with 1 Axes>"
            ]
          },
          "metadata": {
            "tags": [],
            "needs_background": "light"
          }
        }
      ]
    },
    {
      "cell_type": "code",
      "metadata": {
        "id": "fvYaD2qCahP_",
        "colab_type": "code",
        "colab": {
          "base_uri": "https://localhost:8080/",
          "height": 52
        },
        "outputId": "4ee7c0ac-9ccb-40c8-c335-37ef179dd4f4"
      },
      "source": [
        "model2.evaluate(X_test, y_test)"
      ],
      "execution_count": 187,
      "outputs": [
        {
          "output_type": "stream",
          "text": [
            "313/313 [==============================] - 1s 3ms/step - loss: 0.3121 - accuracy: 0.9123\n"
          ],
          "name": "stdout"
        },
        {
          "output_type": "execute_result",
          "data": {
            "text/plain": [
              "[0.3121039867401123, 0.9122999906539917]"
            ]
          },
          "metadata": {
            "tags": []
          },
          "execution_count": 187
        }
      ]
    },
    {
      "cell_type": "markdown",
      "metadata": {
        "id": "ifVtXDuDaRUm",
        "colab_type": "text"
      },
      "source": [
        "### 이미지 보강\n",
        "- rotation_range : 이미지회전값\n",
        "- zoom_range : 이미지일부확대\n",
        "- shear_range : 이미지기울기\n",
        "- width_shift_range : 좌우이동\n",
        "- height_shift_range : 상하이동\n",
        "- horizontal_flip : 이미지가로뒤집기\n",
        "- vertical_filp : 이미지세로뒤집기 \n"
      ]
    },
    {
      "cell_type": "code",
      "metadata": {
        "id": "Gu2hJV1KaE9A",
        "colab_type": "code",
        "colab": {}
      },
      "source": [
        "tmp1 = X_test[:10]\n",
        "tmp1 = tmp1.reshape(-1,28,28,1)"
      ],
      "execution_count": 193,
      "outputs": []
    },
    {
      "cell_type": "code",
      "metadata": {
        "id": "1uwZerAuae81",
        "colab_type": "code",
        "colab": {}
      },
      "source": [
        "from keras.preprocessing.image import ImageDataGenerator\n",
        "# 생성될 이미지 환경 설정\n",
        "datagen = ImageDataGenerator(\n",
        "    rotation_range=10,\n",
        "    zoom_range=0.5,\n",
        "    shear_range=0.5,\n",
        "    width_shift_range=0.10,\n",
        "    height_shift_range=0.10,\n",
        "    horizontal_flip=True,\n",
        "    vertical_flip=False)\n"
      ],
      "execution_count": 198,
      "outputs": []
    },
    {
      "cell_type": "code",
      "metadata": {
        "id": "zSRoZwm9bdJi",
        "colab_type": "code",
        "colab": {
          "base_uri": "https://localhost:8080/",
          "height": 275
        },
        "outputId": "0d560ada-7fcb-4ec2-80d1-c6af9f8689f0"
      },
      "source": [
        "plt.figure(figsize=(10,5))\n",
        "for i in range(10):\n",
        "  plt.subplot(2,5,i+1)\n",
        "  plt.axis('off')\n",
        "  plt.imshow(X_test[i].reshape(28,28))"
      ],
      "execution_count": 205,
      "outputs": [
        {
          "output_type": "display_data",
          "data": {
            "image/png": "[encoded data removed]",
            "text/plain": [
              "<Figure size 720x360 with 10 Axes>"
            ]
          },
          "metadata": {
            "tags": [],
            "needs_background": "light"
          }
        }
      ]
    },
    {
      "cell_type": "code",
      "metadata": {
        "id": "6sKEziJ2awmq",
        "colab_type": "code",
        "colab": {
          "base_uri": "https://localhost:8080/",
          "height": 34
        },
        "outputId": "f33563b0-0002-412d-970b-c77a19e4e03a"
      },
      "source": [
        "# 생성된 이미지 꺼내기\n",
        "tmp2 = datagen.flow(tmp1,batch_size=10).next()\n",
        "tmp2.shape"
      ],
      "execution_count": 209,
      "outputs": [
        {
          "output_type": "execute_result",
          "data": {
            "text/plain": [
              "(10, 28, 28, 1)"
            ]
          },
          "metadata": {
            "tags": []
          },
          "execution_count": 209
        }
      ]
    },
    {
      "cell_type": "code",
      "metadata": {
        "id": "DgftTxvAbKyR",
        "colab_type": "code",
        "colab": {}
      },
      "source": [
        "tmp2"
      ],
      "execution_count": null,
      "outputs": []
    },
    {
      "cell_type": "code",
      "metadata": {
        "id": "_U48soona3Kg",
        "colab_type": "code",
        "colab": {
          "base_uri": "https://localhost:8080/",
          "height": 275
        },
        "outputId": "54056f8d-59b7-4c5a-ac99-0ca7a2121b1f"
      },
      "source": [
        "plt.figure(figsize=(10,5))\n",
        "for i in range(10):\n",
        "  plt.subplot(2,5,i+1)\n",
        "  plt.axis('off')\n",
        "  plt.imshow(tmp2[i].reshape(28,28))"
      ],
      "execution_count": 210,
      "outputs": [
        {
          "output_type": "display_data",
          "data": {
            "image/png": "[encoded data removed]",
            "text/plain": [
              "<Figure size 720x360 with 10 Axes>"
            ]
          },
          "metadata": {
            "tags": [],
            "needs_background": "light"
          }
        }
      ]
    },
    {
      "cell_type": "markdown",
      "metadata": {
        "id": "VpEXjgdXcN2w",
        "colab_type": "text"
      },
      "source": [
        "- 이미지 한장을 100장으로 만들기"
      ]
    },
    {
      "cell_type": "code",
      "metadata": {
        "id": "NjeM9BW9b2Az",
        "colab_type": "code",
        "colab": {}
      },
      "source": [
        "tmp3 = np.tile(X_train[0].reshape(28*28), 100).reshape(-1, 28,28,1)"
      ],
      "execution_count": 211,
      "outputs": []
    },
    {
      "cell_type": "code",
      "metadata": {
        "id": "80WgQyt1cYLv",
        "colab_type": "code",
        "colab": {
          "base_uri": "https://localhost:8080/",
          "height": 34
        },
        "outputId": "b82d28b3-1998-487f-93fb-d4cc0247e779"
      },
      "source": [
        "# datagen환경에 따라 원본이미지를 바탕으로 변형된 이미지 100장 생성함\n",
        "image1 = datagen.flow(tmp3, np.zeros(100),batch_size=100, shuffle=False ).next()[0]\n",
        "image1.shape  "
      ],
      "execution_count": 213,
      "outputs": [
        {
          "output_type": "execute_result",
          "data": {
            "text/plain": [
              "(100, 28, 28, 1)"
            ]
          },
          "metadata": {
            "tags": []
          },
          "execution_count": 213
        }
      ]
    },
    {
      "cell_type": "code",
      "metadata": {
        "id": "QWJi1KvlckBe",
        "colab_type": "code",
        "colab": {
          "base_uri": "https://localhost:8080/",
          "height": 248
        },
        "outputId": "c28c5b4c-9574-47c4-bc06-b616e492b172"
      },
      "source": [
        "for i in range(100):\n",
        "  plt.subplot(10,10,i+1)\n",
        "  plt.axis('off')\n",
        "  plt.imshow(image1[i].reshape(28,28))"
      ],
      "execution_count": 214,
      "outputs": [
        {
          "output_type": "display_data",
          "data": {
            "image/png": "[encoded data removed]",
            "text/plain": [
              "<Figure size 432x288 with 100 Axes>"
            ]
          },
          "metadata": {
            "tags": [],
            "needs_background": "light"
          }
        }
      ]
    },
    {
      "cell_type": "code",
      "metadata": {
        "id": "QqQRw8jLckFA",
        "colab_type": "code",
        "colab": {
          "base_uri": "https://localhost:8080/",
          "height": 34
        },
        "outputId": "33730f6e-39c5-4264-cd82-ad5455c8089c"
      },
      "source": [
        "# 랜덤으로 30000개 정수 뽑기\n",
        "randnum = np.random.randint(60000, size=30000)\n",
        "randnum[:5]  #생성한 숫자 5개 확인"
      ],
      "execution_count": 216,
      "outputs": [
        {
          "output_type": "execute_result",
          "data": {
            "text/plain": [
              "array([17668, 12382, 33094,  2256, 45025])"
            ]
          },
          "metadata": {
            "tags": []
          },
          "execution_count": 216
        }
      ]
    },
    {
      "cell_type": "code",
      "metadata": {
        "id": "oFnIcUhwctLv",
        "colab_type": "code",
        "colab": {}
      },
      "source": [
        "\n",
        "# 30000개 임시 변수에 복사함.\n",
        "tmp_img = X_train[ randnum ].copy() #이미지\n",
        "tmp_lbl = y_train[ randnum ].copy() "
      ],
      "execution_count": 218,
      "outputs": []
    },
    {
      "cell_type": "code",
      "metadata": {
        "id": "gYs2CLq9c5B1",
        "colab_type": "code",
        "colab": {}
      },
      "source": [
        "# https://www.tensorflow.org/api_docs/python/tf/keras/preprocessing/image/ImageDataGenerator\n",
        "image2 = datagen.flow(tmp_img, np.zeros(30000), batch_size=30000, shuffle=False ).next()[0]"
      ],
      "execution_count": 219,
      "outputs": []
    },
    {
      "cell_type": "code",
      "metadata": {
        "id": "uGw9ReJzc5ET",
        "colab_type": "code",
        "colab": {
          "base_uri": "https://localhost:8080/",
          "height": 34
        },
        "outputId": "61e5706d-1022-402a-8dfe-60e19b80c9e4"
      },
      "source": [
        "X_train1 = np.concatenate((X_train, image2 )) #60000+30000\n",
        "y_train1 = np.concatenate((y_train, tmp_lbl))\n",
        "X_train1.shape"
      ],
      "execution_count": 220,
      "outputs": [
        {
          "output_type": "execute_result",
          "data": {
            "text/plain": [
              "(90000, 28, 28, 1)"
            ]
          },
          "metadata": {
            "tags": []
          },
          "execution_count": 220
        }
      ]
    },
    {
      "cell_type": "code",
      "metadata": {
        "id": "uMxB2wnxdKgS",
        "colab_type": "code",
        "colab": {
          "base_uri": "https://localhost:8080/",
          "height": 34
        },
        "outputId": "a324efa7-e145-4004-cf75-83a4a520fdfc"
      },
      "source": [
        "y_train1.shape"
      ],
      "execution_count": 222,
      "outputs": [
        {
          "output_type": "execute_result",
          "data": {
            "text/plain": [
              "(90000,)"
            ]
          },
          "metadata": {
            "tags": []
          },
          "execution_count": 222
        }
      ]
    },
    {
      "cell_type": "code",
      "metadata": {
        "id": "pUuMsOjadSly",
        "colab_type": "code",
        "colab": {}
      },
      "source": [
        "history3 = model2.fit(X_train1, y_train1, batch_size = 5000, epochs=30, validation_split=0.2)"
      ],
      "execution_count": null,
      "outputs": []
    },
    {
      "cell_type": "code",
      "metadata": {
        "id": "ptHnNHGJdfIz",
        "colab_type": "code",
        "colab": {
          "base_uri": "https://localhost:8080/",
          "height": 298
        },
        "outputId": "8518b085-8ea7-42a9-a10a-c9b84977a249"
      },
      "source": [
        "plt.title('Loss')\n",
        "plt.plot(history3.history['loss'])\n",
        "plt.plot(history3.history['val_loss'], label = 'val')\n",
        "plt.legend()"
      ],
      "execution_count": 226,
      "outputs": [
        {
          "output_type": "execute_result",
          "data": {
            "text/plain": [
              "<matplotlib.legend.Legend at 0x7fcf615d3630>"
            ]
          },
          "metadata": {
            "tags": []
          },
          "execution_count": 226
        },
        {
          "output_type": "display_data",
          "data": {
            "image/png": "[encoded data removed]",
            "text/plain": [
              "<Figure size 432x288 with 1 Axes>"
            ]
          },
          "metadata": {
            "tags": [],
            "needs_background": "light"
          }
        }
      ]
    },
    {
      "cell_type": "code",
      "metadata": {
        "id": "Ju2GmUE0dSt2",
        "colab_type": "code",
        "colab": {
          "base_uri": "https://localhost:8080/",
          "height": 298
        },
        "outputId": "6f1cd8ad-e26c-4064-9f57-1ff0d9bdcc92"
      },
      "source": [
        "plt.title('Acc')\n",
        "plt.plot(history3.history['accuracy'])\n",
        "plt.plot(history3.history['val_accuracy'], label = 'val')\n",
        "plt.legend()"
      ],
      "execution_count": 227,
      "outputs": [
        {
          "output_type": "execute_result",
          "data": {
            "text/plain": [
              "<matplotlib.legend.Legend at 0x7fcf615b7d68>"
            ]
          },
          "metadata": {
            "tags": []
          },
          "execution_count": 227
        },
        {
          "output_type": "display_data",
          "data": {
            "image/png": "[encoded data removed]",
            "text/plain": [
              "<Figure size 432x288 with 1 Axes>"
            ]
          },
          "metadata": {
            "tags": [],
            "needs_background": "light"
          }
        }
      ]
    },
    {
      "cell_type": "code",
      "metadata": {
        "id": "0fHmGaOgdoNQ",
        "colab_type": "code",
        "colab": {
          "base_uri": "https://localhost:8080/",
          "height": 52
        },
        "outputId": "654d4837-0388-4ac3-bef6-870bf3a43110"
      },
      "source": [
        "model2.evaluate(X_test, y_test)"
      ],
      "execution_count": 228,
      "outputs": [
        {
          "output_type": "stream",
          "text": [
            "313/313 [==============================] - 1s 3ms/step - loss: 0.4253 - accuracy: 0.9114\n"
          ],
          "name": "stdout"
        },
        {
          "output_type": "execute_result",
          "data": {
            "text/plain": [
              "[0.4252684712409973, 0.9114000201225281]"
            ]
          },
          "metadata": {
            "tags": []
          },
          "execution_count": 228
        }
      ]
    }
  ]
}